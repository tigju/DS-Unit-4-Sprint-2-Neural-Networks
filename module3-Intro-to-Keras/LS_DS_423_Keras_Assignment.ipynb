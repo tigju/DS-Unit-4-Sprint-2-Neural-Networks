{
 "cells": [
  {
   "cell_type": "markdown",
   "metadata": {
    "colab_type": "text",
    "id": "pBQsZEJmubLs"
   },
   "source": [
    "<img align=\"left\" src=\"https://lever-client-logos.s3.amazonaws.com/864372b1-534c-480e-acd5-9711f850815c-1524247202159.png\" width=200>\n",
    "<br></br>\n",
    "\n",
    "# Neural Network Framework (Keras)\n",
    "\n",
    "## *Data Science Unit 4 Sprint 2 Assignment 3*\n",
    "\n",
    "## Use the Keras Library to build a Multi-Layer Perceptron Model on the Boston Housing dataset\n",
    "\n",
    "- The Boston Housing dataset comes with the Keras library so use Keras to import it into your notebook. \n",
    "- Normalize the data (all features should have roughly the same scale)\n",
    "- Import the type of model and layers that you will need from Keras.\n",
    "- Instantiate a model object and use `model.add()` to add layers to your model\n",
    "- Since this is a regression model you will have a single output node in the final layer.\n",
    "- Use activation functions that are appropriate for this task\n",
    "- Compile your model\n",
    "- Fit your model and report its accuracy in terms of Mean Squared Error\n",
    "- Use the history object that is returned from model.fit to make graphs of the model's loss or train/validation accuracies by epoch. \n",
    "- Run this same data through a linear regression model. Which achieves higher accuracy?\n",
    "- Do a little bit of feature engineering and see how that affects your neural network model. (you will need to change your model to accept more inputs)\n",
    "- After feature engineering, which model sees a greater accuracy boost due to the new features?"
   ]
  },
  {
   "cell_type": "code",
   "execution_count": 51,
   "metadata": {
    "colab": {},
    "colab_type": "code",
    "id": "8NLTAR87uYJ-"
   },
   "outputs": [],
   "source": [
    "##### Your Code Here #####\n",
    "import pandas as pd\n",
    "# import boston housing data from keras\n",
    "from tensorflow.keras.datasets import boston_housing\n",
    "from tensorflow.keras import Sequential\n",
    "from tensorflow.keras.layers import Dense\n",
    "from tensorflow.keras.optimizers import RMSprop\n",
    "from tensorflow.keras.callbacks import TensorBoard"
   ]
  },
  {
   "cell_type": "code",
   "execution_count": 19,
   "metadata": {},
   "outputs": [],
   "source": [
    "#  split data between train and test sets\n",
    "(X_train, y_train), (X_test, y_test) = boston_housing.load_data()"
   ]
  },
  {
   "cell_type": "code",
   "execution_count": 37,
   "metadata": {},
   "outputs": [],
   "source": [
    "features = ['CRIM', 'ZN', 'INDUS', 'CHAS', 'NOX', 'RM','AGE', 'DIS', 'RAD', 'TAX', 'PTRATIO', 'B', 'LSTAT']\n",
    "target = 'MEDV'"
   ]
  },
  {
   "cell_type": "code",
   "execution_count": 38,
   "metadata": {},
   "outputs": [
    {
     "name": "stdout",
     "output_type": "stream",
     "text": [
      "(404, 13)\n"
     ]
    },
    {
     "data": {
      "text/plain": [
       "array([  1.23247,   0.     ,   8.14   ,   0.     ,   0.538  ,   6.142  ,\n",
       "        91.7    ,   3.9769 ,   4.     , 307.     ,  21.     , 396.9    ,\n",
       "        18.72   ])"
      ]
     },
     "execution_count": 38,
     "metadata": {},
     "output_type": "execute_result"
    }
   ],
   "source": [
    "print(X_train.shape)\n",
    "X_train[0]"
   ]
  },
  {
   "cell_type": "code",
   "execution_count": 11,
   "metadata": {},
   "outputs": [
    {
     "data": {
      "text/plain": [
       "array([15.2, 42.3, 50. , 21.1, 17.7, 18.5, 11.3, 15.6, 15.6, 14.4, 12.1,\n",
       "       17.9, 23.1, 19.9, 15.7,  8.8, 50. , 22.5, 24.1, 27.5, 10.9, 30.8,\n",
       "       32.9, 24. , 18.5, 13.3, 22.9, 34.7, 16.6, 17.5, 22.3, 16.1, 14.9,\n",
       "       23.1, 34.9, 25. , 13.9, 13.1, 20.4, 20. , 15.2, 24.7, 22.2, 16.7,\n",
       "       12.7, 15.6, 18.4, 21. , 30.1, 15.1, 18.7,  9.6, 31.5, 24.8, 19.1,\n",
       "       22. , 14.5, 11. , 32. , 29.4, 20.3, 24.4, 14.6, 19.5, 14.1, 14.3,\n",
       "       15.6, 10.5,  6.3, 19.3, 19.3, 13.4, 36.4, 17.8, 13.5, 16.5,  8.3,\n",
       "       14.3, 16. , 13.4, 28.6, 43.5, 20.2, 22. , 23. , 20.7, 12.5, 48.5,\n",
       "       14.6, 13.4, 23.7, 50. , 21.7, 39.8, 38.7, 22.2, 34.9, 22.5, 31.1,\n",
       "       28.7, 46. , 41.7, 21. , 26.6, 15. , 24.4, 13.3, 21.2, 11.7, 21.7,\n",
       "       19.4, 50. , 22.8, 19.7, 24.7, 36.2, 14.2, 18.9, 18.3, 20.6, 24.6,\n",
       "       18.2,  8.7, 44. , 10.4, 13.2, 21.2, 37. , 30.7, 22.9, 20. , 19.3,\n",
       "       31.7, 32. , 23.1, 18.8, 10.9, 50. , 19.6,  5. , 14.4, 19.8, 13.8,\n",
       "       19.6, 23.9, 24.5, 25. , 19.9, 17.2, 24.6, 13.5, 26.6, 21.4, 11.9,\n",
       "       22.6, 19.6,  8.5, 23.7, 23.1, 22.4, 20.5, 23.6, 18.4, 35.2, 23.1,\n",
       "       27.9, 20.6, 23.7, 28. , 13.6, 27.1, 23.6, 20.6, 18.2, 21.7, 17.1,\n",
       "        8.4, 25.3, 13.8, 22.2, 18.4, 20.7, 31.6, 30.5, 20.3,  8.8, 19.2,\n",
       "       19.4, 23.1, 23. , 14.8, 48.8, 22.6, 33.4, 21.1, 13.6, 32.2, 13.1,\n",
       "       23.4, 18.9, 23.9, 11.8, 23.3, 22.8, 19.6, 16.7, 13.4, 22.2, 20.4,\n",
       "       21.8, 26.4, 14.9, 24.1, 23.8, 12.3, 29.1, 21. , 19.5, 23.3, 23.8,\n",
       "       17.8, 11.5, 21.7, 19.9, 25. , 33.4, 28.5, 21.4, 24.3, 27.5, 33.1,\n",
       "       16.2, 23.3, 48.3, 22.9, 22.8, 13.1, 12.7, 22.6, 15. , 15.3, 10.5,\n",
       "       24. , 18.5, 21.7, 19.5, 33.2, 23.2,  5. , 19.1, 12.7, 22.3, 10.2,\n",
       "       13.9, 16.3, 17. , 20.1, 29.9, 17.2, 37.3, 45.4, 17.8, 23.2, 29. ,\n",
       "       22. , 18. , 17.4, 34.6, 20.1, 25. , 15.6, 24.8, 28.2, 21.2, 21.4,\n",
       "       23.8, 31. , 26.2, 17.4, 37.9, 17.5, 20. ,  8.3, 23.9,  8.4, 13.8,\n",
       "        7.2, 11.7, 17.1, 21.6, 50. , 16.1, 20.4, 20.6, 21.4, 20.6, 36.5,\n",
       "        8.5, 24.8, 10.8, 21.9, 17.3, 18.9, 36.2, 14.9, 18.2, 33.3, 21.8,\n",
       "       19.7, 31.6, 24.8, 19.4, 22.8,  7.5, 44.8, 16.8, 18.7, 50. , 50. ,\n",
       "       19.5, 20.1, 50. , 17.2, 20.8, 19.3, 41.3, 20.4, 20.5, 13.8, 16.5,\n",
       "       23.9, 20.6, 31.5, 23.3, 16.8, 14. , 33.8, 36.1, 12.8, 18.3, 18.7,\n",
       "       19.1, 29. , 30.1, 50. , 50. , 22. , 11.9, 37.6, 50. , 22.7, 20.8,\n",
       "       23.5, 27.9, 50. , 19.3, 23.9, 22.6, 15.2, 21.7, 19.2, 43.8, 20.3,\n",
       "       33.2, 19.9, 22.5, 32.7, 22. , 17.1, 19. , 15. , 16.1, 25.1, 23.7,\n",
       "       28.7, 37.2, 22.6, 16.4, 25. , 29.8, 22.1, 17.4, 18.1, 30.3, 17.5,\n",
       "       24.7, 12.6, 26.5, 28.7, 13.3, 10.4, 24.4, 23. , 20. , 17.8,  7. ,\n",
       "       11.8, 24.4, 13.8, 19.4, 25.2, 19.4, 19.4, 29.1])"
      ]
     },
     "execution_count": 11,
     "metadata": {},
     "output_type": "execute_result"
    }
   ],
   "source": [
    "y_train"
   ]
  },
  {
   "cell_type": "code",
   "execution_count": 10,
   "metadata": {},
   "outputs": [
    {
     "name": "stdout",
     "output_type": "stream",
     "text": [
      "(102, 13)\n"
     ]
    },
    {
     "data": {
      "text/plain": [
       "array([[1.80846e+01, 0.00000e+00, 1.81000e+01, ..., 2.02000e+01,\n",
       "        2.72500e+01, 2.90500e+01],\n",
       "       [1.23290e-01, 0.00000e+00, 1.00100e+01, ..., 1.78000e+01,\n",
       "        3.94950e+02, 1.62100e+01],\n",
       "       [5.49700e-02, 0.00000e+00, 5.19000e+00, ..., 2.02000e+01,\n",
       "        3.96900e+02, 9.74000e+00],\n",
       "       ...,\n",
       "       [1.83377e+00, 0.00000e+00, 1.95800e+01, ..., 1.47000e+01,\n",
       "        3.89610e+02, 1.92000e+00],\n",
       "       [3.58090e-01, 0.00000e+00, 6.20000e+00, ..., 1.74000e+01,\n",
       "        3.91700e+02, 9.71000e+00],\n",
       "       [2.92400e+00, 0.00000e+00, 1.95800e+01, ..., 1.47000e+01,\n",
       "        2.40160e+02, 9.81000e+00]])"
      ]
     },
     "execution_count": 10,
     "metadata": {},
     "output_type": "execute_result"
    }
   ],
   "source": [
    "print(X_test.shape)\n",
    "X_test"
   ]
  },
  {
   "cell_type": "code",
   "execution_count": 39,
   "metadata": {},
   "outputs": [],
   "source": [
    "# normalize data\n",
    "from sklearn.preprocessing import Normalizer\n",
    "normalize = Normalizer()\n",
    "\n",
    "normalized_train = normalize.fit_transform(X_train)\n",
    "normalized_test = normalize.fit_transform(X_test)\n"
   ]
  },
  {
   "cell_type": "code",
   "execution_count": 41,
   "metadata": {},
   "outputs": [
    {
     "data": {
      "text/plain": [
       "array([0.0024119 , 0.        , 0.01592969, 0.        , 0.00105285,\n",
       "       0.01201967, 0.17945359, 0.00778265, 0.00782786, 0.6007879 ,\n",
       "       0.04109624, 0.77671895, 0.03663436])"
      ]
     },
     "execution_count": 41,
     "metadata": {},
     "output_type": "execute_result"
    }
   ],
   "source": [
    "normalized_train[0]"
   ]
  },
  {
   "cell_type": "code",
   "execution_count": 120,
   "metadata": {},
   "outputs": [],
   "source": [
    "model = Sequential([\n",
    "    Dense(256, activation='relu', input_dim=13),\n",
    "    Dense(128, activation='relu'),\n",
    "    Dense(128, activation='relu'),\n",
    "    Dense(64, activation='relu'),\n",
    "    Dense(64, activation='relu'),\n",
    "    Dense(1, activation='softmax')\n",
    "])"
   ]
  },
  {
   "cell_type": "code",
   "execution_count": 121,
   "metadata": {},
   "outputs": [],
   "source": [
    "# compile RMSprop(0.001)\n",
    "model.compile(loss='mse', optimizer=RMSprop(0.001), metrics=['mae'])"
   ]
  },
  {
   "cell_type": "code",
   "execution_count": null,
   "metadata": {},
   "outputs": [
    {
     "name": "stdout",
     "output_type": "stream",
     "text": [
      "The tensorboard extension is already loaded. To reload it, use:\n",
      "  %reload_ext tensorboard\n",
      "Epoch 1/300\n",
      "13/13 [==============================] - 0s 24ms/step - loss: 542.3704 - mae: 21.3951 - val_loss: 570.7010 - val_mae: 22.0784\n",
      "Epoch 2/300\n",
      "13/13 [==============================] - 0s 7ms/step - loss: 542.3704 - mae: 21.3951 - val_loss: 570.7010 - val_mae: 22.0784\n",
      "Epoch 3/300\n",
      "13/13 [==============================] - 0s 7ms/step - loss: 542.3704 - mae: 21.3951 - val_loss: 570.7010 - val_mae: 22.0784\n",
      "Epoch 4/300\n",
      "13/13 [==============================] - 0s 6ms/step - loss: 542.3704 - mae: 21.3951 - val_loss: 570.7010 - val_mae: 22.0784\n",
      "Epoch 5/300\n",
      "13/13 [==============================] - 0s 8ms/step - loss: 542.3704 - mae: 21.3950 - val_loss: 570.7010 - val_mae: 22.0784\n",
      "Epoch 6/300\n",
      "13/13 [==============================] - 0s 6ms/step - loss: 542.3704 - mae: 21.3951 - val_loss: 570.7010 - val_mae: 22.0784\n",
      "Epoch 7/300\n",
      "13/13 [==============================] - 0s 8ms/step - loss: 542.3704 - mae: 21.3950 - val_loss: 570.7010 - val_mae: 22.0784\n",
      "Epoch 8/300\n",
      "13/13 [==============================] - 0s 8ms/step - loss: 542.3704 - mae: 21.3950 - val_loss: 570.7010 - val_mae: 22.0784\n",
      "Epoch 9/300\n",
      "13/13 [==============================] - 0s 7ms/step - loss: 542.3704 - mae: 21.3950 - val_loss: 570.7010 - val_mae: 22.0784\n",
      "Epoch 10/300\n",
      "13/13 [==============================] - 0s 6ms/step - loss: 542.3704 - mae: 21.3950 - val_loss: 570.7010 - val_mae: 22.0784\n",
      "Epoch 11/300\n",
      "13/13 [==============================] - 0s 6ms/step - loss: 542.3704 - mae: 21.3950 - val_loss: 570.7010 - val_mae: 22.0784\n",
      "Epoch 12/300\n",
      "13/13 [==============================] - 0s 11ms/step - loss: 542.3704 - mae: 21.3951 - val_loss: 570.7010 - val_mae: 22.0784\n",
      "Epoch 13/300\n",
      "13/13 [==============================] - 0s 8ms/step - loss: 542.3704 - mae: 21.3951 - val_loss: 570.7010 - val_mae: 22.0784\n",
      "Epoch 14/300\n",
      "13/13 [==============================] - 0s 8ms/step - loss: 542.3704 - mae: 21.3950 - val_loss: 570.7010 - val_mae: 22.0784\n",
      "Epoch 15/300\n",
      "13/13 [==============================] - 0s 9ms/step - loss: 542.3704 - mae: 21.3950 - val_loss: 570.7010 - val_mae: 22.0784\n",
      "Epoch 16/300\n",
      "13/13 [==============================] - 0s 8ms/step - loss: 542.3704 - mae: 21.3951 - val_loss: 570.7010 - val_mae: 22.0784\n",
      "Epoch 17/300\n",
      "13/13 [==============================] - 0s 6ms/step - loss: 542.3704 - mae: 21.3951 - val_loss: 570.7010 - val_mae: 22.0784\n",
      "Epoch 18/300\n",
      "13/13 [==============================] - 0s 6ms/step - loss: 542.3704 - mae: 21.3951 - val_loss: 570.7010 - val_mae: 22.0784\n",
      "Epoch 19/300\n",
      "13/13 [==============================] - 0s 6ms/step - loss: 542.3704 - mae: 21.3951 - val_loss: 570.7010 - val_mae: 22.0784\n",
      "Epoch 20/300\n",
      "13/13 [==============================] - 0s 7ms/step - loss: 542.3704 - mae: 21.3950 - val_loss: 570.7010 - val_mae: 22.0784\n",
      "Epoch 21/300\n",
      "13/13 [==============================] - 0s 6ms/step - loss: 542.3704 - mae: 21.3951 - val_loss: 570.7010 - val_mae: 22.0784\n",
      "Epoch 22/300\n",
      "13/13 [==============================] - 0s 6ms/step - loss: 542.3704 - mae: 21.3951 - val_loss: 570.7010 - val_mae: 22.0784\n",
      "Epoch 23/300\n",
      "13/13 [==============================] - 0s 10ms/step - loss: 542.3704 - mae: 21.3950 - val_loss: 570.7010 - val_mae: 22.0784\n",
      "Epoch 24/300\n",
      "13/13 [==============================] - 0s 9ms/step - loss: 542.3704 - mae: 21.3951 - val_loss: 570.7010 - val_mae: 22.0784\n",
      "Epoch 25/300\n",
      "13/13 [==============================] - 0s 5ms/step - loss: 542.3704 - mae: 21.3950 - val_loss: 570.7010 - val_mae: 22.0784\n",
      "Epoch 26/300\n",
      "13/13 [==============================] - 0s 5ms/step - loss: 542.3704 - mae: 21.3950 - val_loss: 570.7010 - val_mae: 22.0784\n",
      "Epoch 27/300\n",
      "13/13 [==============================] - 0s 7ms/step - loss: 542.3704 - mae: 21.3950 - val_loss: 570.7010 - val_mae: 22.0784\n",
      "Epoch 28/300\n",
      "13/13 [==============================] - 0s 5ms/step - loss: 542.3704 - mae: 21.3950 - val_loss: 570.7010 - val_mae: 22.0784\n",
      "Epoch 29/300\n",
      "13/13 [==============================] - 0s 6ms/step - loss: 542.3704 - mae: 21.3951 - val_loss: 570.7010 - val_mae: 22.0784\n",
      "Epoch 30/300\n",
      "13/13 [==============================] - 0s 6ms/step - loss: 542.3704 - mae: 21.3950 - val_loss: 570.7010 - val_mae: 22.0784\n",
      "Epoch 31/300\n",
      "13/13 [==============================] - 0s 4ms/step - loss: 542.3704 - mae: 21.3950 - val_loss: 570.7010 - val_mae: 22.0784\n",
      "Epoch 32/300\n",
      "13/13 [==============================] - 0s 6ms/step - loss: 542.3704 - mae: 21.3950 - val_loss: 570.7010 - val_mae: 22.0784\n",
      "Epoch 33/300\n",
      "13/13 [==============================] - 0s 5ms/step - loss: 542.3704 - mae: 21.3951 - val_loss: 570.7010 - val_mae: 22.0784\n",
      "Epoch 34/300\n",
      "13/13 [==============================] - 0s 6ms/step - loss: 542.3704 - mae: 21.3950 - val_loss: 570.7010 - val_mae: 22.0784\n",
      "Epoch 35/300\n",
      "13/13 [==============================] - 0s 5ms/step - loss: 542.3704 - mae: 21.3951 - val_loss: 570.7010 - val_mae: 22.0784\n",
      "Epoch 36/300\n",
      "13/13 [==============================] - 0s 6ms/step - loss: 542.3704 - mae: 21.3951 - val_loss: 570.7010 - val_mae: 22.0784\n",
      "Epoch 37/300\n",
      "13/13 [==============================] - 0s 7ms/step - loss: 542.3704 - mae: 21.3950 - val_loss: 570.7010 - val_mae: 22.0784\n",
      "Epoch 38/300\n",
      "13/13 [==============================] - 0s 7ms/step - loss: 542.3704 - mae: 21.3950 - val_loss: 570.7010 - val_mae: 22.0784\n",
      "Epoch 39/300\n",
      "13/13 [==============================] - 0s 5ms/step - loss: 542.3704 - mae: 21.3950 - val_loss: 570.7010 - val_mae: 22.0784\n",
      "Epoch 40/300\n",
      "13/13 [==============================] - 0s 7ms/step - loss: 542.3704 - mae: 21.3950 - val_loss: 570.7010 - val_mae: 22.0784\n",
      "Epoch 41/300\n",
      "13/13 [==============================] - 0s 5ms/step - loss: 542.3704 - mae: 21.3951 - val_loss: 570.7010 - val_mae: 22.0784\n",
      "Epoch 42/300\n",
      "13/13 [==============================] - 0s 5ms/step - loss: 542.3704 - mae: 21.3950 - val_loss: 570.7010 - val_mae: 22.0784\n",
      "Epoch 43/300\n",
      "13/13 [==============================] - 0s 5ms/step - loss: 542.3704 - mae: 21.3950 - val_loss: 570.7010 - val_mae: 22.0784\n",
      "Epoch 44/300\n",
      "13/13 [==============================] - 0s 5ms/step - loss: 542.3704 - mae: 21.3950 - val_loss: 570.7010 - val_mae: 22.0784\n",
      "Epoch 45/300\n",
      "13/13 [==============================] - 0s 5ms/step - loss: 542.3704 - mae: 21.3950 - val_loss: 570.7010 - val_mae: 22.0784\n",
      "Epoch 46/300\n",
      "13/13 [==============================] - 0s 7ms/step - loss: 542.3703 - mae: 21.3951 - val_loss: 570.7010 - val_mae: 22.0784\n",
      "Epoch 47/300\n",
      "13/13 [==============================] - 0s 6ms/step - loss: 542.3704 - mae: 21.3951 - val_loss: 570.7010 - val_mae: 22.0784\n",
      "Epoch 48/300\n",
      "13/13 [==============================] - 0s 8ms/step - loss: 542.3704 - mae: 21.3950 - val_loss: 570.7010 - val_mae: 22.0784\n",
      "Epoch 49/300\n",
      "13/13 [==============================] - 0s 7ms/step - loss: 542.3704 - mae: 21.3951 - val_loss: 570.7010 - val_mae: 22.0784\n",
      "Epoch 50/300\n",
      "13/13 [==============================] - 0s 7ms/step - loss: 542.3704 - mae: 21.3951 - val_loss: 570.7010 - val_mae: 22.0784\n",
      "Epoch 51/300\n",
      "13/13 [==============================] - 0s 6ms/step - loss: 542.3704 - mae: 21.3950 - val_loss: 570.7010 - val_mae: 22.0784\n",
      "Epoch 52/300\n",
      "13/13 [==============================] - 0s 6ms/step - loss: 542.3704 - mae: 21.3950 - val_loss: 570.7010 - val_mae: 22.0784\n",
      "Epoch 53/300\n",
      "13/13 [==============================] - 0s 6ms/step - loss: 542.3704 - mae: 21.3950 - val_loss: 570.7010 - val_mae: 22.0784\n",
      "Epoch 54/300\n",
      "13/13 [==============================] - 0s 6ms/step - loss: 542.3704 - mae: 21.3951 - val_loss: 570.7010 - val_mae: 22.0784\n",
      "Epoch 55/300\n",
      "13/13 [==============================] - 0s 6ms/step - loss: 542.3704 - mae: 21.3951 - val_loss: 570.7010 - val_mae: 22.0784\n",
      "Epoch 56/300\n",
      "13/13 [==============================] - 0s 6ms/step - loss: 542.3704 - mae: 21.3951 - val_loss: 570.7010 - val_mae: 22.0784\n",
      "Epoch 57/300\n",
      "13/13 [==============================] - 0s 5ms/step - loss: 542.3704 - mae: 21.3951 - val_loss: 570.7010 - val_mae: 22.0784\n",
      "Epoch 58/300\n",
      "13/13 [==============================] - 0s 4ms/step - loss: 542.3704 - mae: 21.3950 - val_loss: 570.7010 - val_mae: 22.0784\n",
      "Epoch 59/300\n",
      "13/13 [==============================] - 0s 5ms/step - loss: 542.3704 - mae: 21.3950 - val_loss: 570.7010 - val_mae: 22.0784\n",
      "Epoch 60/300\n",
      "13/13 [==============================] - 0s 5ms/step - loss: 542.3704 - mae: 21.3950 - val_loss: 570.7010 - val_mae: 22.0784\n",
      "Epoch 61/300\n",
      "13/13 [==============================] - 0s 7ms/step - loss: 542.3704 - mae: 21.3950 - val_loss: 570.7010 - val_mae: 22.0784\n",
      "Epoch 62/300\n",
      "13/13 [==============================] - 0s 5ms/step - loss: 542.3704 - mae: 21.3950 - val_loss: 570.7010 - val_mae: 22.0784\n",
      "Epoch 63/300\n",
      "13/13 [==============================] - 0s 4ms/step - loss: 542.3704 - mae: 21.3951 - val_loss: 570.7010 - val_mae: 22.0784\n",
      "Epoch 64/300\n",
      "13/13 [==============================] - 0s 4ms/step - loss: 542.3704 - mae: 21.3951 - val_loss: 570.7010 - val_mae: 22.0784\n",
      "Epoch 65/300\n",
      "13/13 [==============================] - 0s 4ms/step - loss: 542.3704 - mae: 21.3950 - val_loss: 570.7010 - val_mae: 22.0784\n",
      "Epoch 66/300\n",
      "13/13 [==============================] - 0s 6ms/step - loss: 542.3704 - mae: 21.3950 - val_loss: 570.7010 - val_mae: 22.0784\n",
      "Epoch 67/300\n",
      "13/13 [==============================] - 0s 7ms/step - loss: 542.3704 - mae: 21.3950 - val_loss: 570.7010 - val_mae: 22.0784\n",
      "Epoch 68/300\n",
      "13/13 [==============================] - 0s 9ms/step - loss: 542.3704 - mae: 21.3950 - val_loss: 570.7010 - val_mae: 22.0784\n",
      "Epoch 69/300\n",
      "13/13 [==============================] - 0s 5ms/step - loss: 542.3704 - mae: 21.3951 - val_loss: 570.7010 - val_mae: 22.0784\n",
      "Epoch 70/300\n",
      "13/13 [==============================] - 0s 6ms/step - loss: 542.3704 - mae: 21.3951 - val_loss: 570.7010 - val_mae: 22.0784\n",
      "Epoch 71/300\n",
      "13/13 [==============================] - 0s 7ms/step - loss: 542.3704 - mae: 21.3950 - val_loss: 570.7010 - val_mae: 22.0784\n",
      "Epoch 72/300\n",
      "13/13 [==============================] - 0s 6ms/step - loss: 542.3704 - mae: 21.3950 - val_loss: 570.7010 - val_mae: 22.0784\n",
      "Epoch 73/300\n",
      "13/13 [==============================] - 0s 5ms/step - loss: 542.3704 - mae: 21.3950 - val_loss: 570.7010 - val_mae: 22.0784\n",
      "Epoch 74/300\n",
      "13/13 [==============================] - 0s 6ms/step - loss: 542.3704 - mae: 21.3950 - val_loss: 570.7010 - val_mae: 22.0784\n",
      "Epoch 75/300\n",
      "13/13 [==============================] - 0s 5ms/step - loss: 542.3704 - mae: 21.3950 - val_loss: 570.7010 - val_mae: 22.0784\n",
      "Epoch 76/300\n",
      "13/13 [==============================] - 0s 9ms/step - loss: 542.3704 - mae: 21.3951 - val_loss: 570.7010 - val_mae: 22.0784\n",
      "Epoch 77/300\n",
      "13/13 [==============================] - 0s 6ms/step - loss: 542.3704 - mae: 21.3951 - val_loss: 570.7010 - val_mae: 22.0784\n",
      "Epoch 78/300\n",
      "13/13 [==============================] - 0s 8ms/step - loss: 542.3704 - mae: 21.3951 - val_loss: 570.7010 - val_mae: 22.0784\n",
      "Epoch 79/300\n",
      "13/13 [==============================] - 0s 13ms/step - loss: 542.3704 - mae: 21.3951 - val_loss: 570.7010 - val_mae: 22.0784\n",
      "Epoch 80/300\n",
      "13/13 [==============================] - 0s 8ms/step - loss: 542.3704 - mae: 21.3950 - val_loss: 570.7010 - val_mae: 22.0784\n",
      "Epoch 81/300\n",
      "13/13 [==============================] - 0s 8ms/step - loss: 542.3704 - mae: 21.3951 - val_loss: 570.7010 - val_mae: 22.0784\n",
      "Epoch 82/300\n",
      "13/13 [==============================] - 0s 6ms/step - loss: 542.3704 - mae: 21.3950 - val_loss: 570.7010 - val_mae: 22.0784\n",
      "Epoch 83/300\n",
      "13/13 [==============================] - 0s 6ms/step - loss: 542.3704 - mae: 21.3950 - val_loss: 570.7010 - val_mae: 22.0784\n",
      "Epoch 84/300\n",
      "13/13 [==============================] - 0s 6ms/step - loss: 542.3704 - mae: 21.3950 - val_loss: 570.7010 - val_mae: 22.0784\n",
      "Epoch 85/300\n",
      "13/13 [==============================] - 0s 10ms/step - loss: 542.3704 - mae: 21.3950 - val_loss: 570.7010 - val_mae: 22.0784\n",
      "Epoch 86/300\n",
      "13/13 [==============================] - 0s 9ms/step - loss: 542.3704 - mae: 21.3950 - val_loss: 570.7010 - val_mae: 22.0784\n",
      "Epoch 87/300\n",
      "13/13 [==============================] - 0s 9ms/step - loss: 542.3704 - mae: 21.3950 - val_loss: 570.7010 - val_mae: 22.0784\n",
      "Epoch 88/300\n",
      "13/13 [==============================] - 0s 10ms/step - loss: 542.3704 - mae: 21.3951 - val_loss: 570.7010 - val_mae: 22.0784\n",
      "Epoch 89/300\n",
      "13/13 [==============================] - 0s 5ms/step - loss: 542.3704 - mae: 21.3951 - val_loss: 570.7010 - val_mae: 22.0784\n",
      "Epoch 90/300\n",
      "13/13 [==============================] - 0s 5ms/step - loss: 542.3704 - mae: 21.3951 - val_loss: 570.7010 - val_mae: 22.0784\n",
      "Epoch 91/300\n",
      "13/13 [==============================] - 0s 5ms/step - loss: 542.3704 - mae: 21.3951 - val_loss: 570.7010 - val_mae: 22.0784\n",
      "Epoch 92/300\n",
      "13/13 [==============================] - 0s 4ms/step - loss: 542.3703 - mae: 21.3951 - val_loss: 570.7010 - val_mae: 22.0784\n",
      "Epoch 93/300\n",
      " 1/13 [=>............................] - ETA: 0s - loss: 533.3444 - mae: 22.0438"
     ]
    }
   ],
   "source": [
    "%load_ext tensorboard\n",
    "import os\n",
    "import datetime\n",
    "\n",
    "logdir = os.path.join(\"logs\", datetime.datetime.now().strftime(\"%Y%m%d-%H%M%S\"))\n",
    "tensorboard_callback = TensorBoard(logdir, histogram_freq=1)\n",
    "\n",
    "model.fit(x=X_train, \n",
    "          y=y_train, \n",
    "          epochs=300, \n",
    "          validation_data=(X_test, y_test), \n",
    "          callbacks=[tensorboard_callback])"
   ]
  },
  {
   "cell_type": "markdown",
   "metadata": {
    "colab_type": "text",
    "id": "SfcFnOONyuNm"
   },
   "source": [
    "## Use the Keras Library to build an image recognition network using the Fashion-MNIST dataset (also comes with keras)\n",
    "\n",
    "- Load and preprocess the image data similar to how we preprocessed the MNIST data in class.\n",
    "- Make sure to one-hot encode your category labels\n",
    "- The number of nodes in your output layer should equal the number of classes you want to predict for Fashion-MNIST.\n",
    "- Try different hyperparameters. What is the highest accuracy that you are able to achieve.\n",
    "- Use the history object that is returned from model.fit to make graphs of the model's loss or train/validation accuracies by epoch. \n",
    "- Remember that neural networks fall prey to randomness so you may need to run your model multiple times (or use Cross Validation) in order to tell if a change to a hyperparameter is truly producing better results."
   ]
  },
  {
   "cell_type": "code",
   "execution_count": null,
   "metadata": {
    "colab": {},
    "colab_type": "code",
    "id": "szi6-IpuzaH1"
   },
   "outputs": [],
   "source": [
    "##### Your Code Here #####"
   ]
  },
  {
   "cell_type": "markdown",
   "metadata": {
    "colab_type": "text",
    "id": "zv_3xNMjzdLI"
   },
   "source": [
    "## Stretch Goals:\n",
    "\n",
    "- Use Hyperparameter Tuning to make the accuracy of your models as high as possible. (error as low as possible)\n",
    "- Use Cross Validation techniques to get more consistent results with your model.\n",
    "- Use GridSearchCV to try different combinations of hyperparameters. \n",
    "- Start looking into other types of Keras layers for CNNs and RNNs maybe try and build a CNN model for fashion-MNIST to see how the results compare."
   ]
  }
 ],
 "metadata": {
  "colab": {
   "name": "LS_DS_433_Keras_Assignment.ipynb",
   "provenance": [],
   "version": "0.3.2"
  },
  "kernelspec": {
   "display_name": "Python 3",
   "language": "python",
   "name": "python3"
  },
  "language_info": {
   "codemirror_mode": {
    "name": "ipython",
    "version": 3
   },
   "file_extension": ".py",
   "mimetype": "text/x-python",
   "name": "python",
   "nbconvert_exporter": "python",
   "pygments_lexer": "ipython3",
   "version": "3.8.3"
  }
 },
 "nbformat": 4,
 "nbformat_minor": 4
}
