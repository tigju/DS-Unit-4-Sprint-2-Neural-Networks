{
 "cells": [
  {
   "cell_type": "markdown",
   "metadata": {
    "colab_type": "text",
    "id": "pBQsZEJmubLs"
   },
   "source": [
    "<img align=\"left\" src=\"https://lever-client-logos.s3.amazonaws.com/864372b1-534c-480e-acd5-9711f850815c-1524247202159.png\" width=200>\n",
    "<br></br>\n",
    "\n",
    "# Neural Network Framework (Keras)\n",
    "\n",
    "## *Data Science Unit 4 Sprint 2 Assignment 3*\n",
    "\n",
    "## Use the Keras Library to build a Multi-Layer Perceptron Model on the Boston Housing dataset\n",
    "\n",
    "- The Boston Housing dataset comes with the Keras library so use Keras to import it into your notebook. \n",
    "- Normalize the data (all features should have roughly the same scale)\n",
    "- Import the type of model and layers that you will need from Keras.\n",
    "- Instantiate a model object and use `model.add()` to add layers to your model\n",
    "- Since this is a regression model you will have a single output node in the final layer.\n",
    "- Use activation functions that are appropriate for this task\n",
    "- Compile your model\n",
    "- Fit your model and report its accuracy in terms of Mean Squared Error\n",
    "- Use the history object that is returned from model.fit to make graphs of the model's loss or train/validation accuracies by epoch. \n",
    "- Run this same data through a linear regression model. Which achieves higher accuracy?\n",
    "- Do a little bit of feature engineering and see how that affects your neural network model. (you will need to change your model to accept more inputs)\n",
    "- After feature engineering, which model sees a greater accuracy boost due to the new features?"
   ]
  },
  {
   "cell_type": "code",
   "execution_count": 113,
   "metadata": {
    "colab": {},
    "colab_type": "code",
    "id": "8NLTAR87uYJ-"
   },
   "outputs": [
    {
     "name": "stdout",
     "output_type": "stream",
     "text": [
      "The tensorboard extension is already loaded. To reload it, use:\n",
      "  %reload_ext tensorboard\n"
     ]
    }
   ],
   "source": [
    "##### Your Code Here #####\n",
    "import pandas as pd\n",
    "import numpy as np\n",
    "import matplotlib.pyplot as plt\n",
    "\n",
    "# import boston housing data from keras\n",
    "from tensorflow.keras.datasets import boston_housing\n",
    "from tensorflow.keras import Sequential\n",
    "from tensorflow.keras.layers import Dense, Flatten\n",
    "from tensorflow.keras.optimizers import RMSprop\n",
    "from tensorflow.keras.callbacks import TensorBoard\n",
    "from tensorflow.keras.callbacks import EarlyStopping\n",
    "from tensorflow.keras.layers import Dropout\n",
    "from tensorflow.keras import regularizers\n",
    "\n",
    "import os\n",
    "import datetime\n",
    "%load_ext tensorboard"
   ]
  },
  {
   "cell_type": "code",
   "execution_count": 4,
   "metadata": {},
   "outputs": [],
   "source": [
    "#  split data between train and test sets\n",
    "(X_train, y_train), (X_test, y_test) = boston_housing.load_data()"
   ]
  },
  {
   "cell_type": "code",
   "execution_count": 5,
   "metadata": {},
   "outputs": [],
   "source": [
    "features = ['CRIM', 'ZN', 'INDUS', 'CHAS', 'NOX', 'RM','AGE', 'DIS', 'RAD', 'TAX', 'PTRATIO', 'B', 'LSTAT']\n",
    "target = 'MEDV'"
   ]
  },
  {
   "cell_type": "code",
   "execution_count": 6,
   "metadata": {},
   "outputs": [
    {
     "name": "stdout",
     "output_type": "stream",
     "text": [
      "(404, 13) (404,) (102, 13) (102,)\n"
     ]
    }
   ],
   "source": [
    "print(X_train.shape, y_train.shape, X_test.shape, y_test.shape)"
   ]
  },
  {
   "cell_type": "code",
   "execution_count": 7,
   "metadata": {},
   "outputs": [
    {
     "data": {
      "text/plain": [
       "array([  1.23247,   0.     ,   8.14   ,   0.     ,   0.538  ,   6.142  ,\n",
       "        91.7    ,   3.9769 ,   4.     , 307.     ,  21.     , 396.9    ,\n",
       "        18.72   ])"
      ]
     },
     "execution_count": 7,
     "metadata": {},
     "output_type": "execute_result"
    }
   ],
   "source": [
    "X_train[0]"
   ]
  },
  {
   "cell_type": "code",
   "execution_count": 8,
   "metadata": {},
   "outputs": [
    {
     "data": {
      "text/plain": [
       "array([15.2, 42.3, 50. , 21.1, 17.7, 18.5, 11.3, 15.6, 15.6, 14.4, 12.1,\n",
       "       17.9, 23.1, 19.9, 15.7,  8.8, 50. , 22.5, 24.1, 27.5, 10.9, 30.8,\n",
       "       32.9, 24. , 18.5, 13.3, 22.9, 34.7, 16.6, 17.5, 22.3, 16.1, 14.9,\n",
       "       23.1, 34.9, 25. , 13.9, 13.1, 20.4, 20. , 15.2, 24.7, 22.2, 16.7,\n",
       "       12.7, 15.6, 18.4, 21. , 30.1, 15.1, 18.7,  9.6, 31.5, 24.8, 19.1,\n",
       "       22. , 14.5, 11. , 32. , 29.4, 20.3, 24.4, 14.6, 19.5, 14.1, 14.3,\n",
       "       15.6, 10.5,  6.3, 19.3, 19.3, 13.4, 36.4, 17.8, 13.5, 16.5,  8.3,\n",
       "       14.3, 16. , 13.4, 28.6, 43.5, 20.2, 22. , 23. , 20.7, 12.5, 48.5,\n",
       "       14.6, 13.4, 23.7, 50. , 21.7, 39.8, 38.7, 22.2, 34.9, 22.5, 31.1,\n",
       "       28.7, 46. , 41.7, 21. , 26.6, 15. , 24.4, 13.3, 21.2, 11.7, 21.7,\n",
       "       19.4, 50. , 22.8, 19.7, 24.7, 36.2, 14.2, 18.9, 18.3, 20.6, 24.6,\n",
       "       18.2,  8.7, 44. , 10.4, 13.2, 21.2, 37. , 30.7, 22.9, 20. , 19.3,\n",
       "       31.7, 32. , 23.1, 18.8, 10.9, 50. , 19.6,  5. , 14.4, 19.8, 13.8,\n",
       "       19.6, 23.9, 24.5, 25. , 19.9, 17.2, 24.6, 13.5, 26.6, 21.4, 11.9,\n",
       "       22.6, 19.6,  8.5, 23.7, 23.1, 22.4, 20.5, 23.6, 18.4, 35.2, 23.1,\n",
       "       27.9, 20.6, 23.7, 28. , 13.6, 27.1, 23.6, 20.6, 18.2, 21.7, 17.1,\n",
       "        8.4, 25.3, 13.8, 22.2, 18.4, 20.7, 31.6, 30.5, 20.3,  8.8, 19.2,\n",
       "       19.4, 23.1, 23. , 14.8, 48.8, 22.6, 33.4, 21.1, 13.6, 32.2, 13.1,\n",
       "       23.4, 18.9, 23.9, 11.8, 23.3, 22.8, 19.6, 16.7, 13.4, 22.2, 20.4,\n",
       "       21.8, 26.4, 14.9, 24.1, 23.8, 12.3, 29.1, 21. , 19.5, 23.3, 23.8,\n",
       "       17.8, 11.5, 21.7, 19.9, 25. , 33.4, 28.5, 21.4, 24.3, 27.5, 33.1,\n",
       "       16.2, 23.3, 48.3, 22.9, 22.8, 13.1, 12.7, 22.6, 15. , 15.3, 10.5,\n",
       "       24. , 18.5, 21.7, 19.5, 33.2, 23.2,  5. , 19.1, 12.7, 22.3, 10.2,\n",
       "       13.9, 16.3, 17. , 20.1, 29.9, 17.2, 37.3, 45.4, 17.8, 23.2, 29. ,\n",
       "       22. , 18. , 17.4, 34.6, 20.1, 25. , 15.6, 24.8, 28.2, 21.2, 21.4,\n",
       "       23.8, 31. , 26.2, 17.4, 37.9, 17.5, 20. ,  8.3, 23.9,  8.4, 13.8,\n",
       "        7.2, 11.7, 17.1, 21.6, 50. , 16.1, 20.4, 20.6, 21.4, 20.6, 36.5,\n",
       "        8.5, 24.8, 10.8, 21.9, 17.3, 18.9, 36.2, 14.9, 18.2, 33.3, 21.8,\n",
       "       19.7, 31.6, 24.8, 19.4, 22.8,  7.5, 44.8, 16.8, 18.7, 50. , 50. ,\n",
       "       19.5, 20.1, 50. , 17.2, 20.8, 19.3, 41.3, 20.4, 20.5, 13.8, 16.5,\n",
       "       23.9, 20.6, 31.5, 23.3, 16.8, 14. , 33.8, 36.1, 12.8, 18.3, 18.7,\n",
       "       19.1, 29. , 30.1, 50. , 50. , 22. , 11.9, 37.6, 50. , 22.7, 20.8,\n",
       "       23.5, 27.9, 50. , 19.3, 23.9, 22.6, 15.2, 21.7, 19.2, 43.8, 20.3,\n",
       "       33.2, 19.9, 22.5, 32.7, 22. , 17.1, 19. , 15. , 16.1, 25.1, 23.7,\n",
       "       28.7, 37.2, 22.6, 16.4, 25. , 29.8, 22.1, 17.4, 18.1, 30.3, 17.5,\n",
       "       24.7, 12.6, 26.5, 28.7, 13.3, 10.4, 24.4, 23. , 20. , 17.8,  7. ,\n",
       "       11.8, 24.4, 13.8, 19.4, 25.2, 19.4, 19.4, 29.1])"
      ]
     },
     "execution_count": 8,
     "metadata": {},
     "output_type": "execute_result"
    }
   ],
   "source": [
    "y_train"
   ]
  },
  {
   "cell_type": "code",
   "execution_count": 9,
   "metadata": {},
   "outputs": [
    {
     "name": "stdout",
     "output_type": "stream",
     "text": [
      "(102, 13)\n"
     ]
    },
    {
     "data": {
      "text/plain": [
       "array([[1.80846e+01, 0.00000e+00, 1.81000e+01, ..., 2.02000e+01,\n",
       "        2.72500e+01, 2.90500e+01],\n",
       "       [1.23290e-01, 0.00000e+00, 1.00100e+01, ..., 1.78000e+01,\n",
       "        3.94950e+02, 1.62100e+01],\n",
       "       [5.49700e-02, 0.00000e+00, 5.19000e+00, ..., 2.02000e+01,\n",
       "        3.96900e+02, 9.74000e+00],\n",
       "       ...,\n",
       "       [1.83377e+00, 0.00000e+00, 1.95800e+01, ..., 1.47000e+01,\n",
       "        3.89610e+02, 1.92000e+00],\n",
       "       [3.58090e-01, 0.00000e+00, 6.20000e+00, ..., 1.74000e+01,\n",
       "        3.91700e+02, 9.71000e+00],\n",
       "       [2.92400e+00, 0.00000e+00, 1.95800e+01, ..., 1.47000e+01,\n",
       "        2.40160e+02, 9.81000e+00]])"
      ]
     },
     "execution_count": 9,
     "metadata": {},
     "output_type": "execute_result"
    }
   ],
   "source": [
    "print(X_test.shape)\n",
    "X_test"
   ]
  },
  {
   "cell_type": "code",
   "execution_count": 10,
   "metadata": {},
   "outputs": [],
   "source": [
    "# normalize data\n",
    "from sklearn.preprocessing import MinMaxScaler\n",
    "scaler = MinMaxScaler()\n",
    "\n",
    "scaled_train = scaler.fit_transform(X_train)\n",
    "scaled_test = scaler.fit_transform(X_test)\n"
   ]
  },
  {
   "cell_type": "code",
   "execution_count": 11,
   "metadata": {},
   "outputs": [
    {
     "data": {
      "text/plain": [
       "array([[1.37816304e-02, 0.00000000e+00, 2.81524927e-01, ...,\n",
       "        8.93617021e-01, 1.00000000e+00, 4.68818985e-01],\n",
       "       [1.73654275e-04, 8.25000000e-01, 5.75513196e-02, ...,\n",
       "        2.23404255e-01, 9.96167230e-01, 3.80794702e-02],\n",
       "       [5.49837765e-02, 0.00000000e+00, 6.46627566e-01, ...,\n",
       "        8.08510638e-01, 9.46089061e-01, 4.22185430e-02],\n",
       "       ...,\n",
       "       [3.18534767e-04, 3.50000000e-01, 2.05278592e-01, ...,\n",
       "        4.57446809e-01, 9.12627969e-01, 1.68322296e-01],\n",
       "       [2.40852297e-02, 0.00000000e+00, 7.00879765e-01, ...,\n",
       "        2.23404255e-01, 6.59715568e-01, 3.87969095e-01],\n",
       "       [9.07048543e-05, 6.00000000e-01, 9.05425220e-02, ...,\n",
       "        3.19148936e-01, 9.49064501e-01, 7.31236203e-02]])"
      ]
     },
     "execution_count": 11,
     "metadata": {},
     "output_type": "execute_result"
    }
   ],
   "source": [
    "scaled_train"
   ]
  },
  {
   "cell_type": "code",
   "execution_count": 12,
   "metadata": {},
   "outputs": [],
   "source": [
    "model = Sequential([\n",
    "    Dense(64, activation='relu', input_dim=13, kernel_regularizer=regularizers.l2(0.01)),\n",
    "    Dropout(0.1),\n",
    "    Dense(40, activation='relu', kernel_regularizer=regularizers.l2(0.01)),\n",
    "    Dropout(0.1),\n",
    "    Dense(20, activation='relu', input_dim=13, kernel_regularizer=regularizers.l2(0.01)),\n",
    "    Dropout(0.1),\n",
    "    Dense(1, activation='relu')\n",
    "])"
   ]
  },
  {
   "cell_type": "code",
   "execution_count": 13,
   "metadata": {},
   "outputs": [],
   "source": [
    "# compile RMSprop(0.001)\n",
    "model.compile(loss='mse', optimizer=RMSprop(0.001), metrics=['mae'])"
   ]
  },
  {
   "cell_type": "code",
   "execution_count": 14,
   "metadata": {},
   "outputs": [
    {
     "name": "stdout",
     "output_type": "stream",
     "text": [
      "Epoch 1/100\n",
      "13/13 [==============================] - 0s 17ms/step - loss: 563.8555 - mae: 21.8459 - val_loss: 565.7395 - val_mae: 21.8948\n",
      "Epoch 2/100\n",
      "13/13 [==============================] - 0s 3ms/step - loss: 509.5610 - mae: 20.4973 - val_loss: 493.6155 - val_mae: 20.0694\n",
      "Epoch 3/100\n",
      "13/13 [==============================] - 0s 3ms/step - loss: 423.2556 - mae: 18.1494 - val_loss: 390.3131 - val_mae: 17.1959\n",
      "Epoch 4/100\n",
      "13/13 [==============================] - 0s 3ms/step - loss: 314.2306 - mae: 14.8466 - val_loss: 276.1122 - val_mae: 13.9029\n",
      "Epoch 5/100\n",
      "13/13 [==============================] - 0s 3ms/step - loss: 209.9461 - mae: 11.2799 - val_loss: 181.2908 - val_mae: 10.6504\n",
      "Epoch 6/100\n",
      "13/13 [==============================] - 0s 3ms/step - loss: 148.0186 - mae: 9.3398 - val_loss: 140.9354 - val_mae: 9.1341\n",
      "Epoch 7/100\n",
      "13/13 [==============================] - 0s 3ms/step - loss: 122.6190 - mae: 8.4211 - val_loss: 123.2259 - val_mae: 8.3932\n",
      "Epoch 8/100\n",
      "13/13 [==============================] - 0s 3ms/step - loss: 124.3396 - mae: 8.3857 - val_loss: 105.4471 - val_mae: 7.6222\n",
      "Epoch 9/100\n",
      "13/13 [==============================] - 0s 3ms/step - loss: 97.9374 - mae: 7.4128 - val_loss: 95.4873 - val_mae: 7.1659\n",
      "Epoch 10/100\n",
      "13/13 [==============================] - 0s 3ms/step - loss: 93.1092 - mae: 7.0983 - val_loss: 82.2466 - val_mae: 6.5777\n",
      "Epoch 11/100\n",
      "13/13 [==============================] - 0s 3ms/step - loss: 78.5789 - mae: 6.6279 - val_loss: 74.7068 - val_mae: 6.2367\n",
      "Epoch 12/100\n",
      "13/13 [==============================] - 0s 3ms/step - loss: 78.7071 - mae: 6.4162 - val_loss: 65.2938 - val_mae: 5.8720\n",
      "Epoch 13/100\n",
      "13/13 [==============================] - 0s 3ms/step - loss: 75.7379 - mae: 6.4624 - val_loss: 73.1247 - val_mae: 6.1648\n",
      "Epoch 14/100\n",
      "13/13 [==============================] - 0s 3ms/step - loss: 69.8449 - mae: 5.8701 - val_loss: 63.6853 - val_mae: 5.7070\n",
      "Epoch 15/100\n",
      "13/13 [==============================] - 0s 3ms/step - loss: 70.0511 - mae: 6.0082 - val_loss: 62.5038 - val_mae: 5.6705\n",
      "Epoch 16/100\n",
      "13/13 [==============================] - 0s 3ms/step - loss: 61.7958 - mae: 5.4365 - val_loss: 53.9988 - val_mae: 5.2343\n",
      "Epoch 17/100\n",
      "13/13 [==============================] - 0s 3ms/step - loss: 70.0128 - mae: 5.9168 - val_loss: 64.4001 - val_mae: 5.8214\n",
      "Epoch 18/100\n",
      "13/13 [==============================] - 0s 3ms/step - loss: 62.1416 - mae: 5.6374 - val_loss: 56.9594 - val_mae: 5.4216\n",
      "Epoch 19/100\n",
      "13/13 [==============================] - 0s 3ms/step - loss: 62.1662 - mae: 5.6120 - val_loss: 50.7171 - val_mae: 5.0812\n",
      "Epoch 20/100\n",
      "13/13 [==============================] - 0s 3ms/step - loss: 53.0813 - mae: 5.2059 - val_loss: 53.6052 - val_mae: 5.3021\n",
      "Epoch 21/100\n",
      "13/13 [==============================] - 0s 3ms/step - loss: 59.7143 - mae: 5.5679 - val_loss: 54.3277 - val_mae: 5.4073\n",
      "Epoch 22/100\n",
      "13/13 [==============================] - 0s 3ms/step - loss: 51.3214 - mae: 5.0441 - val_loss: 44.3573 - val_mae: 4.7948\n",
      "Epoch 23/100\n",
      "13/13 [==============================] - 0s 3ms/step - loss: 47.1984 - mae: 4.8447 - val_loss: 42.0904 - val_mae: 4.6866\n",
      "Epoch 24/100\n",
      "13/13 [==============================] - 0s 3ms/step - loss: 43.1957 - mae: 4.7410 - val_loss: 42.2143 - val_mae: 4.7347\n",
      "Epoch 25/100\n",
      "13/13 [==============================] - 0s 3ms/step - loss: 44.7732 - mae: 4.8228 - val_loss: 40.1135 - val_mae: 4.6408\n",
      "Epoch 26/100\n",
      "13/13 [==============================] - 0s 3ms/step - loss: 43.3777 - mae: 4.7910 - val_loss: 37.7456 - val_mae: 4.5230\n",
      "Epoch 27/100\n",
      "13/13 [==============================] - 0s 3ms/step - loss: 41.4414 - mae: 4.6581 - val_loss: 52.8227 - val_mae: 5.6526\n",
      "Epoch 28/100\n",
      "13/13 [==============================] - 0s 3ms/step - loss: 40.3329 - mae: 4.5149 - val_loss: 43.0807 - val_mae: 5.0072\n",
      "Epoch 29/100\n",
      "13/13 [==============================] - 0s 3ms/step - loss: 36.2638 - mae: 4.2988 - val_loss: 50.0239 - val_mae: 5.5423\n",
      "Epoch 30/100\n",
      "13/13 [==============================] - 0s 3ms/step - loss: 36.3362 - mae: 4.2047 - val_loss: 43.4659 - val_mae: 5.0991\n",
      "Epoch 31/100\n",
      "13/13 [==============================] - 0s 3ms/step - loss: 36.3851 - mae: 4.3823 - val_loss: 44.2415 - val_mae: 5.1681\n"
     ]
    }
   ],
   "source": [
    "logdir = os.path.join(\"logs\", datetime.datetime.now().strftime(\"%Y%m%d-%H%M%S\"))\n",
    "tensorboard_callback = TensorBoard(logdir, histogram_freq=1)\n",
    "\n",
    "stop = EarlyStopping(monitor='val_mae', min_delta=0.01, patience=5)\n",
    "\n",
    "model_object = model.fit(x=scaled_train, \n",
    "          y=y_train, \n",
    "          epochs=100, \n",
    "          validation_data=(scaled_test, y_test), \n",
    "          callbacks=[tensorboard_callback, stop])"
   ]
  },
  {
   "cell_type": "code",
   "execution_count": 15,
   "metadata": {},
   "outputs": [
    {
     "name": "stdout",
     "output_type": "stream",
     "text": [
      "Model: \"sequential\"\n",
      "_________________________________________________________________\n",
      "Layer (type)                 Output Shape              Param #   \n",
      "=================================================================\n",
      "dense (Dense)                (None, 64)                896       \n",
      "_________________________________________________________________\n",
      "dropout (Dropout)            (None, 64)                0         \n",
      "_________________________________________________________________\n",
      "dense_1 (Dense)              (None, 40)                2600      \n",
      "_________________________________________________________________\n",
      "dropout_1 (Dropout)          (None, 40)                0         \n",
      "_________________________________________________________________\n",
      "dense_2 (Dense)              (None, 20)                820       \n",
      "_________________________________________________________________\n",
      "dropout_2 (Dropout)          (None, 20)                0         \n",
      "_________________________________________________________________\n",
      "dense_3 (Dense)              (None, 1)                 21        \n",
      "=================================================================\n",
      "Total params: 4,337\n",
      "Trainable params: 4,337\n",
      "Non-trainable params: 0\n",
      "_________________________________________________________________\n"
     ]
    }
   ],
   "source": [
    "model.summary()"
   ]
  },
  {
   "cell_type": "code",
   "execution_count": 31,
   "metadata": {},
   "outputs": [
    {
     "data": {
      "text/html": [
       "\n",
       "      <iframe id=\"tensorboard-frame-f995cd91c431d949\" width=\"100%\" height=\"800\" frameborder=\"0\">\n",
       "      </iframe>\n",
       "      <script>\n",
       "        (function() {\n",
       "          const frame = document.getElementById(\"tensorboard-frame-f995cd91c431d949\");\n",
       "          const url = new URL(\"/\", window.location);\n",
       "          url.port = 6006;\n",
       "          frame.src = url;\n",
       "        })();\n",
       "      </script>\n",
       "  "
      ],
      "text/plain": [
       "<IPython.core.display.HTML object>"
      ]
     },
     "metadata": {},
     "output_type": "display_data"
    }
   ],
   "source": [
    "%tensorboard --logdir logs --host localhost"
   ]
  },
  {
   "cell_type": "code",
   "execution_count": 32,
   "metadata": {},
   "outputs": [],
   "source": [
    "df1 = pd.DataFrame(model_object.history)\n",
    "df1['epoch'] = model_object.epoch"
   ]
  },
  {
   "cell_type": "code",
   "execution_count": 33,
   "metadata": {},
   "outputs": [
    {
     "data": {
      "text/html": [
       "<div>\n",
       "<style scoped>\n",
       "    .dataframe tbody tr th:only-of-type {\n",
       "        vertical-align: middle;\n",
       "    }\n",
       "\n",
       "    .dataframe tbody tr th {\n",
       "        vertical-align: top;\n",
       "    }\n",
       "\n",
       "    .dataframe thead th {\n",
       "        text-align: right;\n",
       "    }\n",
       "</style>\n",
       "<table border=\"1\" class=\"dataframe\">\n",
       "  <thead>\n",
       "    <tr style=\"text-align: right;\">\n",
       "      <th></th>\n",
       "      <th>loss</th>\n",
       "      <th>mae</th>\n",
       "      <th>val_loss</th>\n",
       "      <th>val_mae</th>\n",
       "      <th>epoch</th>\n",
       "    </tr>\n",
       "  </thead>\n",
       "  <tbody>\n",
       "    <tr>\n",
       "      <th>0</th>\n",
       "      <td>563.855530</td>\n",
       "      <td>21.845940</td>\n",
       "      <td>565.739502</td>\n",
       "      <td>21.894840</td>\n",
       "      <td>0</td>\n",
       "    </tr>\n",
       "    <tr>\n",
       "      <th>1</th>\n",
       "      <td>509.561005</td>\n",
       "      <td>20.497278</td>\n",
       "      <td>493.615509</td>\n",
       "      <td>20.069408</td>\n",
       "      <td>1</td>\n",
       "    </tr>\n",
       "    <tr>\n",
       "      <th>2</th>\n",
       "      <td>423.255554</td>\n",
       "      <td>18.149363</td>\n",
       "      <td>390.313141</td>\n",
       "      <td>17.195896</td>\n",
       "      <td>2</td>\n",
       "    </tr>\n",
       "    <tr>\n",
       "      <th>3</th>\n",
       "      <td>314.230560</td>\n",
       "      <td>14.846636</td>\n",
       "      <td>276.112244</td>\n",
       "      <td>13.902920</td>\n",
       "      <td>3</td>\n",
       "    </tr>\n",
       "    <tr>\n",
       "      <th>4</th>\n",
       "      <td>209.946091</td>\n",
       "      <td>11.279902</td>\n",
       "      <td>181.290771</td>\n",
       "      <td>10.650406</td>\n",
       "      <td>4</td>\n",
       "    </tr>\n",
       "    <tr>\n",
       "      <th>5</th>\n",
       "      <td>148.018616</td>\n",
       "      <td>9.339843</td>\n",
       "      <td>140.935410</td>\n",
       "      <td>9.134093</td>\n",
       "      <td>5</td>\n",
       "    </tr>\n",
       "    <tr>\n",
       "      <th>6</th>\n",
       "      <td>122.619026</td>\n",
       "      <td>8.421078</td>\n",
       "      <td>123.225899</td>\n",
       "      <td>8.393164</td>\n",
       "      <td>6</td>\n",
       "    </tr>\n",
       "    <tr>\n",
       "      <th>7</th>\n",
       "      <td>124.339600</td>\n",
       "      <td>8.385700</td>\n",
       "      <td>105.447121</td>\n",
       "      <td>7.622232</td>\n",
       "      <td>7</td>\n",
       "    </tr>\n",
       "    <tr>\n",
       "      <th>8</th>\n",
       "      <td>97.937431</td>\n",
       "      <td>7.412824</td>\n",
       "      <td>95.487328</td>\n",
       "      <td>7.165886</td>\n",
       "      <td>8</td>\n",
       "    </tr>\n",
       "    <tr>\n",
       "      <th>9</th>\n",
       "      <td>93.109154</td>\n",
       "      <td>7.098332</td>\n",
       "      <td>82.246552</td>\n",
       "      <td>6.577674</td>\n",
       "      <td>9</td>\n",
       "    </tr>\n",
       "    <tr>\n",
       "      <th>10</th>\n",
       "      <td>78.578934</td>\n",
       "      <td>6.627919</td>\n",
       "      <td>74.706848</td>\n",
       "      <td>6.236729</td>\n",
       "      <td>10</td>\n",
       "    </tr>\n",
       "    <tr>\n",
       "      <th>11</th>\n",
       "      <td>78.707123</td>\n",
       "      <td>6.416159</td>\n",
       "      <td>65.293823</td>\n",
       "      <td>5.872042</td>\n",
       "      <td>11</td>\n",
       "    </tr>\n",
       "    <tr>\n",
       "      <th>12</th>\n",
       "      <td>75.737862</td>\n",
       "      <td>6.462410</td>\n",
       "      <td>73.124748</td>\n",
       "      <td>6.164779</td>\n",
       "      <td>12</td>\n",
       "    </tr>\n",
       "    <tr>\n",
       "      <th>13</th>\n",
       "      <td>69.844894</td>\n",
       "      <td>5.870143</td>\n",
       "      <td>63.685261</td>\n",
       "      <td>5.706958</td>\n",
       "      <td>13</td>\n",
       "    </tr>\n",
       "    <tr>\n",
       "      <th>14</th>\n",
       "      <td>70.051117</td>\n",
       "      <td>6.008237</td>\n",
       "      <td>62.503788</td>\n",
       "      <td>5.670525</td>\n",
       "      <td>14</td>\n",
       "    </tr>\n",
       "    <tr>\n",
       "      <th>15</th>\n",
       "      <td>61.795807</td>\n",
       "      <td>5.436548</td>\n",
       "      <td>53.998829</td>\n",
       "      <td>5.234260</td>\n",
       "      <td>15</td>\n",
       "    </tr>\n",
       "    <tr>\n",
       "      <th>16</th>\n",
       "      <td>70.012825</td>\n",
       "      <td>5.916785</td>\n",
       "      <td>64.400055</td>\n",
       "      <td>5.821357</td>\n",
       "      <td>16</td>\n",
       "    </tr>\n",
       "    <tr>\n",
       "      <th>17</th>\n",
       "      <td>62.141621</td>\n",
       "      <td>5.637406</td>\n",
       "      <td>56.959362</td>\n",
       "      <td>5.421616</td>\n",
       "      <td>17</td>\n",
       "    </tr>\n",
       "    <tr>\n",
       "      <th>18</th>\n",
       "      <td>62.166172</td>\n",
       "      <td>5.611974</td>\n",
       "      <td>50.717102</td>\n",
       "      <td>5.081194</td>\n",
       "      <td>18</td>\n",
       "    </tr>\n",
       "    <tr>\n",
       "      <th>19</th>\n",
       "      <td>53.081303</td>\n",
       "      <td>5.205893</td>\n",
       "      <td>53.605225</td>\n",
       "      <td>5.302051</td>\n",
       "      <td>19</td>\n",
       "    </tr>\n",
       "    <tr>\n",
       "      <th>20</th>\n",
       "      <td>59.714294</td>\n",
       "      <td>5.567881</td>\n",
       "      <td>54.327694</td>\n",
       "      <td>5.407269</td>\n",
       "      <td>20</td>\n",
       "    </tr>\n",
       "    <tr>\n",
       "      <th>21</th>\n",
       "      <td>51.321434</td>\n",
       "      <td>5.044129</td>\n",
       "      <td>44.357307</td>\n",
       "      <td>4.794808</td>\n",
       "      <td>21</td>\n",
       "    </tr>\n",
       "    <tr>\n",
       "      <th>22</th>\n",
       "      <td>47.198406</td>\n",
       "      <td>4.844652</td>\n",
       "      <td>42.090385</td>\n",
       "      <td>4.686612</td>\n",
       "      <td>22</td>\n",
       "    </tr>\n",
       "    <tr>\n",
       "      <th>23</th>\n",
       "      <td>43.195694</td>\n",
       "      <td>4.740982</td>\n",
       "      <td>42.214256</td>\n",
       "      <td>4.734697</td>\n",
       "      <td>23</td>\n",
       "    </tr>\n",
       "    <tr>\n",
       "      <th>24</th>\n",
       "      <td>44.773205</td>\n",
       "      <td>4.822795</td>\n",
       "      <td>40.113499</td>\n",
       "      <td>4.640790</td>\n",
       "      <td>24</td>\n",
       "    </tr>\n",
       "    <tr>\n",
       "      <th>25</th>\n",
       "      <td>43.377708</td>\n",
       "      <td>4.791031</td>\n",
       "      <td>37.745575</td>\n",
       "      <td>4.522975</td>\n",
       "      <td>25</td>\n",
       "    </tr>\n",
       "    <tr>\n",
       "      <th>26</th>\n",
       "      <td>41.441422</td>\n",
       "      <td>4.658111</td>\n",
       "      <td>52.822681</td>\n",
       "      <td>5.652595</td>\n",
       "      <td>26</td>\n",
       "    </tr>\n",
       "    <tr>\n",
       "      <th>27</th>\n",
       "      <td>40.332924</td>\n",
       "      <td>4.514876</td>\n",
       "      <td>43.080719</td>\n",
       "      <td>5.007230</td>\n",
       "      <td>27</td>\n",
       "    </tr>\n",
       "    <tr>\n",
       "      <th>28</th>\n",
       "      <td>36.263756</td>\n",
       "      <td>4.298824</td>\n",
       "      <td>50.023914</td>\n",
       "      <td>5.542272</td>\n",
       "      <td>28</td>\n",
       "    </tr>\n",
       "    <tr>\n",
       "      <th>29</th>\n",
       "      <td>36.336224</td>\n",
       "      <td>4.204742</td>\n",
       "      <td>43.465935</td>\n",
       "      <td>5.099076</td>\n",
       "      <td>29</td>\n",
       "    </tr>\n",
       "    <tr>\n",
       "      <th>30</th>\n",
       "      <td>36.385105</td>\n",
       "      <td>4.382283</td>\n",
       "      <td>44.241478</td>\n",
       "      <td>5.168073</td>\n",
       "      <td>30</td>\n",
       "    </tr>\n",
       "  </tbody>\n",
       "</table>\n",
       "</div>"
      ],
      "text/plain": [
       "          loss        mae    val_loss    val_mae  epoch\n",
       "0   563.855530  21.845940  565.739502  21.894840      0\n",
       "1   509.561005  20.497278  493.615509  20.069408      1\n",
       "2   423.255554  18.149363  390.313141  17.195896      2\n",
       "3   314.230560  14.846636  276.112244  13.902920      3\n",
       "4   209.946091  11.279902  181.290771  10.650406      4\n",
       "5   148.018616   9.339843  140.935410   9.134093      5\n",
       "6   122.619026   8.421078  123.225899   8.393164      6\n",
       "7   124.339600   8.385700  105.447121   7.622232      7\n",
       "8    97.937431   7.412824   95.487328   7.165886      8\n",
       "9    93.109154   7.098332   82.246552   6.577674      9\n",
       "10   78.578934   6.627919   74.706848   6.236729     10\n",
       "11   78.707123   6.416159   65.293823   5.872042     11\n",
       "12   75.737862   6.462410   73.124748   6.164779     12\n",
       "13   69.844894   5.870143   63.685261   5.706958     13\n",
       "14   70.051117   6.008237   62.503788   5.670525     14\n",
       "15   61.795807   5.436548   53.998829   5.234260     15\n",
       "16   70.012825   5.916785   64.400055   5.821357     16\n",
       "17   62.141621   5.637406   56.959362   5.421616     17\n",
       "18   62.166172   5.611974   50.717102   5.081194     18\n",
       "19   53.081303   5.205893   53.605225   5.302051     19\n",
       "20   59.714294   5.567881   54.327694   5.407269     20\n",
       "21   51.321434   5.044129   44.357307   4.794808     21\n",
       "22   47.198406   4.844652   42.090385   4.686612     22\n",
       "23   43.195694   4.740982   42.214256   4.734697     23\n",
       "24   44.773205   4.822795   40.113499   4.640790     24\n",
       "25   43.377708   4.791031   37.745575   4.522975     25\n",
       "26   41.441422   4.658111   52.822681   5.652595     26\n",
       "27   40.332924   4.514876   43.080719   5.007230     27\n",
       "28   36.263756   4.298824   50.023914   5.542272     28\n",
       "29   36.336224   4.204742   43.465935   5.099076     29\n",
       "30   36.385105   4.382283   44.241478   5.168073     30"
      ]
     },
     "execution_count": 33,
     "metadata": {},
     "output_type": "execute_result"
    }
   ],
   "source": [
    "df1"
   ]
  },
  {
   "cell_type": "code",
   "execution_count": 36,
   "metadata": {},
   "outputs": [
    {
     "data": {
      "image/png": "[encoded data removed]",
      "text/plain": [
       "<Figure size 864x576 with 1 Axes>"
      ]
     },
     "metadata": {
      "needs_background": "light"
     },
     "output_type": "display_data"
    }
   ],
   "source": [
    "plt.figure(figsize=(12,8))\n",
    "plt.grid(color='grey', linestyle='-', linewidth=0.1)\n",
    "plt.xlabel('Epoch')\n",
    "plt.ylabel('Mean Absolute Error [Thousand Dollars$^2$]')\n",
    "plt.plot(df1['epoch'], df1['mae'], label='Train Error', linewidth=2)\n",
    "plt.plot(df1['epoch'], df1['val_mae'], label = 'Val Error', linewidth=2)\n",
    "plt.legend()\n",
    "plt.title(\"Mean Absolute error for train and val set with multiple hidden layers and relu activation\")\n",
    "plt.show()"
   ]
  },
  {
   "cell_type": "code",
   "execution_count": 37,
   "metadata": {},
   "outputs": [
    {
     "data": {
      "image/png": "[encoded data removed]",
      "text/plain": [
       "<Figure size 864x576 with 1 Axes>"
      ]
     },
     "metadata": {
      "needs_background": "light"
     },
     "output_type": "display_data"
    }
   ],
   "source": [
    "plt.figure(figsize=(12,8))\n",
    "plt.grid(color='grey', linestyle='-', linewidth=0.1)\n",
    "plt.xlabel('Epoch')\n",
    "plt.ylabel('Mean Absolute Error [Thousand Dollars$^2$]')\n",
    "plt.plot(df1['epoch'], df1['loss'], label='Train Loss', linewidth=2)\n",
    "plt.plot(df1['epoch'], df1['val_loss'], label = 'Val Loss', linewidth=2)\n",
    "plt.legend()\n",
    "plt.title(\"Loss for train and val set with multiple hidden layers and relu activation\")\n",
    "plt.show()"
   ]
  },
  {
   "cell_type": "code",
   "execution_count": 38,
   "metadata": {},
   "outputs": [],
   "source": [
    "#linear model\n",
    "model = Sequential([\n",
    "    Dense(64, input_dim=13),\n",
    "    Dense(1)\n",
    "])\n",
    "model.compile(loss='mse', metrics=['mae'])"
   ]
  },
  {
   "cell_type": "code",
   "execution_count": 39,
   "metadata": {},
   "outputs": [
    {
     "name": "stdout",
     "output_type": "stream",
     "text": [
      "Epoch 1/100\n",
      "13/13 [==============================] - 0s 29ms/step - loss: 5265.4868 - mae: 61.0834 - val_loss: 2124.6025 - val_mae: 40.2784\n",
      "Epoch 2/100\n",
      "13/13 [==============================] - 0s 3ms/step - loss: 1294.3060 - mae: 29.5633 - val_loss: 529.8500 - val_mae: 19.2298\n",
      "Epoch 3/100\n",
      "13/13 [==============================] - 0s 3ms/step - loss: 316.1808 - mae: 14.2851 - val_loss: 147.1383 - val_mae: 9.5967\n",
      "Epoch 4/100\n",
      "13/13 [==============================] - 0s 3ms/step - loss: 143.1818 - mae: 9.3371 - val_loss: 98.0311 - val_mae: 7.6287\n",
      "Epoch 5/100\n",
      "13/13 [==============================] - 0s 3ms/step - loss: 148.0270 - mae: 9.6079 - val_loss: 104.9201 - val_mae: 8.1685\n",
      "Epoch 6/100\n",
      "13/13 [==============================] - 0s 3ms/step - loss: 148.5062 - mae: 9.8873 - val_loss: 104.1180 - val_mae: 7.6701\n",
      "Epoch 7/100\n",
      "13/13 [==============================] - 0s 5ms/step - loss: 110.4986 - mae: 8.0760 - val_loss: 100.5686 - val_mae: 8.0597\n",
      "Epoch 8/100\n",
      "13/13 [==============================] - 0s 3ms/step - loss: 132.8451 - mae: 9.0841 - val_loss: 162.3506 - val_mae: 10.2109\n",
      "Epoch 9/100\n",
      "13/13 [==============================] - 0s 3ms/step - loss: 122.8592 - mae: 8.6470 - val_loss: 89.2345 - val_mae: 7.0414\n",
      "Epoch 10/100\n",
      "13/13 [==============================] - 0s 3ms/step - loss: 107.8913 - mae: 7.9602 - val_loss: 102.0452 - val_mae: 8.2302\n",
      "Epoch 11/100\n",
      "13/13 [==============================] - 0s 3ms/step - loss: 109.5742 - mae: 8.4733 - val_loss: 100.4199 - val_mae: 7.5696\n",
      "Epoch 12/100\n",
      "13/13 [==============================] - 0s 11ms/step - loss: 114.7917 - mae: 8.6396 - val_loss: 111.1598 - val_mae: 8.7350\n",
      "Epoch 13/100\n",
      "13/13 [==============================] - 0s 4ms/step - loss: 117.5264 - mae: 8.6898 - val_loss: 136.9275 - val_mae: 9.1369\n",
      "Epoch 14/100\n",
      "13/13 [==============================] - 0s 3ms/step - loss: 110.7062 - mae: 8.6159 - val_loss: 94.7292 - val_mae: 7.2495\n",
      "Epoch 15/100\n",
      "13/13 [==============================] - 0s 3ms/step - loss: 93.8294 - mae: 7.5950 - val_loss: 69.6143 - val_mae: 6.4338\n",
      "Epoch 16/100\n",
      "13/13 [==============================] - 0s 3ms/step - loss: 114.7101 - mae: 8.0911 - val_loss: 81.8128 - val_mae: 7.2757\n",
      "Epoch 17/100\n",
      "13/13 [==============================] - 0s 3ms/step - loss: 86.1474 - mae: 6.9994 - val_loss: 72.0807 - val_mae: 6.1227\n",
      "Epoch 18/100\n",
      "13/13 [==============================] - 0s 3ms/step - loss: 125.8974 - mae: 9.2603 - val_loss: 198.4670 - val_mae: 12.1880\n",
      "Epoch 19/100\n",
      "13/13 [==============================] - 0s 3ms/step - loss: 98.5241 - mae: 7.7882 - val_loss: 141.5919 - val_mae: 9.6866\n",
      "Epoch 20/100\n",
      "13/13 [==============================] - 0s 3ms/step - loss: 105.0672 - mae: 8.0934 - val_loss: 65.0189 - val_mae: 6.1828\n",
      "Epoch 21/100\n",
      "13/13 [==============================] - 0s 3ms/step - loss: 108.3534 - mae: 7.9012 - val_loss: 72.6264 - val_mae: 6.7668\n",
      "Epoch 22/100\n",
      "13/13 [==============================] - 0s 3ms/step - loss: 95.0259 - mae: 7.6924 - val_loss: 71.4282 - val_mae: 6.8219\n",
      "Epoch 23/100\n",
      "13/13 [==============================] - 0s 3ms/step - loss: 85.5281 - mae: 7.0897 - val_loss: 107.9664 - val_mae: 8.1343\n",
      "Epoch 24/100\n",
      "13/13 [==============================] - 0s 3ms/step - loss: 99.5512 - mae: 8.0084 - val_loss: 61.3490 - val_mae: 5.6169\n",
      "Epoch 25/100\n",
      "13/13 [==============================] - 0s 3ms/step - loss: 99.9814 - mae: 7.9251 - val_loss: 67.6115 - val_mae: 5.9233\n",
      "Epoch 26/100\n",
      "13/13 [==============================] - 0s 3ms/step - loss: 99.6194 - mae: 7.5947 - val_loss: 69.6085 - val_mae: 6.6086\n",
      "Epoch 27/100\n",
      "13/13 [==============================] - 0s 3ms/step - loss: 111.0203 - mae: 8.5786 - val_loss: 81.6520 - val_mae: 6.7844\n",
      "Epoch 28/100\n",
      "13/13 [==============================] - 0s 3ms/step - loss: 92.8121 - mae: 7.5981 - val_loss: 84.2139 - val_mae: 7.5207\n",
      "Epoch 29/100\n",
      "13/13 [==============================] - 0s 3ms/step - loss: 90.0609 - mae: 7.2755 - val_loss: 68.3365 - val_mae: 6.5881\n",
      "Epoch 30/100\n",
      "13/13 [==============================] - 0s 3ms/step - loss: 109.3794 - mae: 8.6250 - val_loss: 53.8109 - val_mae: 5.3141\n",
      "Epoch 31/100\n",
      "13/13 [==============================] - 0s 3ms/step - loss: 90.6048 - mae: 7.3694 - val_loss: 279.8799 - val_mae: 15.2934\n",
      "Epoch 32/100\n",
      "13/13 [==============================] - 0s 3ms/step - loss: 88.3954 - mae: 7.3342 - val_loss: 317.6054 - val_mae: 15.7757\n",
      "Epoch 33/100\n",
      "13/13 [==============================] - 0s 3ms/step - loss: 67.8035 - mae: 6.1084 - val_loss: 54.2982 - val_mae: 5.4888\n",
      "Epoch 34/100\n",
      "13/13 [==============================] - 0s 3ms/step - loss: 117.7990 - mae: 8.7548 - val_loss: 88.7475 - val_mae: 7.2106\n",
      "Epoch 35/100\n",
      "13/13 [==============================] - 0s 3ms/step - loss: 110.8878 - mae: 8.4258 - val_loss: 57.6660 - val_mae: 5.4550\n",
      "Epoch 36/100\n",
      "13/13 [==============================] - 0s 3ms/step - loss: 77.6529 - mae: 6.9212 - val_loss: 158.2274 - val_mae: 10.6945\n",
      "Epoch 37/100\n",
      "13/13 [==============================] - 0s 3ms/step - loss: 105.3017 - mae: 8.0848 - val_loss: 101.3753 - val_mae: 8.4118\n",
      "Epoch 38/100\n",
      "13/13 [==============================] - 0s 3ms/step - loss: 59.0564 - mae: 5.9371 - val_loss: 56.3858 - val_mae: 5.8402\n",
      "Epoch 39/100\n",
      "13/13 [==============================] - 0s 3ms/step - loss: 104.3098 - mae: 8.1495 - val_loss: 101.2812 - val_mae: 8.3574\n",
      "Epoch 40/100\n",
      "13/13 [==============================] - 0s 3ms/step - loss: 94.1257 - mae: 7.8863 - val_loss: 62.9874 - val_mae: 5.6275\n",
      "Epoch 41/100\n",
      "13/13 [==============================] - 0s 3ms/step - loss: 76.1233 - mae: 6.9589 - val_loss: 121.2963 - val_mae: 9.5177\n",
      "Epoch 42/100\n",
      "13/13 [==============================] - 0s 3ms/step - loss: 90.4021 - mae: 7.8964 - val_loss: 61.2171 - val_mae: 5.7006\n",
      "Epoch 43/100\n",
      "13/13 [==============================] - 0s 3ms/step - loss: 79.6669 - mae: 6.7066 - val_loss: 164.2738 - val_mae: 11.0923\n",
      "Epoch 44/100\n",
      "13/13 [==============================] - 0s 3ms/step - loss: 66.1960 - mae: 6.1798 - val_loss: 62.2890 - val_mae: 5.5943\n",
      "Epoch 45/100\n",
      "13/13 [==============================] - 0s 3ms/step - loss: 120.7664 - mae: 8.4842 - val_loss: 62.8738 - val_mae: 6.3994\n",
      "Epoch 46/100\n",
      "13/13 [==============================] - 0s 3ms/step - loss: 81.3768 - mae: 7.0446 - val_loss: 76.7854 - val_mae: 6.6391\n",
      "Epoch 47/100\n",
      "13/13 [==============================] - 0s 3ms/step - loss: 86.0008 - mae: 7.2528 - val_loss: 60.3878 - val_mae: 5.6654\n",
      "Epoch 48/100\n",
      "13/13 [==============================] - 0s 3ms/step - loss: 100.9989 - mae: 8.1670 - val_loss: 50.9079 - val_mae: 5.3681\n",
      "Epoch 49/100\n",
      "13/13 [==============================] - 0s 3ms/step - loss: 97.4852 - mae: 8.0907 - val_loss: 63.4822 - val_mae: 5.8620\n",
      "Epoch 50/100\n",
      "13/13 [==============================] - 0s 3ms/step - loss: 73.1469 - mae: 6.7916 - val_loss: 50.0759 - val_mae: 5.0752\n",
      "Epoch 51/100\n",
      "13/13 [==============================] - 0s 3ms/step - loss: 98.7262 - mae: 8.0139 - val_loss: 127.0621 - val_mae: 9.3837\n",
      "Epoch 52/100\n",
      "13/13 [==============================] - 0s 3ms/step - loss: 96.6586 - mae: 7.9425 - val_loss: 87.1321 - val_mae: 7.5561\n",
      "Epoch 53/100\n",
      "13/13 [==============================] - 0s 3ms/step - loss: 88.6481 - mae: 7.4221 - val_loss: 133.5947 - val_mae: 9.7763\n",
      "Epoch 54/100\n",
      "13/13 [==============================] - 0s 3ms/step - loss: 81.6411 - mae: 7.1020 - val_loss: 112.9462 - val_mae: 8.5068\n",
      "Epoch 55/100\n",
      "13/13 [==============================] - 0s 3ms/step - loss: 81.2018 - mae: 7.3917 - val_loss: 85.6280 - val_mae: 7.1947\n",
      "Epoch 56/100\n",
      "13/13 [==============================] - 0s 3ms/step - loss: 83.3559 - mae: 6.9835 - val_loss: 92.5422 - val_mae: 7.5794\n",
      "Epoch 57/100\n",
      "13/13 [==============================] - 0s 3ms/step - loss: 106.7344 - mae: 8.6311 - val_loss: 65.8046 - val_mae: 6.5251\n",
      "Epoch 58/100\n",
      "13/13 [==============================] - 0s 3ms/step - loss: 88.9290 - mae: 7.8248 - val_loss: 52.6620 - val_mae: 5.1854\n",
      "Epoch 59/100\n",
      "13/13 [==============================] - 0s 3ms/step - loss: 88.8749 - mae: 7.5600 - val_loss: 94.9720 - val_mae: 8.1000\n",
      "Epoch 60/100\n",
      "13/13 [==============================] - 0s 3ms/step - loss: 98.6678 - mae: 8.1014 - val_loss: 69.7171 - val_mae: 6.2622\n",
      "Epoch 61/100\n",
      "13/13 [==============================] - 0s 3ms/step - loss: 49.7085 - mae: 5.3830 - val_loss: 54.3588 - val_mae: 5.1888\n",
      "Epoch 62/100\n",
      "13/13 [==============================] - 0s 3ms/step - loss: 114.9553 - mae: 8.3213 - val_loss: 173.0999 - val_mae: 11.6042\n",
      "Epoch 63/100\n",
      "13/13 [==============================] - 0s 3ms/step - loss: 77.1981 - mae: 6.9566 - val_loss: 74.3253 - val_mae: 6.4199\n",
      "Epoch 64/100\n",
      "13/13 [==============================] - 0s 3ms/step - loss: 86.8215 - mae: 7.5522 - val_loss: 58.8829 - val_mae: 6.1065\n",
      "Epoch 65/100\n",
      "13/13 [==============================] - 0s 3ms/step - loss: 97.0102 - mae: 7.7815 - val_loss: 102.2615 - val_mae: 8.6784\n",
      "Epoch 66/100\n",
      "13/13 [==============================] - 0s 3ms/step - loss: 87.0970 - mae: 7.5808 - val_loss: 73.2477 - val_mae: 6.4299\n",
      "Epoch 67/100\n",
      "13/13 [==============================] - 0s 3ms/step - loss: 84.7889 - mae: 7.0650 - val_loss: 113.9027 - val_mae: 9.1905\n",
      "Epoch 68/100\n",
      "13/13 [==============================] - 0s 3ms/step - loss: 95.5757 - mae: 8.0521 - val_loss: 48.5321 - val_mae: 5.0093\n",
      "Epoch 69/100\n",
      "13/13 [==============================] - 0s 3ms/step - loss: 79.3951 - mae: 7.1293 - val_loss: 49.7043 - val_mae: 5.0074\n",
      "Epoch 70/100\n",
      "13/13 [==============================] - 0s 3ms/step - loss: 114.9615 - mae: 8.3307 - val_loss: 78.7250 - val_mae: 6.8633\n",
      "Epoch 71/100\n",
      "13/13 [==============================] - 0s 3ms/step - loss: 85.1458 - mae: 7.3190 - val_loss: 45.4023 - val_mae: 4.8241\n",
      "Epoch 72/100\n",
      "13/13 [==============================] - 0s 3ms/step - loss: 49.3094 - mae: 5.3871 - val_loss: 100.8407 - val_mae: 8.5390\n",
      "Epoch 73/100\n",
      "13/13 [==============================] - 0s 3ms/step - loss: 90.8895 - mae: 7.3873 - val_loss: 169.2466 - val_mae: 11.3468\n",
      "Epoch 74/100\n",
      "13/13 [==============================] - 0s 3ms/step - loss: 90.1123 - mae: 7.7398 - val_loss: 147.9478 - val_mae: 10.5279\n",
      "Epoch 75/100\n",
      "13/13 [==============================] - 0s 7ms/step - loss: 84.8787 - mae: 7.3393 - val_loss: 49.8213 - val_mae: 4.9841\n",
      "Epoch 76/100\n",
      "13/13 [==============================] - 0s 3ms/step - loss: 93.3299 - mae: 7.3017 - val_loss: 52.4828 - val_mae: 5.6528\n",
      "Epoch 77/100\n",
      "13/13 [==============================] - 0s 3ms/step - loss: 71.9861 - mae: 6.9054 - val_loss: 89.6286 - val_mae: 7.5095\n",
      "Epoch 78/100\n",
      "13/13 [==============================] - 0s 3ms/step - loss: 101.6013 - mae: 8.2181 - val_loss: 87.6745 - val_mae: 7.8424\n",
      "Epoch 79/100\n",
      "13/13 [==============================] - 0s 3ms/step - loss: 74.5064 - mae: 7.0532 - val_loss: 71.6555 - val_mae: 6.7738\n",
      "Epoch 80/100\n",
      "13/13 [==============================] - 0s 3ms/step - loss: 92.1863 - mae: 7.5191 - val_loss: 94.8249 - val_mae: 8.0627\n",
      "Epoch 81/100\n",
      "13/13 [==============================] - 0s 3ms/step - loss: 87.6648 - mae: 7.2277 - val_loss: 51.5073 - val_mae: 5.5060\n",
      "Epoch 82/100\n",
      "13/13 [==============================] - 0s 3ms/step - loss: 80.9161 - mae: 7.1173 - val_loss: 58.0314 - val_mae: 6.1096\n",
      "Epoch 83/100\n",
      "13/13 [==============================] - 0s 3ms/step - loss: 100.0646 - mae: 8.2847 - val_loss: 54.0297 - val_mae: 5.6526\n",
      "Epoch 84/100\n",
      "13/13 [==============================] - 0s 3ms/step - loss: 68.6765 - mae: 6.4662 - val_loss: 51.0078 - val_mae: 5.0905\n",
      "Epoch 85/100\n",
      "13/13 [==============================] - 0s 3ms/step - loss: 84.1064 - mae: 7.6284 - val_loss: 84.7922 - val_mae: 7.8072\n",
      "Epoch 86/100\n",
      "13/13 [==============================] - 0s 3ms/step - loss: 94.1564 - mae: 8.0453 - val_loss: 59.4602 - val_mae: 5.6050\n",
      "Epoch 87/100\n",
      "13/13 [==============================] - 0s 3ms/step - loss: 60.2561 - mae: 5.9544 - val_loss: 47.9578 - val_mae: 5.3586\n",
      "Epoch 88/100\n",
      "13/13 [==============================] - 0s 3ms/step - loss: 100.1109 - mae: 7.8659 - val_loss: 44.7159 - val_mae: 4.8034\n",
      "Epoch 89/100\n",
      "13/13 [==============================] - 0s 3ms/step - loss: 84.0202 - mae: 7.2569 - val_loss: 53.8150 - val_mae: 5.8999\n",
      "Epoch 90/100\n",
      "13/13 [==============================] - 0s 3ms/step - loss: 95.5132 - mae: 7.8055 - val_loss: 84.7814 - val_mae: 7.2684\n",
      "Epoch 91/100\n",
      "13/13 [==============================] - 0s 3ms/step - loss: 58.8846 - mae: 5.9470 - val_loss: 157.0908 - val_mae: 10.9033\n",
      "Epoch 92/100\n",
      "13/13 [==============================] - 0s 3ms/step - loss: 113.2993 - mae: 8.9723 - val_loss: 68.5274 - val_mae: 6.2617\n",
      "Epoch 93/100\n",
      "13/13 [==============================] - 0s 3ms/step - loss: 55.0898 - mae: 5.6898 - val_loss: 153.1530 - val_mae: 10.7940\n",
      "Epoch 94/100\n",
      "13/13 [==============================] - 0s 3ms/step - loss: 98.1197 - mae: 8.0176 - val_loss: 116.6038 - val_mae: 9.0272\n",
      "Epoch 95/100\n",
      "13/13 [==============================] - 0s 3ms/step - loss: 70.8246 - mae: 6.4239 - val_loss: 43.4654 - val_mae: 4.7951\n",
      "Epoch 96/100\n",
      "13/13 [==============================] - 0s 3ms/step - loss: 97.4872 - mae: 8.0684 - val_loss: 44.4038 - val_mae: 4.7487\n",
      "Epoch 97/100\n",
      "13/13 [==============================] - 0s 3ms/step - loss: 91.9873 - mae: 7.6687 - val_loss: 129.6279 - val_mae: 9.7927\n",
      "Epoch 98/100\n",
      "13/13 [==============================] - 0s 3ms/step - loss: 72.7386 - mae: 6.8433 - val_loss: 117.7797 - val_mae: 9.1092\n",
      "Epoch 99/100\n",
      "13/13 [==============================] - 0s 3ms/step - loss: 95.2086 - mae: 7.9798 - val_loss: 55.7647 - val_mae: 5.9948\n",
      "Epoch 100/100\n",
      "13/13 [==============================] - 0s 11ms/step - loss: 68.0050 - mae: 6.0813 - val_loss: 226.4109 - val_mae: 13.4878\n"
     ]
    }
   ],
   "source": [
    "data = model.fit(x=X_train, \n",
    "          y=y_train, \n",
    "          epochs=100, \n",
    "          validation_data=(X_test, y_test), \n",
    "          callbacks=[tensorboard_callback])"
   ]
  },
  {
   "cell_type": "code",
   "execution_count": 40,
   "metadata": {},
   "outputs": [
    {
     "data": {
      "text/plain": [
       "Reusing TensorBoard on port 6006 (pid 1452), started 2 days, 20:55:17 ago. (Use '!kill 1452' to kill it.)"
      ]
     },
     "metadata": {},
     "output_type": "display_data"
    },
    {
     "data": {
      "text/html": [
       "\n",
       "      <iframe id=\"tensorboard-frame-101c3cedf246badd\" width=\"100%\" height=\"800\" frameborder=\"0\">\n",
       "      </iframe>\n",
       "      <script>\n",
       "        (function() {\n",
       "          const frame = document.getElementById(\"tensorboard-frame-101c3cedf246badd\");\n",
       "          const url = new URL(\"/\", window.location);\n",
       "          url.port = 6006;\n",
       "          frame.src = url;\n",
       "        })();\n",
       "      </script>\n",
       "  "
      ],
      "text/plain": [
       "<IPython.core.display.HTML object>"
      ]
     },
     "metadata": {},
     "output_type": "display_data"
    }
   ],
   "source": [
    "%tensorboard --logdir logs"
   ]
  },
  {
   "cell_type": "code",
   "execution_count": 41,
   "metadata": {},
   "outputs": [],
   "source": [
    "df = pd.DataFrame(data.history)\n",
    "df['epoch'] = data.epoch"
   ]
  },
  {
   "cell_type": "code",
   "execution_count": 42,
   "metadata": {},
   "outputs": [
    {
     "data": {
      "text/html": [
       "<div>\n",
       "<style scoped>\n",
       "    .dataframe tbody tr th:only-of-type {\n",
       "        vertical-align: middle;\n",
       "    }\n",
       "\n",
       "    .dataframe tbody tr th {\n",
       "        vertical-align: top;\n",
       "    }\n",
       "\n",
       "    .dataframe thead th {\n",
       "        text-align: right;\n",
       "    }\n",
       "</style>\n",
       "<table border=\"1\" class=\"dataframe\">\n",
       "  <thead>\n",
       "    <tr style=\"text-align: right;\">\n",
       "      <th></th>\n",
       "      <th>loss</th>\n",
       "      <th>mae</th>\n",
       "      <th>val_loss</th>\n",
       "      <th>val_mae</th>\n",
       "      <th>epoch</th>\n",
       "    </tr>\n",
       "  </thead>\n",
       "  <tbody>\n",
       "    <tr>\n",
       "      <th>0</th>\n",
       "      <td>5265.486816</td>\n",
       "      <td>61.083389</td>\n",
       "      <td>2124.602539</td>\n",
       "      <td>40.278351</td>\n",
       "      <td>0</td>\n",
       "    </tr>\n",
       "    <tr>\n",
       "      <th>1</th>\n",
       "      <td>1294.306030</td>\n",
       "      <td>29.563253</td>\n",
       "      <td>529.849976</td>\n",
       "      <td>19.229830</td>\n",
       "      <td>1</td>\n",
       "    </tr>\n",
       "    <tr>\n",
       "      <th>2</th>\n",
       "      <td>316.180817</td>\n",
       "      <td>14.285102</td>\n",
       "      <td>147.138290</td>\n",
       "      <td>9.596678</td>\n",
       "      <td>2</td>\n",
       "    </tr>\n",
       "    <tr>\n",
       "      <th>3</th>\n",
       "      <td>143.181824</td>\n",
       "      <td>9.337088</td>\n",
       "      <td>98.031113</td>\n",
       "      <td>7.628683</td>\n",
       "      <td>3</td>\n",
       "    </tr>\n",
       "    <tr>\n",
       "      <th>4</th>\n",
       "      <td>148.027023</td>\n",
       "      <td>9.607863</td>\n",
       "      <td>104.920143</td>\n",
       "      <td>8.168546</td>\n",
       "      <td>4</td>\n",
       "    </tr>\n",
       "    <tr>\n",
       "      <th>...</th>\n",
       "      <td>...</td>\n",
       "      <td>...</td>\n",
       "      <td>...</td>\n",
       "      <td>...</td>\n",
       "      <td>...</td>\n",
       "    </tr>\n",
       "    <tr>\n",
       "      <th>95</th>\n",
       "      <td>97.487198</td>\n",
       "      <td>8.068415</td>\n",
       "      <td>44.403820</td>\n",
       "      <td>4.748673</td>\n",
       "      <td>95</td>\n",
       "    </tr>\n",
       "    <tr>\n",
       "      <th>96</th>\n",
       "      <td>91.987282</td>\n",
       "      <td>7.668719</td>\n",
       "      <td>129.627930</td>\n",
       "      <td>9.792686</td>\n",
       "      <td>96</td>\n",
       "    </tr>\n",
       "    <tr>\n",
       "      <th>97</th>\n",
       "      <td>72.738647</td>\n",
       "      <td>6.843282</td>\n",
       "      <td>117.779663</td>\n",
       "      <td>9.109226</td>\n",
       "      <td>97</td>\n",
       "    </tr>\n",
       "    <tr>\n",
       "      <th>98</th>\n",
       "      <td>95.208588</td>\n",
       "      <td>7.979759</td>\n",
       "      <td>55.764748</td>\n",
       "      <td>5.994781</td>\n",
       "      <td>98</td>\n",
       "    </tr>\n",
       "    <tr>\n",
       "      <th>99</th>\n",
       "      <td>68.004974</td>\n",
       "      <td>6.081297</td>\n",
       "      <td>226.410934</td>\n",
       "      <td>13.487799</td>\n",
       "      <td>99</td>\n",
       "    </tr>\n",
       "  </tbody>\n",
       "</table>\n",
       "<p>100 rows × 5 columns</p>\n",
       "</div>"
      ],
      "text/plain": [
       "           loss        mae     val_loss    val_mae  epoch\n",
       "0   5265.486816  61.083389  2124.602539  40.278351      0\n",
       "1   1294.306030  29.563253   529.849976  19.229830      1\n",
       "2    316.180817  14.285102   147.138290   9.596678      2\n",
       "3    143.181824   9.337088    98.031113   7.628683      3\n",
       "4    148.027023   9.607863   104.920143   8.168546      4\n",
       "..          ...        ...          ...        ...    ...\n",
       "95    97.487198   8.068415    44.403820   4.748673     95\n",
       "96    91.987282   7.668719   129.627930   9.792686     96\n",
       "97    72.738647   6.843282   117.779663   9.109226     97\n",
       "98    95.208588   7.979759    55.764748   5.994781     98\n",
       "99    68.004974   6.081297   226.410934  13.487799     99\n",
       "\n",
       "[100 rows x 5 columns]"
      ]
     },
     "execution_count": 42,
     "metadata": {},
     "output_type": "execute_result"
    }
   ],
   "source": [
    "df"
   ]
  },
  {
   "cell_type": "code",
   "execution_count": 43,
   "metadata": {},
   "outputs": [
    {
     "data": {
      "image/png": "[encoded data removed]",
      "text/plain": [
       "<Figure size 864x576 with 1 Axes>"
      ]
     },
     "metadata": {
      "needs_background": "light"
     },
     "output_type": "display_data"
    }
   ],
   "source": [
    "plt.figure(figsize=(12,8))\n",
    "plt.grid(color='grey', linestyle='-', linewidth=0.1)\n",
    "plt.xlabel('Epoch')\n",
    "plt.ylabel('Mean Absolute Error [Thousand Dollars$^2$]')\n",
    "plt.plot(df['epoch'], df['mae'], label='Train Error', linewidth=2)\n",
    "plt.plot(df['epoch'], df['val_mae'], label = 'Val Error', linewidth=2)\n",
    "plt.legend()\n",
    "plt.ylim([0,300])\n",
    "plt.title(\"Mean Absolute error for train and val set trained with linear regression\")\n",
    "plt.show()"
   ]
  },
  {
   "cell_type": "code",
   "execution_count": 44,
   "metadata": {},
   "outputs": [
    {
     "data": {
      "image/png": "[encoded data removed]",
      "text/plain": [
       "<Figure size 864x576 with 1 Axes>"
      ]
     },
     "metadata": {
      "needs_background": "light"
     },
     "output_type": "display_data"
    }
   ],
   "source": [
    "plt.figure(figsize=(12,8))\n",
    "plt.grid(color='grey', linestyle='-', linewidth=0.1)\n",
    "plt.xlabel('Epoch')\n",
    "plt.ylabel('Mean Absolute Error [Thousand Dollars$^2$]')\n",
    "plt.plot(df['epoch'], df['loss'], label='Train Loss', linewidth=2, alpha=0.7)\n",
    "plt.plot(df['epoch'], df['val_loss'], label = 'Val Loss', linewidth=2, alpha=0.5)\n",
    "plt.legend()\n",
    "plt.title(\"Loss for train and val set trained with linear regression\")\n",
    "plt.show()"
   ]
  },
  {
   "cell_type": "markdown",
   "metadata": {},
   "source": [
    "### linear regression model performs good for this data, however better accuracy I got with more hidden layers, relu activation functions, regulzer, optimizer and Dropout."
   ]
  },
  {
   "cell_type": "markdown",
   "metadata": {
    "colab_type": "text",
    "id": "SfcFnOONyuNm"
   },
   "source": [
    "## Use the Keras Library to build an image recognition network using the Fashion-MNIST dataset (also comes with keras)\n",
    "\n",
    "- Load and preprocess the image data similar to how we preprocessed the MNIST data in class.\n",
    "- Make sure to one-hot encode your category labels\n",
    "- The number of nodes in your output layer should equal the number of classes you want to predict for Fashion-MNIST.\n",
    "- Try different hyperparameters. What is the highest accuracy that you are able to achieve.\n",
    "- Use the history object that is returned from model.fit to make graphs of the model's loss or train/validation accuracies by epoch. \n",
    "- Remember that neural networks fall prey to randomness so you may need to run your model multiple times (or use Cross Validation) in order to tell if a change to a hyperparameter is truly producing better results."
   ]
  },
  {
   "cell_type": "code",
   "execution_count": 45,
   "metadata": {
    "colab": {},
    "colab_type": "code",
    "id": "szi6-IpuzaH1"
   },
   "outputs": [],
   "source": [
    "# fashion-mnist dataset keras\n",
    "from tensorflow.keras.datasets import fashion_mnist\n",
    "\n",
    "f_mnist = fashion_mnist.load_data()"
   ]
  },
  {
   "cell_type": "code",
   "execution_count": 63,
   "metadata": {},
   "outputs": [],
   "source": [
    "(train_images, train_labels), (test_images, test_labels) = f_mnist"
   ]
  },
  {
   "cell_type": "code",
   "execution_count": 73,
   "metadata": {},
   "outputs": [
    {
     "data": {
      "text/plain": [
       "((60000, 28, 28), (60000,), (10000, 28, 28), (10000,))"
      ]
     },
     "execution_count": 73,
     "metadata": {},
     "output_type": "execute_result"
    }
   ],
   "source": [
    "train_images.shape, train_labels.shape, test_images.shape, test_labels.shape"
   ]
  },
  {
   "cell_type": "code",
   "execution_count": 74,
   "metadata": {},
   "outputs": [],
   "source": [
    "class_names = ['T-shirt/top', 'Trouser', 'Pullover', 'Dress', 'Coat',\n",
    "               'Sandal', 'Shirt', 'Sneaker', 'Bag', 'Ankle boot']"
   ]
  },
  {
   "cell_type": "code",
   "execution_count": 66,
   "metadata": {},
   "outputs": [
    {
     "data": {
      "image/png": "[encoded data removed]",
      "text/plain": [
       "<Figure size 432x288 with 2 Axes>"
      ]
     },
     "metadata": {
      "needs_background": "light"
     },
     "output_type": "display_data"
    }
   ],
   "source": [
    "plt.figure()\n",
    "plt.imshow(train_images[1])\n",
    "plt.colorbar()\n",
    "plt.grid(False)\n",
    "plt.show()"
   ]
  },
  {
   "cell_type": "code",
   "execution_count": 81,
   "metadata": {},
   "outputs": [],
   "source": [
    "# scaled img pixels\n",
    "train_images_scaled = train_images/255.0\n",
    "test_images_scaled = test_images/255.0"
   ]
  },
  {
   "cell_type": "code",
   "execution_count": 82,
   "metadata": {},
   "outputs": [
    {
     "data": {
      "image/png": "[encoded data removed]",
      "text/plain": [
       "<Figure size 720x720 with 25 Axes>"
      ]
     },
     "metadata": {},
     "output_type": "display_data"
    }
   ],
   "source": [
    "plt.figure(figsize=(10,10))\n",
    "for i in  range(25):\n",
    "    plt.subplot(5,5,i+1)\n",
    "    plt.xticks([])\n",
    "    plt.yticks([])\n",
    "    plt.grid(False)\n",
    "    plt.imshow(train_images_scaled[i], cmap=plt.cm.binary)\n",
    "    plt.xlabel(class_names[train_labels[i]])\n",
    "plt.show()"
   ]
  },
  {
   "cell_type": "code",
   "execution_count": 105,
   "metadata": {},
   "outputs": [],
   "source": [
    "model = Sequential([\n",
    "    Flatten(input_shape=(28, 28)),\n",
    "    Dense(256, activation='relu'),\n",
    "    Dense(128, activation='relu'),\n",
    "    Dense(64, activation='relu'),\n",
    "    Dense(10)\n",
    "])"
   ]
  },
  {
   "cell_type": "code",
   "execution_count": 106,
   "metadata": {},
   "outputs": [],
   "source": [
    "import tensorflow as tf\n",
    "model.compile(optimizer='adam', loss=tf.keras.losses.SparseCategoricalCrossentropy(from_logits=True), metrics=['accuracy'])"
   ]
  },
  {
   "cell_type": "code",
   "execution_count": 107,
   "metadata": {},
   "outputs": [
    {
     "name": "stdout",
     "output_type": "stream",
     "text": [
      "Epoch 1/100\n",
      "1875/1875 [==============================] - 4s 2ms/step - loss: 0.4826 - accuracy: 0.8249 - val_loss: 0.4339 - val_accuracy: 0.8423\n",
      "Epoch 2/100\n",
      "1875/1875 [==============================] - 4s 2ms/step - loss: 0.3636 - accuracy: 0.8653 - val_loss: 0.3741 - val_accuracy: 0.8655\n",
      "Epoch 3/100\n",
      "1875/1875 [==============================] - 4s 2ms/step - loss: 0.3293 - accuracy: 0.8783 - val_loss: 0.3674 - val_accuracy: 0.8699\n",
      "Epoch 4/100\n",
      "1875/1875 [==============================] - 4s 2ms/step - loss: 0.3081 - accuracy: 0.8862 - val_loss: 0.3409 - val_accuracy: 0.8773\n",
      "Epoch 5/100\n",
      "1875/1875 [==============================] - 4s 2ms/step - loss: 0.2897 - accuracy: 0.8905 - val_loss: 0.3543 - val_accuracy: 0.8683\n",
      "Epoch 6/100\n",
      "1875/1875 [==============================] - 4s 2ms/step - loss: 0.2748 - accuracy: 0.8967 - val_loss: 0.3700 - val_accuracy: 0.8723\n",
      "Epoch 7/100\n",
      "1875/1875 [==============================] - 4s 2ms/step - loss: 0.2614 - accuracy: 0.9016 - val_loss: 0.3432 - val_accuracy: 0.8790\n",
      "Epoch 8/100\n",
      "1875/1875 [==============================] - 4s 2ms/step - loss: 0.2521 - accuracy: 0.9044 - val_loss: 0.3412 - val_accuracy: 0.8789\n",
      "Epoch 9/100\n",
      "1875/1875 [==============================] - 4s 2ms/step - loss: 0.2396 - accuracy: 0.9096 - val_loss: 0.3363 - val_accuracy: 0.8845\n",
      "Epoch 10/100\n",
      "1875/1875 [==============================] - 4s 2ms/step - loss: 0.2322 - accuracy: 0.9109 - val_loss: 0.3471 - val_accuracy: 0.8820\n",
      "Epoch 11/100\n",
      "1875/1875 [==============================] - 4s 2ms/step - loss: 0.2223 - accuracy: 0.9146 - val_loss: 0.3194 - val_accuracy: 0.8901\n",
      "Epoch 12/100\n",
      "1875/1875 [==============================] - 4s 2ms/step - loss: 0.2157 - accuracy: 0.9175 - val_loss: 0.3577 - val_accuracy: 0.8796\n",
      "Epoch 13/100\n",
      "1875/1875 [==============================] - 4s 2ms/step - loss: 0.2101 - accuracy: 0.9187 - val_loss: 0.3453 - val_accuracy: 0.8870\n",
      "Epoch 14/100\n",
      "1875/1875 [==============================] - 4s 2ms/step - loss: 0.2011 - accuracy: 0.9236 - val_loss: 0.3533 - val_accuracy: 0.8811\n",
      "Epoch 15/100\n",
      "1875/1875 [==============================] - 4s 2ms/step - loss: 0.1956 - accuracy: 0.9247 - val_loss: 0.3379 - val_accuracy: 0.8906\n",
      "Epoch 16/100\n",
      "1875/1875 [==============================] - 4s 2ms/step - loss: 0.1887 - accuracy: 0.9275 - val_loss: 0.3390 - val_accuracy: 0.8926\n",
      "Epoch 17/100\n",
      "1875/1875 [==============================] - 4s 2ms/step - loss: 0.1845 - accuracy: 0.9298 - val_loss: 0.3660 - val_accuracy: 0.8917\n",
      "Epoch 18/100\n",
      "1875/1875 [==============================] - 4s 2ms/step - loss: 0.1785 - accuracy: 0.9318 - val_loss: 0.4033 - val_accuracy: 0.8853\n",
      "Epoch 19/100\n",
      "1875/1875 [==============================] - 4s 2ms/step - loss: 0.1739 - accuracy: 0.9324 - val_loss: 0.3846 - val_accuracy: 0.8913\n",
      "Epoch 20/100\n",
      "1875/1875 [==============================] - 4s 2ms/step - loss: 0.1687 - accuracy: 0.9352 - val_loss: 0.3719 - val_accuracy: 0.8900\n",
      "Epoch 21/100\n",
      "1875/1875 [==============================] - 4s 2ms/step - loss: 0.1668 - accuracy: 0.9355 - val_loss: 0.3727 - val_accuracy: 0.8925\n",
      "Epoch 22/100\n",
      "1875/1875 [==============================] - 4s 2ms/step - loss: 0.1574 - accuracy: 0.9388 - val_loss: 0.3775 - val_accuracy: 0.8961\n",
      "Epoch 23/100\n",
      "1875/1875 [==============================] - 4s 2ms/step - loss: 0.1546 - accuracy: 0.9400 - val_loss: 0.3718 - val_accuracy: 0.8931\n",
      "Epoch 24/100\n",
      "1875/1875 [==============================] - 4s 2ms/step - loss: 0.1558 - accuracy: 0.9398 - val_loss: 0.4009 - val_accuracy: 0.8970\n",
      "Epoch 25/100\n",
      "1875/1875 [==============================] - 3s 2ms/step - loss: 0.1483 - accuracy: 0.9428 - val_loss: 0.4339 - val_accuracy: 0.8870\n",
      "Epoch 26/100\n",
      "1875/1875 [==============================] - 4s 2ms/step - loss: 0.1477 - accuracy: 0.9435 - val_loss: 0.3997 - val_accuracy: 0.8927\n",
      "Epoch 27/100\n",
      "1875/1875 [==============================] - 4s 2ms/step - loss: 0.1435 - accuracy: 0.9443 - val_loss: 0.4050 - val_accuracy: 0.8886\n",
      "Epoch 28/100\n",
      "1875/1875 [==============================] - 4s 2ms/step - loss: 0.1394 - accuracy: 0.9458 - val_loss: 0.4087 - val_accuracy: 0.8906\n",
      "Epoch 29/100\n",
      "1875/1875 [==============================] - 4s 2ms/step - loss: 0.1384 - accuracy: 0.9455 - val_loss: 0.4708 - val_accuracy: 0.8942\n",
      "Epoch 30/100\n",
      "1875/1875 [==============================] - 4s 2ms/step - loss: 0.1325 - accuracy: 0.9485 - val_loss: 0.4330 - val_accuracy: 0.8918\n",
      "Epoch 31/100\n",
      "1875/1875 [==============================] - 3s 2ms/step - loss: 0.1319 - accuracy: 0.9494 - val_loss: 0.4648 - val_accuracy: 0.8943\n",
      "Epoch 32/100\n",
      "1875/1875 [==============================] - 3s 2ms/step - loss: 0.1270 - accuracy: 0.9516 - val_loss: 0.4466 - val_accuracy: 0.8938\n"
     ]
    }
   ],
   "source": [
    "stopping = EarlyStopping(monitor='val_accuracy', min_delta=0.001, patience=10)\n",
    "\n",
    "fashion = model.fit(x=train_images_scaled, \n",
    "                   y=train_labels,\n",
    "                   epochs=100,\n",
    "                   validation_data=(test_images_scaled, test_labels),\n",
    "                   callbacks=[tensorboard_callback, stopping])"
   ]
  },
  {
   "cell_type": "code",
   "execution_count": 108,
   "metadata": {},
   "outputs": [
    {
     "name": "stdout",
     "output_type": "stream",
     "text": [
      "313/313 - 0s - loss: 0.4466 - accuracy: 0.8938\n",
      "\n",
      "Test accuracy: 0.8938000202178955\n"
     ]
    }
   ],
   "source": [
    "test_loss, test_acc = model.evaluate(test_images_scaled,  test_labels, verbose=2)\n",
    "\n",
    "print('\\nTest accuracy:', test_acc)"
   ]
  },
  {
   "cell_type": "code",
   "execution_count": 109,
   "metadata": {},
   "outputs": [],
   "source": [
    "probability_model = Sequential([model, \n",
    "                                tf.keras.layers.Softmax()])"
   ]
  },
  {
   "cell_type": "code",
   "execution_count": 110,
   "metadata": {},
   "outputs": [],
   "source": [
    "predictions = probability_model.predict(test_images_scaled)"
   ]
  },
  {
   "cell_type": "code",
   "execution_count": 111,
   "metadata": {},
   "outputs": [
    {
     "data": {
      "text/plain": [
       "array([2.5028492e-16, 3.0893850e-13, 7.0854564e-17, 1.9226953e-11,\n",
       "       7.4756126e-14, 2.8302252e-09, 8.9204148e-15, 8.4503539e-05,\n",
       "       3.9677515e-12, 9.9991548e-01], dtype=float32)"
      ]
     },
     "execution_count": 111,
     "metadata": {},
     "output_type": "execute_result"
    }
   ],
   "source": [
    "predictions[0]"
   ]
  },
  {
   "cell_type": "code",
   "execution_count": 114,
   "metadata": {},
   "outputs": [
    {
     "data": {
      "text/plain": [
       "9"
      ]
     },
     "execution_count": 114,
     "metadata": {},
     "output_type": "execute_result"
    }
   ],
   "source": [
    "np.argmax(predictions[0])"
   ]
  },
  {
   "cell_type": "code",
   "execution_count": 115,
   "metadata": {},
   "outputs": [
    {
     "data": {
      "text/plain": [
       "9"
      ]
     },
     "execution_count": 115,
     "metadata": {},
     "output_type": "execute_result"
    }
   ],
   "source": [
    "test_labels[0]"
   ]
  },
  {
   "cell_type": "code",
   "execution_count": 116,
   "metadata": {},
   "outputs": [],
   "source": [
    "def plot_image(i, predictions_array, true_label, img):\n",
    "  predictions_array, true_label, img = predictions_array, true_label[i], img[i]\n",
    "  plt.grid(False)\n",
    "  plt.xticks([])\n",
    "  plt.yticks([])\n",
    "\n",
    "  plt.imshow(img, cmap=plt.cm.binary)\n",
    "\n",
    "  predicted_label = np.argmax(predictions_array)\n",
    "  if predicted_label == true_label:\n",
    "    color = 'blue'\n",
    "  else:\n",
    "    color = 'red'\n",
    "\n",
    "  plt.xlabel(\"{} {:2.0f}% ({})\".format(class_names[predicted_label],\n",
    "                                100*np.max(predictions_array),\n",
    "                                class_names[true_label]),\n",
    "                                color=color)\n",
    "\n",
    "def plot_value_array(i, predictions_array, true_label):\n",
    "  predictions_array, true_label = predictions_array, true_label[i]\n",
    "  plt.grid(False)\n",
    "  plt.xticks(range(10))\n",
    "  plt.yticks([])\n",
    "  thisplot = plt.bar(range(10), predictions_array, color=\"#777777\")\n",
    "  plt.ylim([0, 1])\n",
    "  predicted_label = np.argmax(predictions_array)\n",
    "\n",
    "  thisplot[predicted_label].set_color('red')\n",
    "  thisplot[true_label].set_color('blue')"
   ]
  },
  {
   "cell_type": "code",
   "execution_count": 117,
   "metadata": {},
   "outputs": [
    {
     "data": {
      "image/png": "[encoded data removed]",
      "text/plain": [
       "<Figure size 432x216 with 2 Axes>"
      ]
     },
     "metadata": {
      "needs_background": "light"
     },
     "output_type": "display_data"
    }
   ],
   "source": [
    "# verify predictions\n",
    "i = 0\n",
    "plt.figure(figsize=(6,3))\n",
    "plt.subplot(1,2,1)\n",
    "plot_image(i, predictions[i], test_labels, test_images)\n",
    "plt.subplot(1,2,2)\n",
    "plot_value_array(i, predictions[i],  test_labels)\n",
    "plt.show()"
   ]
  },
  {
   "cell_type": "code",
   "execution_count": 118,
   "metadata": {},
   "outputs": [
    {
     "data": {
      "image/png": "[encoded data removed]",
      "text/plain": [
       "<Figure size 432x216 with 2 Axes>"
      ]
     },
     "metadata": {
      "needs_background": "light"
     },
     "output_type": "display_data"
    }
   ],
   "source": [
    "i = 12\n",
    "plt.figure(figsize=(6,3))\n",
    "plt.subplot(1,2,1)\n",
    "plot_image(i, predictions[i], test_labels, test_images)\n",
    "plt.subplot(1,2,2)\n",
    "plot_value_array(i, predictions[i],  test_labels)\n",
    "plt.show()"
   ]
  },
  {
   "cell_type": "code",
   "execution_count": 119,
   "metadata": {},
   "outputs": [
    {
     "data": {
      "image/png": "[encoded data removed]",
      "text/plain": [
       "<Figure size 864x720 with 30 Axes>"
      ]
     },
     "metadata": {
      "needs_background": "light"
     },
     "output_type": "display_data"
    }
   ],
   "source": [
    "# Plot the first X test images, their predicted labels, and the true labels.\n",
    "# Color correct predictions in blue and incorrect predictions in red.\n",
    "num_rows = 5\n",
    "num_cols = 3\n",
    "num_images = num_rows*num_cols\n",
    "plt.figure(figsize=(2*2*num_cols, 2*num_rows))\n",
    "for i in range(num_images):\n",
    "  plt.subplot(num_rows, 2*num_cols, 2*i+1)\n",
    "  plot_image(i, predictions[i], test_labels, test_images)\n",
    "  plt.subplot(num_rows, 2*num_cols, 2*i+2)\n",
    "  plot_value_array(i, predictions[i], test_labels)\n",
    "plt.tight_layout()\n",
    "plt.show()"
   ]
  },
  {
   "cell_type": "code",
   "execution_count": 120,
   "metadata": {},
   "outputs": [
    {
     "name": "stdout",
     "output_type": "stream",
     "text": [
      "(28, 28)\n"
     ]
    }
   ],
   "source": [
    "# make prediction about single image\n",
    "# Grab an image from the test dataset.\n",
    "img = test_images[1]\n",
    "\n",
    "print(img.shape)"
   ]
  },
  {
   "cell_type": "code",
   "execution_count": 121,
   "metadata": {},
   "outputs": [
    {
     "name": "stdout",
     "output_type": "stream",
     "text": [
      "(1, 28, 28)\n"
     ]
    }
   ],
   "source": [
    "# even though I'm using a single image, I need to add it to a list because of keras\n",
    "# Add the image to a batch where it's the only member.\n",
    "img = (np.expand_dims(img,0))\n",
    "\n",
    "print(img.shape)"
   ]
  },
  {
   "cell_type": "code",
   "execution_count": 122,
   "metadata": {},
   "outputs": [
    {
     "name": "stdout",
     "output_type": "stream",
     "text": [
      "[[0. 0. 1. 0. 0. 0. 0. 0. 0. 0.]]\n"
     ]
    }
   ],
   "source": [
    "# predict the label for this image\n",
    "predictions_single = probability_model.predict(img)\n",
    "\n",
    "print(predictions_single)"
   ]
  },
  {
   "cell_type": "code",
   "execution_count": 123,
   "metadata": {},
   "outputs": [
    {
     "data": {
      "image/png": "[encoded data removed]",
      "text/plain": [
       "<Figure size 432x288 with 1 Axes>"
      ]
     },
     "metadata": {
      "needs_background": "light"
     },
     "output_type": "display_data"
    }
   ],
   "source": [
    "plot_value_array(1, predictions_single[0], test_labels)\n",
    "_ = plt.xticks(range(10), class_names, rotation=45)"
   ]
  },
  {
   "cell_type": "code",
   "execution_count": 124,
   "metadata": {},
   "outputs": [
    {
     "data": {
      "text/plain": [
       "2"
      ]
     },
     "execution_count": 124,
     "metadata": {},
     "output_type": "execute_result"
    }
   ],
   "source": [
    "# grab the predictions for our (only) image in the batch\n",
    "np.argmax(predictions_single[0])"
   ]
  },
  {
   "cell_type": "markdown",
   "metadata": {
    "colab_type": "text",
    "id": "zv_3xNMjzdLI"
   },
   "source": [
    "## Stretch Goals:\n",
    "\n",
    "- Use Hyperparameter Tuning to make the accuracy of your models as high as possible. (error as low as possible)\n",
    "- Use Cross Validation techniques to get more consistent results with your model.\n",
    "- Use GridSearchCV to try different combinations of hyperparameters. \n",
    "- Start looking into other types of Keras layers for CNNs and RNNs maybe try and build a CNN model for fashion-MNIST to see how the results compare."
   ]
  }
 ],
 "metadata": {
  "colab": {
   "name": "LS_DS_433_Keras_Assignment.ipynb",
   "provenance": [],
   "version": "0.3.2"
  },
  "kernelspec": {
   "display_name": "Python 3",
   "language": "python",
   "name": "python3"
  },
  "language_info": {
   "codemirror_mode": {
    "name": "ipython",
    "version": 3
   },
   "file_extension": ".py",
   "mimetype": "text/x-python",
   "name": "python",
   "nbconvert_exporter": "python",
   "pygments_lexer": "ipython3",
   "version": "3.8.3"
  }
 },
 "nbformat": 4,
 "nbformat_minor": 4
}
