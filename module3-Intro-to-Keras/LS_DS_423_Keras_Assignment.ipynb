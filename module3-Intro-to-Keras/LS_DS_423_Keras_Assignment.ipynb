{
 "cells": [
  {
   "cell_type": "markdown",
   "metadata": {
    "colab_type": "text",
    "id": "pBQsZEJmubLs"
   },
   "source": [
    "<img align=\"left\" src=\"https://lever-client-logos.s3.amazonaws.com/864372b1-534c-480e-acd5-9711f850815c-1524247202159.png\" width=200>\n",
    "<br></br>\n",
    "\n",
    "# Neural Network Framework (Keras)\n",
    "\n",
    "## *Data Science Unit 4 Sprint 2 Assignment 3*\n",
    "\n",
    "## Use the Keras Library to build a Multi-Layer Perceptron Model on the Boston Housing dataset\n",
    "\n",
    "- The Boston Housing dataset comes with the Keras library so use Keras to import it into your notebook. \n",
    "- Normalize the data (all features should have roughly the same scale)\n",
    "- Import the type of model and layers that you will need from Keras.\n",
    "- Instantiate a model object and use `model.add()` to add layers to your model\n",
    "- Since this is a regression model you will have a single output node in the final layer.\n",
    "- Use activation functions that are appropriate for this task\n",
    "- Compile your model\n",
    "- Fit your model and report its accuracy in terms of Mean Squared Error\n",
    "- Use the history object that is returned from model.fit to make graphs of the model's loss or train/validation accuracies by epoch. \n",
    "- Run this same data through a linear regression model. Which achieves higher accuracy?\n",
    "- Do a little bit of feature engineering and see how that affects your neural network model. (you will need to change your model to accept more inputs)\n",
    "- After feature engineering, which model sees a greater accuracy boost due to the new features?"
   ]
  },
  {
   "cell_type": "code",
   "execution_count": 168,
   "metadata": {
    "colab": {},
    "colab_type": "code",
    "id": "8NLTAR87uYJ-"
   },
   "outputs": [],
   "source": [
    "##### Your Code Here #####\n",
    "import pandas as pd\n",
    "# import boston housing data from keras\n",
    "from tensorflow.keras.datasets import boston_housing\n",
    "from tensorflow.keras import Sequential\n",
    "from tensorflow.keras.layers import Dense\n",
    "from tensorflow.keras.optimizers import RMSprop\n",
    "from tensorflow.keras.callbacks import TensorBoard\n",
    "from tensorflow.keras.callbacks import EarlyStopping\n",
    "from tensorflow.keras.layers import Dropout\n",
    "from tensorflow.keras import regularizers\n",
    "\n",
    "import os\n",
    "import datetime\n",
    "%load_ext tensorboard"
   ]
  },
  {
   "cell_type": "code",
   "execution_count": 226,
   "metadata": {},
   "outputs": [],
   "source": [
    "#  split data between train and test sets\n",
    "(X_train, y_train), (X_test, y_test) = boston_housing.load_data()"
   ]
  },
  {
   "cell_type": "code",
   "execution_count": 37,
   "metadata": {},
   "outputs": [],
   "source": [
    "features = ['CRIM', 'ZN', 'INDUS', 'CHAS', 'NOX', 'RM','AGE', 'DIS', 'RAD', 'TAX', 'PTRATIO', 'B', 'LSTAT']\n",
    "target = 'MEDV'"
   ]
  },
  {
   "cell_type": "code",
   "execution_count": 227,
   "metadata": {},
   "outputs": [
    {
     "name": "stdout",
     "output_type": "stream",
     "text": [
      "(404, 13) (404,) (102, 13) (102,)\n"
     ]
    }
   ],
   "source": [
    "print(X_train.shape, y_train.shape, X_test.shape, y_test.shape)"
   ]
  },
  {
   "cell_type": "code",
   "execution_count": 147,
   "metadata": {},
   "outputs": [
    {
     "data": {
      "text/plain": [
       "array([  1.23247,   0.     ,   8.14   ,   0.     ,   0.538  ,   6.142  ,\n",
       "        91.7    ,   3.9769 ,   4.     , 307.     ,  21.     , 396.9    ,\n",
       "        18.72   ])"
      ]
     },
     "execution_count": 147,
     "metadata": {},
     "output_type": "execute_result"
    }
   ],
   "source": [
    "X_train[0]"
   ]
  },
  {
   "cell_type": "code",
   "execution_count": 11,
   "metadata": {},
   "outputs": [
    {
     "data": {
      "text/plain": [
       "array([15.2, 42.3, 50. , 21.1, 17.7, 18.5, 11.3, 15.6, 15.6, 14.4, 12.1,\n",
       "       17.9, 23.1, 19.9, 15.7,  8.8, 50. , 22.5, 24.1, 27.5, 10.9, 30.8,\n",
       "       32.9, 24. , 18.5, 13.3, 22.9, 34.7, 16.6, 17.5, 22.3, 16.1, 14.9,\n",
       "       23.1, 34.9, 25. , 13.9, 13.1, 20.4, 20. , 15.2, 24.7, 22.2, 16.7,\n",
       "       12.7, 15.6, 18.4, 21. , 30.1, 15.1, 18.7,  9.6, 31.5, 24.8, 19.1,\n",
       "       22. , 14.5, 11. , 32. , 29.4, 20.3, 24.4, 14.6, 19.5, 14.1, 14.3,\n",
       "       15.6, 10.5,  6.3, 19.3, 19.3, 13.4, 36.4, 17.8, 13.5, 16.5,  8.3,\n",
       "       14.3, 16. , 13.4, 28.6, 43.5, 20.2, 22. , 23. , 20.7, 12.5, 48.5,\n",
       "       14.6, 13.4, 23.7, 50. , 21.7, 39.8, 38.7, 22.2, 34.9, 22.5, 31.1,\n",
       "       28.7, 46. , 41.7, 21. , 26.6, 15. , 24.4, 13.3, 21.2, 11.7, 21.7,\n",
       "       19.4, 50. , 22.8, 19.7, 24.7, 36.2, 14.2, 18.9, 18.3, 20.6, 24.6,\n",
       "       18.2,  8.7, 44. , 10.4, 13.2, 21.2, 37. , 30.7, 22.9, 20. , 19.3,\n",
       "       31.7, 32. , 23.1, 18.8, 10.9, 50. , 19.6,  5. , 14.4, 19.8, 13.8,\n",
       "       19.6, 23.9, 24.5, 25. , 19.9, 17.2, 24.6, 13.5, 26.6, 21.4, 11.9,\n",
       "       22.6, 19.6,  8.5, 23.7, 23.1, 22.4, 20.5, 23.6, 18.4, 35.2, 23.1,\n",
       "       27.9, 20.6, 23.7, 28. , 13.6, 27.1, 23.6, 20.6, 18.2, 21.7, 17.1,\n",
       "        8.4, 25.3, 13.8, 22.2, 18.4, 20.7, 31.6, 30.5, 20.3,  8.8, 19.2,\n",
       "       19.4, 23.1, 23. , 14.8, 48.8, 22.6, 33.4, 21.1, 13.6, 32.2, 13.1,\n",
       "       23.4, 18.9, 23.9, 11.8, 23.3, 22.8, 19.6, 16.7, 13.4, 22.2, 20.4,\n",
       "       21.8, 26.4, 14.9, 24.1, 23.8, 12.3, 29.1, 21. , 19.5, 23.3, 23.8,\n",
       "       17.8, 11.5, 21.7, 19.9, 25. , 33.4, 28.5, 21.4, 24.3, 27.5, 33.1,\n",
       "       16.2, 23.3, 48.3, 22.9, 22.8, 13.1, 12.7, 22.6, 15. , 15.3, 10.5,\n",
       "       24. , 18.5, 21.7, 19.5, 33.2, 23.2,  5. , 19.1, 12.7, 22.3, 10.2,\n",
       "       13.9, 16.3, 17. , 20.1, 29.9, 17.2, 37.3, 45.4, 17.8, 23.2, 29. ,\n",
       "       22. , 18. , 17.4, 34.6, 20.1, 25. , 15.6, 24.8, 28.2, 21.2, 21.4,\n",
       "       23.8, 31. , 26.2, 17.4, 37.9, 17.5, 20. ,  8.3, 23.9,  8.4, 13.8,\n",
       "        7.2, 11.7, 17.1, 21.6, 50. , 16.1, 20.4, 20.6, 21.4, 20.6, 36.5,\n",
       "        8.5, 24.8, 10.8, 21.9, 17.3, 18.9, 36.2, 14.9, 18.2, 33.3, 21.8,\n",
       "       19.7, 31.6, 24.8, 19.4, 22.8,  7.5, 44.8, 16.8, 18.7, 50. , 50. ,\n",
       "       19.5, 20.1, 50. , 17.2, 20.8, 19.3, 41.3, 20.4, 20.5, 13.8, 16.5,\n",
       "       23.9, 20.6, 31.5, 23.3, 16.8, 14. , 33.8, 36.1, 12.8, 18.3, 18.7,\n",
       "       19.1, 29. , 30.1, 50. , 50. , 22. , 11.9, 37.6, 50. , 22.7, 20.8,\n",
       "       23.5, 27.9, 50. , 19.3, 23.9, 22.6, 15.2, 21.7, 19.2, 43.8, 20.3,\n",
       "       33.2, 19.9, 22.5, 32.7, 22. , 17.1, 19. , 15. , 16.1, 25.1, 23.7,\n",
       "       28.7, 37.2, 22.6, 16.4, 25. , 29.8, 22.1, 17.4, 18.1, 30.3, 17.5,\n",
       "       24.7, 12.6, 26.5, 28.7, 13.3, 10.4, 24.4, 23. , 20. , 17.8,  7. ,\n",
       "       11.8, 24.4, 13.8, 19.4, 25.2, 19.4, 19.4, 29.1])"
      ]
     },
     "execution_count": 11,
     "metadata": {},
     "output_type": "execute_result"
    }
   ],
   "source": [
    "y_train"
   ]
  },
  {
   "cell_type": "code",
   "execution_count": 10,
   "metadata": {},
   "outputs": [
    {
     "name": "stdout",
     "output_type": "stream",
     "text": [
      "(102, 13)\n"
     ]
    },
    {
     "data": {
      "text/plain": [
       "array([[1.80846e+01, 0.00000e+00, 1.81000e+01, ..., 2.02000e+01,\n",
       "        2.72500e+01, 2.90500e+01],\n",
       "       [1.23290e-01, 0.00000e+00, 1.00100e+01, ..., 1.78000e+01,\n",
       "        3.94950e+02, 1.62100e+01],\n",
       "       [5.49700e-02, 0.00000e+00, 5.19000e+00, ..., 2.02000e+01,\n",
       "        3.96900e+02, 9.74000e+00],\n",
       "       ...,\n",
       "       [1.83377e+00, 0.00000e+00, 1.95800e+01, ..., 1.47000e+01,\n",
       "        3.89610e+02, 1.92000e+00],\n",
       "       [3.58090e-01, 0.00000e+00, 6.20000e+00, ..., 1.74000e+01,\n",
       "        3.91700e+02, 9.71000e+00],\n",
       "       [2.92400e+00, 0.00000e+00, 1.95800e+01, ..., 1.47000e+01,\n",
       "        2.40160e+02, 9.81000e+00]])"
      ]
     },
     "execution_count": 10,
     "metadata": {},
     "output_type": "execute_result"
    }
   ],
   "source": [
    "print(X_test.shape)\n",
    "X_test"
   ]
  },
  {
   "cell_type": "code",
   "execution_count": 148,
   "metadata": {},
   "outputs": [],
   "source": [
    "# normalize data\n",
    "from sklearn.preprocessing import MinMaxScaler\n",
    "scaler = MinMaxScaler()\n",
    "\n",
    "scaled_train = scaler.fit_transform(X_train)\n",
    "scaled_test = scaler.fit_transform(X_test)\n"
   ]
  },
  {
   "cell_type": "code",
   "execution_count": 150,
   "metadata": {},
   "outputs": [
    {
     "data": {
      "text/plain": [
       "array([[1.37816304e-02, 0.00000000e+00, 2.81524927e-01, ...,\n",
       "        8.93617021e-01, 1.00000000e+00, 4.68818985e-01],\n",
       "       [1.73654275e-04, 8.25000000e-01, 5.75513196e-02, ...,\n",
       "        2.23404255e-01, 9.96167230e-01, 3.80794702e-02],\n",
       "       [5.49837765e-02, 0.00000000e+00, 6.46627566e-01, ...,\n",
       "        8.08510638e-01, 9.46089061e-01, 4.22185430e-02],\n",
       "       ...,\n",
       "       [3.18534767e-04, 3.50000000e-01, 2.05278592e-01, ...,\n",
       "        4.57446809e-01, 9.12627969e-01, 1.68322296e-01],\n",
       "       [2.40852297e-02, 0.00000000e+00, 7.00879765e-01, ...,\n",
       "        2.23404255e-01, 6.59715568e-01, 3.87969095e-01],\n",
       "       [9.07048543e-05, 6.00000000e-01, 9.05425220e-02, ...,\n",
       "        3.19148936e-01, 9.49064501e-01, 7.31236203e-02]])"
      ]
     },
     "execution_count": 150,
     "metadata": {},
     "output_type": "execute_result"
    }
   ],
   "source": [
    "scaled_train"
   ]
  },
  {
   "cell_type": "code",
   "execution_count": 251,
   "metadata": {},
   "outputs": [],
   "source": [
    "model = Sequential([\n",
    "    Dense(64, activation='relu', input_dim=13, kernel_regularizer=regularizers.l2(0.01)),\n",
    "    Dropout(0.1),\n",
    "    Dense(40, activation='relu', kernel_regularizer=regularizers.l2(0.01)),\n",
    "    Dropout(0.1),\n",
    "    Dense(20, activation='relu', input_dim=13, kernel_regularizer=regularizers.l2(0.01)),\n",
    "    Dropout(0.1),\n",
    "    Dense(1, activation='relu')\n",
    "])"
   ]
  },
  {
   "cell_type": "code",
   "execution_count": 252,
   "metadata": {},
   "outputs": [],
   "source": [
    "# compile RMSprop(0.001)\n",
    "model.compile(loss='mse', optimizer=RMSprop(0.001), metrics=['mae'])"
   ]
  },
  {
   "cell_type": "code",
   "execution_count": 253,
   "metadata": {},
   "outputs": [
    {
     "name": "stdout",
     "output_type": "stream",
     "text": [
      "Epoch 1/100\n",
      "13/13 [==============================] - 0s 26ms/step - loss: 549.6570 - mae: 21.5400 - val_loss: 530.8231 - val_mae: 21.0547\n",
      "Epoch 2/100\n",
      "13/13 [==============================] - 0s 7ms/step - loss: 452.6845 - mae: 18.9749 - val_loss: 401.9784 - val_mae: 17.5645\n",
      "Epoch 3/100\n",
      "13/13 [==============================] - 0s 6ms/step - loss: 310.8139 - mae: 14.6986 - val_loss: 252.8779 - val_mae: 13.2226\n",
      "Epoch 4/100\n",
      "13/13 [==============================] - 0s 8ms/step - loss: 190.8778 - mae: 10.7250 - val_loss: 164.1466 - val_mae: 10.0188\n",
      "Epoch 5/100\n",
      "13/13 [==============================] - 0s 7ms/step - loss: 135.5542 - mae: 8.8928 - val_loss: 130.0327 - val_mae: 8.6995\n",
      "Epoch 6/100\n",
      "13/13 [==============================] - 0s 7ms/step - loss: 122.3461 - mae: 8.3883 - val_loss: 111.7297 - val_mae: 7.8793\n",
      "Epoch 7/100\n",
      "13/13 [==============================] - 0s 8ms/step - loss: 114.0202 - mae: 7.9476 - val_loss: 99.7704 - val_mae: 7.3431\n",
      "Epoch 8/100\n",
      "13/13 [==============================] - 0s 6ms/step - loss: 90.8412 - mae: 7.0663 - val_loss: 84.6157 - val_mae: 6.6650\n",
      "Epoch 9/100\n",
      "13/13 [==============================] - 0s 5ms/step - loss: 86.3160 - mae: 6.7046 - val_loss: 71.3733 - val_mae: 6.0730\n",
      "Epoch 10/100\n",
      "13/13 [==============================] - 0s 7ms/step - loss: 83.9281 - mae: 6.6334 - val_loss: 67.4314 - val_mae: 5.8239\n",
      "Epoch 11/100\n",
      "13/13 [==============================] - 0s 7ms/step - loss: 73.3657 - mae: 6.0545 - val_loss: 61.1094 - val_mae: 5.5215\n",
      "Epoch 12/100\n",
      "13/13 [==============================] - 0s 7ms/step - loss: 67.7759 - mae: 5.8487 - val_loss: 66.6253 - val_mae: 5.8255\n",
      "Epoch 13/100\n",
      "13/13 [==============================] - 0s 7ms/step - loss: 69.8382 - mae: 5.7936 - val_loss: 55.0557 - val_mae: 5.2344\n",
      "Epoch 14/100\n",
      "13/13 [==============================] - 0s 7ms/step - loss: 64.1716 - mae: 5.6477 - val_loss: 52.1524 - val_mae: 5.0896\n",
      "Epoch 15/100\n",
      "13/13 [==============================] - 0s 6ms/step - loss: 58.6892 - mae: 5.3255 - val_loss: 47.8333 - val_mae: 4.8707\n",
      "Epoch 16/100\n",
      "13/13 [==============================] - 0s 6ms/step - loss: 60.8991 - mae: 5.4119 - val_loss: 46.0860 - val_mae: 4.8012\n",
      "Epoch 17/100\n",
      "13/13 [==============================] - 0s 6ms/step - loss: 59.5494 - mae: 5.5014 - val_loss: 57.4239 - val_mae: 5.5323\n",
      "Epoch 18/100\n",
      "13/13 [==============================] - 0s 5ms/step - loss: 54.5861 - mae: 5.1405 - val_loss: 48.2652 - val_mae: 5.0107\n",
      "Epoch 19/100\n",
      "13/13 [==============================] - 0s 5ms/step - loss: 52.6274 - mae: 5.1301 - val_loss: 50.1469 - val_mae: 5.1810\n",
      "Epoch 20/100\n",
      "13/13 [==============================] - 0s 6ms/step - loss: 49.5023 - mae: 4.9473 - val_loss: 38.1760 - val_mae: 4.4384\n",
      "Epoch 21/100\n",
      "13/13 [==============================] - 0s 6ms/step - loss: 46.6331 - mae: 4.8835 - val_loss: 51.7938 - val_mae: 5.3922\n",
      "Epoch 22/100\n",
      "13/13 [==============================] - 0s 6ms/step - loss: 47.4544 - mae: 4.8740 - val_loss: 56.7263 - val_mae: 5.8079\n",
      "Epoch 23/100\n",
      "13/13 [==============================] - 0s 6ms/step - loss: 40.6343 - mae: 4.4439 - val_loss: 36.8419 - val_mae: 4.4433\n",
      "Epoch 24/100\n",
      "13/13 [==============================] - 0s 6ms/step - loss: 47.4487 - mae: 4.8006 - val_loss: 40.0531 - val_mae: 4.6987\n",
      "Epoch 25/100\n",
      "13/13 [==============================] - 0s 6ms/step - loss: 39.9958 - mae: 4.5051 - val_loss: 44.7261 - val_mae: 5.1045\n"
     ]
    }
   ],
   "source": [
    "logdir = os.path.join(\"logs\", datetime.datetime.now().strftime(\"%Y%m%d-%H%M%S\"))\n",
    "tensorboard_callback = TensorBoard(logdir, histogram_freq=1)\n",
    "\n",
    "stop = EarlyStopping(monitor='val_mae', min_delta=0.01, patience=5)\n",
    "\n",
    "model_object = model.fit(x=scaled_train, \n",
    "          y=y_train, \n",
    "          epochs=100, \n",
    "          validation_data=(scaled_test, y_test), \n",
    "          callbacks=[tensorboard_callback, stop])"
   ]
  },
  {
   "cell_type": "code",
   "execution_count": 254,
   "metadata": {},
   "outputs": [
    {
     "name": "stdout",
     "output_type": "stream",
     "text": [
      "Model: \"sequential_37\"\n",
      "_________________________________________________________________\n",
      "Layer (type)                 Output Shape              Param #   \n",
      "=================================================================\n",
      "dense_108 (Dense)            (None, 64)                896       \n",
      "_________________________________________________________________\n",
      "dropout_19 (Dropout)         (None, 64)                0         \n",
      "_________________________________________________________________\n",
      "dense_109 (Dense)            (None, 40)                2600      \n",
      "_________________________________________________________________\n",
      "dropout_20 (Dropout)         (None, 40)                0         \n",
      "_________________________________________________________________\n",
      "dense_110 (Dense)            (None, 20)                820       \n",
      "_________________________________________________________________\n",
      "dropout_21 (Dropout)         (None, 20)                0         \n",
      "_________________________________________________________________\n",
      "dense_111 (Dense)            (None, 1)                 21        \n",
      "=================================================================\n",
      "Total params: 4,337\n",
      "Trainable params: 4,337\n",
      "Non-trainable params: 0\n",
      "_________________________________________________________________\n"
     ]
    }
   ],
   "source": [
    "model.summary()"
   ]
  },
  {
   "cell_type": "code",
   "execution_count": 255,
   "metadata": {},
   "outputs": [
    {
     "data": {
      "text/plain": [
       "Reusing TensorBoard on port 6006 (pid 1452), started 2 days, 1:12:58 ago. (Use '!kill 1452' to kill it.)"
      ]
     },
     "metadata": {},
     "output_type": "display_data"
    },
    {
     "data": {
      "text/html": [
       "\n",
       "      <iframe id=\"tensorboard-frame-af4125dc745d182b\" width=\"100%\" height=\"800\" frameborder=\"0\">\n",
       "      </iframe>\n",
       "      <script>\n",
       "        (function() {\n",
       "          const frame = document.getElementById(\"tensorboard-frame-af4125dc745d182b\");\n",
       "          const url = new URL(\"/\", window.location);\n",
       "          url.port = 6006;\n",
       "          frame.src = url;\n",
       "        })();\n",
       "      </script>\n",
       "  "
      ],
      "text/plain": [
       "<IPython.core.display.HTML object>"
      ]
     },
     "metadata": {},
     "output_type": "display_data"
    }
   ],
   "source": [
    "%tensorboard --logdir logs"
   ]
  },
  {
   "cell_type": "code",
   "execution_count": 256,
   "metadata": {},
   "outputs": [],
   "source": [
    "df1 = pd.DataFrame(model_object.history)\n",
    "df1['epoch'] = model_object.epoch"
   ]
  },
  {
   "cell_type": "code",
   "execution_count": 257,
   "metadata": {},
   "outputs": [
    {
     "data": {
      "text/html": [
       "<div>\n",
       "<style scoped>\n",
       "    .dataframe tbody tr th:only-of-type {\n",
       "        vertical-align: middle;\n",
       "    }\n",
       "\n",
       "    .dataframe tbody tr th {\n",
       "        vertical-align: top;\n",
       "    }\n",
       "\n",
       "    .dataframe thead th {\n",
       "        text-align: right;\n",
       "    }\n",
       "</style>\n",
       "<table border=\"1\" class=\"dataframe\">\n",
       "  <thead>\n",
       "    <tr style=\"text-align: right;\">\n",
       "      <th></th>\n",
       "      <th>loss</th>\n",
       "      <th>mae</th>\n",
       "      <th>val_loss</th>\n",
       "      <th>val_mae</th>\n",
       "      <th>epoch</th>\n",
       "    </tr>\n",
       "  </thead>\n",
       "  <tbody>\n",
       "    <tr>\n",
       "      <th>0</th>\n",
       "      <td>549.657043</td>\n",
       "      <td>21.540030</td>\n",
       "      <td>530.823120</td>\n",
       "      <td>21.054731</td>\n",
       "      <td>0</td>\n",
       "    </tr>\n",
       "    <tr>\n",
       "      <th>1</th>\n",
       "      <td>452.684479</td>\n",
       "      <td>18.974865</td>\n",
       "      <td>401.978394</td>\n",
       "      <td>17.564518</td>\n",
       "      <td>1</td>\n",
       "    </tr>\n",
       "    <tr>\n",
       "      <th>2</th>\n",
       "      <td>310.813904</td>\n",
       "      <td>14.698573</td>\n",
       "      <td>252.877914</td>\n",
       "      <td>13.222648</td>\n",
       "      <td>2</td>\n",
       "    </tr>\n",
       "    <tr>\n",
       "      <th>3</th>\n",
       "      <td>190.877762</td>\n",
       "      <td>10.724983</td>\n",
       "      <td>164.146622</td>\n",
       "      <td>10.018781</td>\n",
       "      <td>3</td>\n",
       "    </tr>\n",
       "    <tr>\n",
       "      <th>4</th>\n",
       "      <td>135.554245</td>\n",
       "      <td>8.892763</td>\n",
       "      <td>130.032654</td>\n",
       "      <td>8.699516</td>\n",
       "      <td>4</td>\n",
       "    </tr>\n",
       "    <tr>\n",
       "      <th>5</th>\n",
       "      <td>122.346115</td>\n",
       "      <td>8.388323</td>\n",
       "      <td>111.729652</td>\n",
       "      <td>7.879331</td>\n",
       "      <td>5</td>\n",
       "    </tr>\n",
       "    <tr>\n",
       "      <th>6</th>\n",
       "      <td>114.020218</td>\n",
       "      <td>7.947617</td>\n",
       "      <td>99.770447</td>\n",
       "      <td>7.343098</td>\n",
       "      <td>6</td>\n",
       "    </tr>\n",
       "    <tr>\n",
       "      <th>7</th>\n",
       "      <td>90.841209</td>\n",
       "      <td>7.066311</td>\n",
       "      <td>84.615715</td>\n",
       "      <td>6.664969</td>\n",
       "      <td>7</td>\n",
       "    </tr>\n",
       "    <tr>\n",
       "      <th>8</th>\n",
       "      <td>86.316032</td>\n",
       "      <td>6.704585</td>\n",
       "      <td>71.373306</td>\n",
       "      <td>6.073022</td>\n",
       "      <td>8</td>\n",
       "    </tr>\n",
       "    <tr>\n",
       "      <th>9</th>\n",
       "      <td>83.928131</td>\n",
       "      <td>6.633408</td>\n",
       "      <td>67.431419</td>\n",
       "      <td>5.823883</td>\n",
       "      <td>9</td>\n",
       "    </tr>\n",
       "    <tr>\n",
       "      <th>10</th>\n",
       "      <td>73.365730</td>\n",
       "      <td>6.054537</td>\n",
       "      <td>61.109444</td>\n",
       "      <td>5.521451</td>\n",
       "      <td>10</td>\n",
       "    </tr>\n",
       "    <tr>\n",
       "      <th>11</th>\n",
       "      <td>67.775871</td>\n",
       "      <td>5.848712</td>\n",
       "      <td>66.625275</td>\n",
       "      <td>5.825466</td>\n",
       "      <td>11</td>\n",
       "    </tr>\n",
       "    <tr>\n",
       "      <th>12</th>\n",
       "      <td>69.838181</td>\n",
       "      <td>5.793583</td>\n",
       "      <td>55.055721</td>\n",
       "      <td>5.234362</td>\n",
       "      <td>12</td>\n",
       "    </tr>\n",
       "    <tr>\n",
       "      <th>13</th>\n",
       "      <td>64.171562</td>\n",
       "      <td>5.647701</td>\n",
       "      <td>52.152355</td>\n",
       "      <td>5.089585</td>\n",
       "      <td>13</td>\n",
       "    </tr>\n",
       "    <tr>\n",
       "      <th>14</th>\n",
       "      <td>58.689236</td>\n",
       "      <td>5.325474</td>\n",
       "      <td>47.833344</td>\n",
       "      <td>4.870746</td>\n",
       "      <td>14</td>\n",
       "    </tr>\n",
       "    <tr>\n",
       "      <th>15</th>\n",
       "      <td>60.899059</td>\n",
       "      <td>5.411893</td>\n",
       "      <td>46.086029</td>\n",
       "      <td>4.801155</td>\n",
       "      <td>15</td>\n",
       "    </tr>\n",
       "    <tr>\n",
       "      <th>16</th>\n",
       "      <td>59.549385</td>\n",
       "      <td>5.501426</td>\n",
       "      <td>57.423859</td>\n",
       "      <td>5.532273</td>\n",
       "      <td>16</td>\n",
       "    </tr>\n",
       "    <tr>\n",
       "      <th>17</th>\n",
       "      <td>54.586105</td>\n",
       "      <td>5.140489</td>\n",
       "      <td>48.265198</td>\n",
       "      <td>5.010666</td>\n",
       "      <td>17</td>\n",
       "    </tr>\n",
       "    <tr>\n",
       "      <th>18</th>\n",
       "      <td>52.627411</td>\n",
       "      <td>5.130148</td>\n",
       "      <td>50.146877</td>\n",
       "      <td>5.180993</td>\n",
       "      <td>18</td>\n",
       "    </tr>\n",
       "    <tr>\n",
       "      <th>19</th>\n",
       "      <td>49.502335</td>\n",
       "      <td>4.947270</td>\n",
       "      <td>38.175976</td>\n",
       "      <td>4.438446</td>\n",
       "      <td>19</td>\n",
       "    </tr>\n",
       "    <tr>\n",
       "      <th>20</th>\n",
       "      <td>46.633144</td>\n",
       "      <td>4.883459</td>\n",
       "      <td>51.793850</td>\n",
       "      <td>5.392188</td>\n",
       "      <td>20</td>\n",
       "    </tr>\n",
       "    <tr>\n",
       "      <th>21</th>\n",
       "      <td>47.454357</td>\n",
       "      <td>4.873983</td>\n",
       "      <td>56.726257</td>\n",
       "      <td>5.807924</td>\n",
       "      <td>21</td>\n",
       "    </tr>\n",
       "    <tr>\n",
       "      <th>22</th>\n",
       "      <td>40.634277</td>\n",
       "      <td>4.443905</td>\n",
       "      <td>36.841850</td>\n",
       "      <td>4.443256</td>\n",
       "      <td>22</td>\n",
       "    </tr>\n",
       "    <tr>\n",
       "      <th>23</th>\n",
       "      <td>47.448700</td>\n",
       "      <td>4.800572</td>\n",
       "      <td>40.053055</td>\n",
       "      <td>4.698711</td>\n",
       "      <td>23</td>\n",
       "    </tr>\n",
       "    <tr>\n",
       "      <th>24</th>\n",
       "      <td>39.995850</td>\n",
       "      <td>4.505105</td>\n",
       "      <td>44.726097</td>\n",
       "      <td>5.104491</td>\n",
       "      <td>24</td>\n",
       "    </tr>\n",
       "  </tbody>\n",
       "</table>\n",
       "</div>"
      ],
      "text/plain": [
       "          loss        mae    val_loss    val_mae  epoch\n",
       "0   549.657043  21.540030  530.823120  21.054731      0\n",
       "1   452.684479  18.974865  401.978394  17.564518      1\n",
       "2   310.813904  14.698573  252.877914  13.222648      2\n",
       "3   190.877762  10.724983  164.146622  10.018781      3\n",
       "4   135.554245   8.892763  130.032654   8.699516      4\n",
       "5   122.346115   8.388323  111.729652   7.879331      5\n",
       "6   114.020218   7.947617   99.770447   7.343098      6\n",
       "7    90.841209   7.066311   84.615715   6.664969      7\n",
       "8    86.316032   6.704585   71.373306   6.073022      8\n",
       "9    83.928131   6.633408   67.431419   5.823883      9\n",
       "10   73.365730   6.054537   61.109444   5.521451     10\n",
       "11   67.775871   5.848712   66.625275   5.825466     11\n",
       "12   69.838181   5.793583   55.055721   5.234362     12\n",
       "13   64.171562   5.647701   52.152355   5.089585     13\n",
       "14   58.689236   5.325474   47.833344   4.870746     14\n",
       "15   60.899059   5.411893   46.086029   4.801155     15\n",
       "16   59.549385   5.501426   57.423859   5.532273     16\n",
       "17   54.586105   5.140489   48.265198   5.010666     17\n",
       "18   52.627411   5.130148   50.146877   5.180993     18\n",
       "19   49.502335   4.947270   38.175976   4.438446     19\n",
       "20   46.633144   4.883459   51.793850   5.392188     20\n",
       "21   47.454357   4.873983   56.726257   5.807924     21\n",
       "22   40.634277   4.443905   36.841850   4.443256     22\n",
       "23   47.448700   4.800572   40.053055   4.698711     23\n",
       "24   39.995850   4.505105   44.726097   5.104491     24"
      ]
     },
     "execution_count": 257,
     "metadata": {},
     "output_type": "execute_result"
    }
   ],
   "source": [
    "df1"
   ]
  },
  {
   "cell_type": "code",
   "execution_count": 263,
   "metadata": {},
   "outputs": [
    {
     "data": {
      "image/png": "[encoded data removed]",
      "text/plain": [
       "<Figure size 864x576 with 1 Axes>"
      ]
     },
     "metadata": {
      "needs_background": "light"
     },
     "output_type": "display_data"
    }
   ],
   "source": [
    "plt.figure(figsize=(12,8))\n",
    "plt.grid(color='grey', linestyle='-', linewidth=0.1)\n",
    "plt.xlabel('Epoch')\n",
    "plt.ylabel('Mean Absolute Error [Thousand Dollars$^2$]')\n",
    "plt.plot(df1['epoch'], df1['mae'], label='Train Error', linewidth=2)\n",
    "plt.plot(df1['epoch'], df1['val_mae'], label = 'Val Error', linewidth=2)\n",
    "plt.legend()\n",
    "plt.title(\"Mean Absolute error for train and val set with multiple hidden layers and relu activation\")\n",
    "plt.show()"
   ]
  },
  {
   "cell_type": "code",
   "execution_count": 265,
   "metadata": {},
   "outputs": [
    {
     "data": {
      "image/png": "[encoded data removed]",
      "text/plain": [
       "<Figure size 864x576 with 1 Axes>"
      ]
     },
     "metadata": {
      "needs_background": "light"
     },
     "output_type": "display_data"
    }
   ],
   "source": [
    "plt.figure(figsize=(12,8))\n",
    "plt.grid(color='grey', linestyle='-', linewidth=0.1)\n",
    "plt.xlabel('Epoch')\n",
    "plt.ylabel('Mean Absolute Error [Thousand Dollars$^2$]')\n",
    "plt.plot(df1['epoch'], df1['loss'], label='Train Loss', linewidth=2)\n",
    "plt.plot(df1['epoch'], df1['val_loss'], label = 'Val Loss', linewidth=2)\n",
    "plt.legend()\n",
    "plt.title(\"Loss for train and val set with multiple hidden layers and relu activation\")\n",
    "plt.show()"
   ]
  },
  {
   "cell_type": "code",
   "execution_count": 206,
   "metadata": {},
   "outputs": [],
   "source": [
    "#linear model\n",
    "model = Sequential([\n",
    "    Dense(64, input_dim=13),\n",
    "    Dense(1)\n",
    "])\n",
    "model.compile(loss='mse', metrics=['mae'])"
   ]
  },
  {
   "cell_type": "code",
   "execution_count": 228,
   "metadata": {},
   "outputs": [
    {
     "name": "stdout",
     "output_type": "stream",
     "text": [
      "Epoch 1/100\n",
      "13/13 [==============================] - 0s 6ms/step - loss: 1457340.8750 - mae: 910.0515 - val_loss: 1054518.3750 - val_mae: 846.4078\n",
      "Epoch 2/100\n",
      "13/13 [==============================] - 0s 6ms/step - loss: 1082975.8750 - mae: 814.7419 - val_loss: 805504.5625 - val_mae: 759.8593\n",
      "Epoch 3/100\n",
      "13/13 [==============================] - 0s 4ms/step - loss: 837253.8125 - mae: 727.1871 - val_loss: 622680.8750 - val_mae: 670.8563\n",
      "Epoch 4/100\n",
      "13/13 [==============================] - 0s 3ms/step - loss: 644141.1875 - mae: 648.5673 - val_loss: 473851.0938 - val_mae: 576.7670\n",
      "Epoch 5/100\n",
      "13/13 [==============================] - 0s 4ms/step - loss: 485804.5938 - mae: 559.3646 - val_loss: 347643.1250 - val_mae: 492.8781\n",
      "Epoch 6/100\n",
      "13/13 [==============================] - 0s 6ms/step - loss: 347707.6875 - mae: 473.0009 - val_loss: 238213.2031 - val_mae: 413.5009\n",
      "Epoch 7/100\n",
      "13/13 [==============================] - 0s 5ms/step - loss: 237624.8281 - mae: 395.5673 - val_loss: 162170.5469 - val_mae: 326.6223\n",
      "Epoch 8/100\n",
      "13/13 [==============================] - 0s 6ms/step - loss: 157606.1875 - mae: 314.1669 - val_loss: 101179.0703 - val_mae: 256.1967\n",
      "Epoch 9/100\n",
      "13/13 [==============================] - 0s 6ms/step - loss: 97369.7422 - mae: 244.2150 - val_loss: 60986.4609 - val_mae: 191.7762\n",
      "Epoch 10/100\n",
      "13/13 [==============================] - 0s 6ms/step - loss: 56382.7422 - mae: 179.3716 - val_loss: 33208.0820 - val_mae: 143.5308\n",
      "Epoch 11/100\n",
      "13/13 [==============================] - 0s 7ms/step - loss: 30311.8340 - mae: 131.3644 - val_loss: 18435.0332 - val_mae: 103.5086\n",
      "Epoch 12/100\n",
      "13/13 [==============================] - 0s 5ms/step - loss: 18048.4004 - mae: 102.0671 - val_loss: 12772.7988 - val_mae: 87.6762\n",
      "Epoch 13/100\n",
      "13/13 [==============================] - 0s 6ms/step - loss: 12712.5156 - mae: 87.7546 - val_loss: 14549.4336 - val_mae: 95.2916\n",
      "Epoch 14/100\n",
      "13/13 [==============================] - 0s 5ms/step - loss: 11019.7920 - mae: 82.1337 - val_loss: 10907.1494 - val_mae: 82.5154\n",
      "Epoch 15/100\n",
      "13/13 [==============================] - 0s 4ms/step - loss: 10344.1650 - mae: 80.3241 - val_loss: 9508.1152 - val_mae: 76.5729\n",
      "Epoch 16/100\n",
      "13/13 [==============================] - 0s 3ms/step - loss: 9923.9775 - mae: 79.0469 - val_loss: 9223.3564 - val_mae: 74.3053\n",
      "Epoch 17/100\n",
      "13/13 [==============================] - 0s 4ms/step - loss: 8965.3604 - mae: 75.5088 - val_loss: 8636.3262 - val_mae: 72.0171\n",
      "Epoch 18/100\n",
      "13/13 [==============================] - 0s 7ms/step - loss: 8257.0938 - mae: 72.3692 - val_loss: 9111.6172 - val_mae: 74.0625\n",
      "Epoch 19/100\n",
      "13/13 [==============================] - 0s 5ms/step - loss: 8013.1382 - mae: 70.7670 - val_loss: 8266.9209 - val_mae: 70.3559\n",
      "Epoch 20/100\n",
      "13/13 [==============================] - 0s 4ms/step - loss: 7039.7563 - mae: 66.3322 - val_loss: 7001.0327 - val_mae: 65.0484\n",
      "Epoch 21/100\n",
      "13/13 [==============================] - 0s 6ms/step - loss: 7096.7773 - mae: 66.7097 - val_loss: 7429.0264 - val_mae: 68.9206\n",
      "Epoch 22/100\n",
      "13/13 [==============================] - 0s 5ms/step - loss: 6427.8838 - mae: 62.2945 - val_loss: 5953.8960 - val_mae: 60.6438\n",
      "Epoch 23/100\n",
      "13/13 [==============================] - 0s 6ms/step - loss: 6352.7192 - mae: 63.1937 - val_loss: 6408.2988 - val_mae: 64.3674\n",
      "Epoch 24/100\n",
      "13/13 [==============================] - 0s 6ms/step - loss: 5408.2485 - mae: 58.5729 - val_loss: 5201.0005 - val_mae: 57.1265\n",
      "Epoch 25/100\n",
      "13/13 [==============================] - 0s 7ms/step - loss: 5275.9980 - mae: 57.8704 - val_loss: 5643.7881 - val_mae: 60.3023\n",
      "Epoch 26/100\n",
      "13/13 [==============================] - 0s 6ms/step - loss: 4832.1572 - mae: 55.2020 - val_loss: 4707.4028 - val_mae: 55.0688\n",
      "Epoch 27/100\n",
      "13/13 [==============================] - 0s 6ms/step - loss: 4796.1177 - mae: 54.5921 - val_loss: 4313.4731 - val_mae: 51.9591\n",
      "Epoch 28/100\n",
      "13/13 [==============================] - 0s 6ms/step - loss: 4019.6121 - mae: 50.2356 - val_loss: 4778.2676 - val_mae: 55.5240\n",
      "Epoch 29/100\n",
      "13/13 [==============================] - 0s 6ms/step - loss: 4072.2168 - mae: 49.1712 - val_loss: 3937.9841 - val_mae: 49.3736\n",
      "Epoch 30/100\n",
      "13/13 [==============================] - 0s 6ms/step - loss: 3574.2349 - mae: 47.0922 - val_loss: 7862.6533 - val_mae: 69.7615\n",
      "Epoch 31/100\n",
      "13/13 [==============================] - 0s 7ms/step - loss: 3469.5273 - mae: 47.5270 - val_loss: 3876.6108 - val_mae: 49.5281\n",
      "Epoch 32/100\n",
      "13/13 [==============================] - 0s 10ms/step - loss: 3502.0117 - mae: 47.0240 - val_loss: 5270.2935 - val_mae: 57.6852\n",
      "Epoch 33/100\n",
      "13/13 [==============================] - 0s 8ms/step - loss: 3058.5820 - mae: 43.8605 - val_loss: 2976.6396 - val_mae: 43.3595\n",
      "Epoch 34/100\n",
      "13/13 [==============================] - 0s 8ms/step - loss: 3021.6018 - mae: 43.6525 - val_loss: 3192.5007 - val_mae: 43.5185\n",
      "Epoch 35/100\n",
      "13/13 [==============================] - 0s 6ms/step - loss: 2869.8604 - mae: 41.9741 - val_loss: 3727.6936 - val_mae: 47.4148\n",
      "Epoch 36/100\n",
      "13/13 [==============================] - 0s 5ms/step - loss: 2702.0488 - mae: 40.8275 - val_loss: 2498.0305 - val_mae: 39.1560\n",
      "Epoch 37/100\n",
      "13/13 [==============================] - 0s 9ms/step - loss: 2368.3572 - mae: 38.7273 - val_loss: 2538.4875 - val_mae: 38.9365\n",
      "Epoch 38/100\n",
      "13/13 [==============================] - 0s 10ms/step - loss: 2522.6155 - mae: 39.5762 - val_loss: 3389.3652 - val_mae: 45.7521\n",
      "Epoch 39/100\n",
      "13/13 [==============================] - 0s 6ms/step - loss: 2115.5176 - mae: 36.3635 - val_loss: 2372.3906 - val_mae: 38.8965\n",
      "Epoch 40/100\n",
      "13/13 [==============================] - 0s 6ms/step - loss: 2164.7498 - mae: 37.3211 - val_loss: 2396.8020 - val_mae: 38.7433\n",
      "Epoch 41/100\n",
      "13/13 [==============================] - 0s 5ms/step - loss: 2210.8030 - mae: 36.6100 - val_loss: 2051.4331 - val_mae: 34.9543\n",
      "Epoch 42/100\n",
      "13/13 [==============================] - 0s 6ms/step - loss: 1767.1801 - mae: 32.8827 - val_loss: 2718.0332 - val_mae: 41.0981\n",
      "Epoch 43/100\n",
      "13/13 [==============================] - 0s 4ms/step - loss: 1927.2257 - mae: 35.1499 - val_loss: 1725.3053 - val_mae: 33.0470\n",
      "Epoch 44/100\n",
      "13/13 [==============================] - 0s 4ms/step - loss: 1742.8889 - mae: 33.3196 - val_loss: 1622.9850 - val_mae: 31.1333\n",
      "Epoch 45/100\n",
      "13/13 [==============================] - 0s 5ms/step - loss: 1649.4717 - mae: 32.2134 - val_loss: 2015.1062 - val_mae: 35.3613\n",
      "Epoch 46/100\n",
      "13/13 [==============================] - 0s 4ms/step - loss: 1544.7246 - mae: 31.1707 - val_loss: 1377.6913 - val_mae: 28.8269\n",
      "Epoch 47/100\n",
      "13/13 [==============================] - 0s 4ms/step - loss: 1325.9514 - mae: 28.8928 - val_loss: 1731.4872 - val_mae: 32.5872\n",
      "Epoch 48/100\n",
      "13/13 [==============================] - 0s 4ms/step - loss: 1540.6462 - mae: 31.4643 - val_loss: 1698.0861 - val_mae: 32.3364\n",
      "Epoch 49/100\n",
      "13/13 [==============================] - 0s 4ms/step - loss: 1055.5891 - mae: 25.8605 - val_loss: 1206.7750 - val_mae: 26.8293\n",
      "Epoch 50/100\n",
      "13/13 [==============================] - 0s 4ms/step - loss: 1339.0396 - mae: 29.0483 - val_loss: 3092.5327 - val_mae: 46.5366\n",
      "Epoch 51/100\n",
      "13/13 [==============================] - 0s 3ms/step - loss: 1188.4648 - mae: 27.1961 - val_loss: 1164.2739 - val_mae: 26.3762\n",
      "Epoch 52/100\n",
      "13/13 [==============================] - 0s 4ms/step - loss: 1022.0133 - mae: 25.1952 - val_loss: 1059.0671 - val_mae: 25.2869\n",
      "Epoch 53/100\n",
      "13/13 [==============================] - 0s 4ms/step - loss: 1188.1338 - mae: 27.8583 - val_loss: 1608.8441 - val_mae: 31.1975\n",
      "Epoch 54/100\n",
      "13/13 [==============================] - 0s 5ms/step - loss: 1001.0612 - mae: 24.7556 - val_loss: 1236.4344 - val_mae: 26.5666\n",
      "Epoch 55/100\n",
      "13/13 [==============================] - 0s 4ms/step - loss: 866.2944 - mae: 23.7370 - val_loss: 1550.8035 - val_mae: 32.3891\n",
      "Epoch 56/100\n",
      "13/13 [==============================] - 0s 4ms/step - loss: 1085.2732 - mae: 26.1370 - val_loss: 1069.5403 - val_mae: 24.6552\n",
      "Epoch 57/100\n",
      "13/13 [==============================] - 0s 4ms/step - loss: 879.7815 - mae: 23.3927 - val_loss: 817.6920 - val_mae: 21.4042\n",
      "Epoch 58/100\n",
      "13/13 [==============================] - 0s 5ms/step - loss: 765.3958 - mae: 21.9435 - val_loss: 719.9756 - val_mae: 20.5650\n",
      "Epoch 59/100\n",
      "13/13 [==============================] - 0s 4ms/step - loss: 847.8831 - mae: 23.1651 - val_loss: 1040.1849 - val_mae: 24.5451\n",
      "Epoch 60/100\n",
      "13/13 [==============================] - 0s 5ms/step - loss: 883.3484 - mae: 23.7428 - val_loss: 1376.6366 - val_mae: 31.3472\n",
      "Epoch 61/100\n",
      "13/13 [==============================] - 0s 5ms/step - loss: 786.0552 - mae: 21.8465 - val_loss: 1054.5155 - val_mae: 26.9412\n",
      "Epoch 62/100\n",
      "13/13 [==============================] - 0s 4ms/step - loss: 785.3726 - mae: 22.4868 - val_loss: 1222.6110 - val_mae: 28.0306\n",
      "Epoch 63/100\n",
      "13/13 [==============================] - 0s 4ms/step - loss: 692.2119 - mae: 21.1670 - val_loss: 770.6716 - val_mae: 22.2075\n",
      "Epoch 64/100\n",
      "13/13 [==============================] - 0s 5ms/step - loss: 851.3411 - mae: 22.8874 - val_loss: 1167.8292 - val_mae: 27.6485\n",
      "Epoch 65/100\n",
      "13/13 [==============================] - 0s 5ms/step - loss: 599.2945 - mae: 19.5863 - val_loss: 488.9357 - val_mae: 16.7721\n",
      "Epoch 66/100\n",
      "13/13 [==============================] - 0s 4ms/step - loss: 652.7876 - mae: 20.4629 - val_loss: 460.5943 - val_mae: 16.2879\n",
      "Epoch 67/100\n",
      "13/13 [==============================] - 0s 4ms/step - loss: 723.4031 - mae: 21.2999 - val_loss: 1026.1991 - val_mae: 26.0242\n",
      "Epoch 68/100\n",
      "13/13 [==============================] - 0s 4ms/step - loss: 729.1915 - mae: 22.1925 - val_loss: 603.4917 - val_mae: 20.1320\n",
      "Epoch 69/100\n",
      "13/13 [==============================] - 0s 5ms/step - loss: 553.8691 - mae: 18.7317 - val_loss: 1239.9114 - val_mae: 30.4814\n",
      "Epoch 70/100\n",
      "13/13 [==============================] - 0s 4ms/step - loss: 667.6967 - mae: 21.1188 - val_loss: 1302.1147 - val_mae: 30.7051\n",
      "Epoch 71/100\n",
      "13/13 [==============================] - 0s 3ms/step - loss: 485.8201 - mae: 17.6119 - val_loss: 450.9666 - val_mae: 16.9489\n",
      "Epoch 72/100\n",
      "13/13 [==============================] - 0s 4ms/step - loss: 691.4161 - mae: 21.4760 - val_loss: 645.4983 - val_mae: 19.5340\n",
      "Epoch 73/100\n",
      "13/13 [==============================] - 0s 5ms/step - loss: 633.3657 - mae: 20.2794 - val_loss: 768.1475 - val_mae: 23.8496\n",
      "Epoch 74/100\n",
      "13/13 [==============================] - 0s 4ms/step - loss: 508.1864 - mae: 18.1302 - val_loss: 369.7660 - val_mae: 14.0529\n",
      "Epoch 75/100\n",
      "13/13 [==============================] - 0s 5ms/step - loss: 605.8931 - mae: 20.0192 - val_loss: 447.8118 - val_mae: 15.5054\n",
      "Epoch 76/100\n",
      "13/13 [==============================] - 0s 4ms/step - loss: 582.1401 - mae: 19.6468 - val_loss: 436.4252 - val_mae: 17.3122\n",
      "Epoch 77/100\n",
      "13/13 [==============================] - 0s 3ms/step - loss: 472.5619 - mae: 17.2870 - val_loss: 1256.2378 - val_mae: 31.0220\n",
      "Epoch 78/100\n",
      "13/13 [==============================] - 0s 4ms/step - loss: 480.3799 - mae: 17.6154 - val_loss: 375.5608 - val_mae: 14.0198\n",
      "Epoch 79/100\n",
      "13/13 [==============================] - 0s 5ms/step - loss: 477.5339 - mae: 17.5561 - val_loss: 281.3062 - val_mae: 12.7537\n",
      "Epoch 80/100\n",
      "13/13 [==============================] - 0s 4ms/step - loss: 487.6710 - mae: 17.6742 - val_loss: 582.9072 - val_mae: 20.9182\n",
      "Epoch 81/100\n",
      "13/13 [==============================] - 0s 4ms/step - loss: 417.7927 - mae: 16.9320 - val_loss: 518.3986 - val_mae: 17.8397\n",
      "Epoch 82/100\n",
      "13/13 [==============================] - 0s 5ms/step - loss: 536.1375 - mae: 18.0113 - val_loss: 324.9690 - val_mae: 12.7921\n",
      "Epoch 83/100\n",
      "13/13 [==============================] - 0s 6ms/step - loss: 406.9385 - mae: 16.3705 - val_loss: 856.5649 - val_mae: 25.4584\n",
      "Epoch 84/100\n",
      "13/13 [==============================] - 0s 4ms/step - loss: 523.1797 - mae: 18.7902 - val_loss: 1185.7294 - val_mae: 30.8413\n",
      "Epoch 85/100\n",
      "13/13 [==============================] - 0s 4ms/step - loss: 501.8821 - mae: 17.8997 - val_loss: 451.5936 - val_mae: 18.1289\n",
      "Epoch 86/100\n",
      "13/13 [==============================] - 0s 3ms/step - loss: 390.7584 - mae: 15.8741 - val_loss: 989.9550 - val_mae: 27.4204\n",
      "Epoch 87/100\n",
      "13/13 [==============================] - 0s 3ms/step - loss: 524.5546 - mae: 18.4549 - val_loss: 1194.8622 - val_mae: 30.7841\n",
      "Epoch 88/100\n",
      "13/13 [==============================] - 0s 4ms/step - loss: 329.5053 - mae: 14.2210 - val_loss: 1288.1943 - val_mae: 32.4380\n",
      "Epoch 89/100\n",
      "13/13 [==============================] - 0s 5ms/step - loss: 483.1271 - mae: 17.2263 - val_loss: 664.5032 - val_mae: 21.8666\n",
      "Epoch 90/100\n",
      "13/13 [==============================] - 0s 4ms/step - loss: 501.8204 - mae: 18.4043 - val_loss: 276.2837 - val_mae: 13.7044\n",
      "Epoch 91/100\n",
      "13/13 [==============================] - 0s 3ms/step - loss: 590.4017 - mae: 20.0727 - val_loss: 216.8358 - val_mae: 10.6405\n",
      "Epoch 92/100\n",
      "13/13 [==============================] - 0s 4ms/step - loss: 381.5872 - mae: 15.9292 - val_loss: 278.6647 - val_mae: 13.8713\n",
      "Epoch 93/100\n",
      "13/13 [==============================] - 0s 4ms/step - loss: 433.7862 - mae: 17.1064 - val_loss: 517.9633 - val_mae: 18.9717\n",
      "Epoch 94/100\n",
      "13/13 [==============================] - 0s 5ms/step - loss: 446.7934 - mae: 17.5573 - val_loss: 253.5455 - val_mae: 13.3210\n",
      "Epoch 95/100\n",
      "13/13 [==============================] - 0s 9ms/step - loss: 491.1718 - mae: 17.8202 - val_loss: 324.1256 - val_mae: 14.0244\n",
      "Epoch 96/100\n",
      "13/13 [==============================] - 0s 6ms/step - loss: 416.3815 - mae: 17.0295 - val_loss: 172.6824 - val_mae: 9.5938\n",
      "Epoch 97/100\n",
      "13/13 [==============================] - 0s 6ms/step - loss: 488.7603 - mae: 18.7057 - val_loss: 171.5206 - val_mae: 9.5354\n",
      "Epoch 98/100\n",
      "13/13 [==============================] - 0s 8ms/step - loss: 458.7934 - mae: 17.1807 - val_loss: 228.2976 - val_mae: 12.5639\n",
      "Epoch 99/100\n",
      "13/13 [==============================] - 0s 8ms/step - loss: 360.9984 - mae: 15.4372 - val_loss: 205.8258 - val_mae: 10.8002\n",
      "Epoch 100/100\n",
      "13/13 [==============================] - 0s 8ms/step - loss: 520.0146 - mae: 18.2458 - val_loss: 189.1076 - val_mae: 11.0344\n"
     ]
    }
   ],
   "source": [
    "data = model.fit(x=X_train, \n",
    "          y=y_train, \n",
    "          epochs=100, \n",
    "          validation_data=(X_test, y_test), \n",
    "          callbacks=[tensorboard_callback])"
   ]
  },
  {
   "cell_type": "code",
   "execution_count": 208,
   "metadata": {},
   "outputs": [
    {
     "data": {
      "text/plain": [
       "Reusing TensorBoard on port 6006 (pid 1452), started 2 days, 0:38:22 ago. (Use '!kill 1452' to kill it.)"
      ]
     },
     "metadata": {},
     "output_type": "display_data"
    },
    {
     "data": {
      "text/html": [
       "\n",
       "      <iframe id=\"tensorboard-frame-49a46dd3cbe2c9c7\" width=\"100%\" height=\"800\" frameborder=\"0\">\n",
       "      </iframe>\n",
       "      <script>\n",
       "        (function() {\n",
       "          const frame = document.getElementById(\"tensorboard-frame-49a46dd3cbe2c9c7\");\n",
       "          const url = new URL(\"/\", window.location);\n",
       "          url.port = 6006;\n",
       "          frame.src = url;\n",
       "        })();\n",
       "      </script>\n",
       "  "
      ],
      "text/plain": [
       "<IPython.core.display.HTML object>"
      ]
     },
     "metadata": {},
     "output_type": "display_data"
    }
   ],
   "source": [
    "%tensorboard --logdir logs"
   ]
  },
  {
   "cell_type": "code",
   "execution_count": 229,
   "metadata": {},
   "outputs": [],
   "source": [
    "df = pd.DataFrame(data.history)\n",
    "df['epoch'] = data.epoch"
   ]
  },
  {
   "cell_type": "code",
   "execution_count": 230,
   "metadata": {},
   "outputs": [
    {
     "data": {
      "text/html": [
       "<div>\n",
       "<style scoped>\n",
       "    .dataframe tbody tr th:only-of-type {\n",
       "        vertical-align: middle;\n",
       "    }\n",
       "\n",
       "    .dataframe tbody tr th {\n",
       "        vertical-align: top;\n",
       "    }\n",
       "\n",
       "    .dataframe thead th {\n",
       "        text-align: right;\n",
       "    }\n",
       "</style>\n",
       "<table border=\"1\" class=\"dataframe\">\n",
       "  <thead>\n",
       "    <tr style=\"text-align: right;\">\n",
       "      <th></th>\n",
       "      <th>loss</th>\n",
       "      <th>mae</th>\n",
       "      <th>val_loss</th>\n",
       "      <th>val_mae</th>\n",
       "      <th>epoch</th>\n",
       "    </tr>\n",
       "  </thead>\n",
       "  <tbody>\n",
       "    <tr>\n",
       "      <th>0</th>\n",
       "      <td>1.457341e+06</td>\n",
       "      <td>910.051453</td>\n",
       "      <td>1.054518e+06</td>\n",
       "      <td>846.407776</td>\n",
       "      <td>0</td>\n",
       "    </tr>\n",
       "    <tr>\n",
       "      <th>1</th>\n",
       "      <td>1.082976e+06</td>\n",
       "      <td>814.741943</td>\n",
       "      <td>8.055046e+05</td>\n",
       "      <td>759.859314</td>\n",
       "      <td>1</td>\n",
       "    </tr>\n",
       "    <tr>\n",
       "      <th>2</th>\n",
       "      <td>8.372538e+05</td>\n",
       "      <td>727.187134</td>\n",
       "      <td>6.226809e+05</td>\n",
       "      <td>670.856323</td>\n",
       "      <td>2</td>\n",
       "    </tr>\n",
       "    <tr>\n",
       "      <th>3</th>\n",
       "      <td>6.441412e+05</td>\n",
       "      <td>648.567261</td>\n",
       "      <td>4.738511e+05</td>\n",
       "      <td>576.766968</td>\n",
       "      <td>3</td>\n",
       "    </tr>\n",
       "    <tr>\n",
       "      <th>4</th>\n",
       "      <td>4.858046e+05</td>\n",
       "      <td>559.364563</td>\n",
       "      <td>3.476431e+05</td>\n",
       "      <td>492.878113</td>\n",
       "      <td>4</td>\n",
       "    </tr>\n",
       "    <tr>\n",
       "      <th>...</th>\n",
       "      <td>...</td>\n",
       "      <td>...</td>\n",
       "      <td>...</td>\n",
       "      <td>...</td>\n",
       "      <td>...</td>\n",
       "    </tr>\n",
       "    <tr>\n",
       "      <th>95</th>\n",
       "      <td>4.163815e+02</td>\n",
       "      <td>17.029545</td>\n",
       "      <td>1.726824e+02</td>\n",
       "      <td>9.593771</td>\n",
       "      <td>95</td>\n",
       "    </tr>\n",
       "    <tr>\n",
       "      <th>96</th>\n",
       "      <td>4.887603e+02</td>\n",
       "      <td>18.705750</td>\n",
       "      <td>1.715206e+02</td>\n",
       "      <td>9.535362</td>\n",
       "      <td>96</td>\n",
       "    </tr>\n",
       "    <tr>\n",
       "      <th>97</th>\n",
       "      <td>4.587934e+02</td>\n",
       "      <td>17.180656</td>\n",
       "      <td>2.282976e+02</td>\n",
       "      <td>12.563926</td>\n",
       "      <td>97</td>\n",
       "    </tr>\n",
       "    <tr>\n",
       "      <th>98</th>\n",
       "      <td>3.609984e+02</td>\n",
       "      <td>15.437222</td>\n",
       "      <td>2.058258e+02</td>\n",
       "      <td>10.800204</td>\n",
       "      <td>98</td>\n",
       "    </tr>\n",
       "    <tr>\n",
       "      <th>99</th>\n",
       "      <td>5.200146e+02</td>\n",
       "      <td>18.245808</td>\n",
       "      <td>1.891076e+02</td>\n",
       "      <td>11.034370</td>\n",
       "      <td>99</td>\n",
       "    </tr>\n",
       "  </tbody>\n",
       "</table>\n",
       "<p>100 rows × 5 columns</p>\n",
       "</div>"
      ],
      "text/plain": [
       "            loss         mae      val_loss     val_mae  epoch\n",
       "0   1.457341e+06  910.051453  1.054518e+06  846.407776      0\n",
       "1   1.082976e+06  814.741943  8.055046e+05  759.859314      1\n",
       "2   8.372538e+05  727.187134  6.226809e+05  670.856323      2\n",
       "3   6.441412e+05  648.567261  4.738511e+05  576.766968      3\n",
       "4   4.858046e+05  559.364563  3.476431e+05  492.878113      4\n",
       "..           ...         ...           ...         ...    ...\n",
       "95  4.163815e+02   17.029545  1.726824e+02    9.593771     95\n",
       "96  4.887603e+02   18.705750  1.715206e+02    9.535362     96\n",
       "97  4.587934e+02   17.180656  2.282976e+02   12.563926     97\n",
       "98  3.609984e+02   15.437222  2.058258e+02   10.800204     98\n",
       "99  5.200146e+02   18.245808  1.891076e+02   11.034370     99\n",
       "\n",
       "[100 rows x 5 columns]"
      ]
     },
     "execution_count": 230,
     "metadata": {},
     "output_type": "execute_result"
    }
   ],
   "source": [
    "df"
   ]
  },
  {
   "cell_type": "code",
   "execution_count": 261,
   "metadata": {},
   "outputs": [
    {
     "data": {
      "image/png": "[encoded data removed]",
      "text/plain": [
       "<Figure size 864x576 with 1 Axes>"
      ]
     },
     "metadata": {
      "needs_background": "light"
     },
     "output_type": "display_data"
    }
   ],
   "source": [
    "import matplotlib.pyplot as plt\n",
    "\n",
    "plt.figure(figsize=(12,8))\n",
    "plt.grid(color='grey', linestyle='-', linewidth=0.1)\n",
    "plt.xlabel('Epoch')\n",
    "plt.ylabel('Mean Absolute Error [Thousand Dollars$^2$]')\n",
    "plt.plot(df['epoch'], df['mae'], label='Train Error', linewidth=2)\n",
    "plt.plot(df['epoch'], df['val_mae'], label = 'Val Error', linewidth=2)\n",
    "plt.legend()\n",
    "plt.ylim([0,300])\n",
    "plt.title(\"Mean Absolute error for train and val set trained with linear regression\")\n",
    "plt.show()"
   ]
  },
  {
   "cell_type": "code",
   "execution_count": 262,
   "metadata": {},
   "outputs": [
    {
     "data": {
      "image/png": "[encoded data removed]",
      "text/plain": [
       "<Figure size 864x576 with 1 Axes>"
      ]
     },
     "metadata": {
      "needs_background": "light"
     },
     "output_type": "display_data"
    }
   ],
   "source": [
    "plt.figure(figsize=(12,8))\n",
    "plt.grid(color='grey', linestyle='-', linewidth=0.1)\n",
    "plt.xlabel('Epoch')\n",
    "plt.ylabel('Mean Absolute Error [Thousand Dollars$^2$]')\n",
    "plt.plot(df['epoch'], df['loss'], label='Train Loss', linewidth=2, alpha=0.7)\n",
    "plt.plot(df['epoch'], df['val_loss'], label = 'Val Loss', linewidth=2, alpha=0.5)\n",
    "plt.legend()\n",
    "plt.title(\"Loss for train and val set trained with linear regression\")\n",
    "plt.show()"
   ]
  },
  {
   "cell_type": "markdown",
   "metadata": {},
   "source": [
    "### linear regression model performs good for this data, however better accuracy I got with more hidden layers, relu activation functions, regulzer, optimizer and Dropout."
   ]
  },
  {
   "cell_type": "markdown",
   "metadata": {
    "colab_type": "text",
    "id": "SfcFnOONyuNm"
   },
   "source": [
    "## Use the Keras Library to build an image recognition network using the Fashion-MNIST dataset (also comes with keras)\n",
    "\n",
    "- Load and preprocess the image data similar to how we preprocessed the MNIST data in class.\n",
    "- Make sure to one-hot encode your category labels\n",
    "- The number of nodes in your output layer should equal the number of classes you want to predict for Fashion-MNIST.\n",
    "- Try different hyperparameters. What is the highest accuracy that you are able to achieve.\n",
    "- Use the history object that is returned from model.fit to make graphs of the model's loss or train/validation accuracies by epoch. \n",
    "- Remember that neural networks fall prey to randomness so you may need to run your model multiple times (or use Cross Validation) in order to tell if a change to a hyperparameter is truly producing better results."
   ]
  },
  {
   "cell_type": "code",
   "execution_count": null,
   "metadata": {
    "colab": {},
    "colab_type": "code",
    "id": "szi6-IpuzaH1"
   },
   "outputs": [],
   "source": [
    "##### Your Code Here #####\n",
    "\n"
   ]
  },
  {
   "cell_type": "markdown",
   "metadata": {
    "colab_type": "text",
    "id": "zv_3xNMjzdLI"
   },
   "source": [
    "## Stretch Goals:\n",
    "\n",
    "- Use Hyperparameter Tuning to make the accuracy of your models as high as possible. (error as low as possible)\n",
    "- Use Cross Validation techniques to get more consistent results with your model.\n",
    "- Use GridSearchCV to try different combinations of hyperparameters. \n",
    "- Start looking into other types of Keras layers for CNNs and RNNs maybe try and build a CNN model for fashion-MNIST to see how the results compare."
   ]
  }
 ],
 "metadata": {
  "colab": {
   "name": "LS_DS_433_Keras_Assignment.ipynb",
   "provenance": [],
   "version": "0.3.2"
  },
  "kernelspec": {
   "display_name": "Python 3",
   "language": "python",
   "name": "python3"
  },
  "language_info": {
   "codemirror_mode": {
    "name": "ipython",
    "version": 3
   },
   "file_extension": ".py",
   "mimetype": "text/x-python",
   "name": "python",
   "nbconvert_exporter": "python",
   "pygments_lexer": "ipython3",
   "version": "3.8.3"
  }
 },
 "nbformat": 4,
 "nbformat_minor": 4
}
