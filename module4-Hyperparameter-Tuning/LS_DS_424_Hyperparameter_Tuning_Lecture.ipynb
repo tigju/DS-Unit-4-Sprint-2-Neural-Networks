{
 "cells": [
  {
   "cell_type": "markdown",
   "metadata": {
    "colab_type": "text",
    "id": "41TS0Sa0rDNx"
   },
   "source": [
    "Lambda School Data Science\n",
    "\n",
    "*Unit 4, Sprint 2, Module 4*\n",
    "\n",
    "---"
   ]
  },
  {
   "cell_type": "markdown",
   "metadata": {
    "colab_type": "text",
    "id": "41TS0Sa0rDNx"
   },
   "source": [
    "# Neural Networks & GPUs (Prepare)\n",
    "*aka Hyperparameter Tuning*\n",
    "\n",
    "*aka Big Servers for Big Problems*"
   ]
  },
  {
   "cell_type": "markdown",
   "metadata": {
    "colab_type": "text",
    "id": "41TS0Sa0rDNx"
   },
   "source": [
    "## Learning Objectives\n",
    "* <a href=\"#p1\">Part 1</a>: Describe the major hyperparemeters to tune\n",
    "* <a href=\"#p2\">Part 2</a>: Implement an experiment tracking framework\n",
    "* <a href=\"#p3\">Part 3</a>: Search the hyperparameter space using RandomSearch (Optional)"
   ]
  },
  {
   "cell_type": "code",
   "execution_count": 1,
   "metadata": {},
   "outputs": [],
   "source": [
    "wandb_group = \"alexkim\"\n",
    "wandb_project = \"dspt5-proj\""
   ]
  },
  {
   "cell_type": "code",
   "execution_count": 13,
   "metadata": {},
   "outputs": [
    {
     "name": "stdout",
     "output_type": "stream",
     "text": [
      "Collecting wandb\n",
      "  Using cached wandb-0.9.4-py2.py3-none-any.whl (1.4 MB)\n",
      "Collecting sentry-sdk>=0.4.0\n",
      "  Using cached sentry_sdk-0.16.2-py2.py3-none-any.whl (109 kB)\n",
      "Requirement already satisfied, skipping upgrade: gql==0.2.0 in /home/tigju/miniconda3/envs/unit4-machine-learning/lib/python3.8/site-packages (from wandb) (0.2.0)\n",
      "Requirement already satisfied, skipping upgrade: configparser>=3.8.1 in /home/tigju/miniconda3/envs/unit4-machine-learning/lib/python3.8/site-packages (from wandb) (5.0.0)\n",
      "Requirement already satisfied, skipping upgrade: PyYAML>=3.10 in /home/tigju/miniconda3/envs/unit4-machine-learning/lib/python3.8/site-packages (from wandb) (5.3.1)\n",
      "Requirement already satisfied, skipping upgrade: requests>=2.0.0 in /home/tigju/miniconda3/envs/unit4-machine-learning/lib/python3.8/site-packages (from wandb) (2.24.0)\n",
      "Requirement already satisfied, skipping upgrade: python-dateutil>=2.6.1 in /home/tigju/miniconda3/envs/unit4-machine-learning/lib/python3.8/site-packages (from wandb) (2.8.1)\n",
      "Processing /home/tigju/.cache/pip/wheels/f8/39/45/b80612a24e42d9de0bd5eaf69eaf953edc25e1a9809d3d989f/watchdog-0.10.3-py3-none-any.whl\n",
      "Requirement already satisfied, skipping upgrade: docker-pycreds>=0.4.0 in /home/tigju/miniconda3/envs/unit4-machine-learning/lib/python3.8/site-packages (from wandb) (0.4.0)\n",
      "Collecting GitPython>=1.0.0\n",
      "  Using cached GitPython-3.1.7-py3-none-any.whl (158 kB)\n",
      "Processing /home/tigju/.cache/pip/wheels/9f/69/d1/50b39b308a87998eaf5c1d9095e5a5bd2ad98501e2b7936d36/subprocess32-3.5.4-py3-none-any.whl\n",
      "Requirement already satisfied, skipping upgrade: shortuuid>=0.5.0 in /home/tigju/miniconda3/envs/unit4-machine-learning/lib/python3.8/site-packages (from wandb) (1.0.1)\n",
      "Requirement already satisfied, skipping upgrade: six>=1.10.0 in /home/tigju/miniconda3/envs/unit4-machine-learning/lib/python3.8/site-packages (from wandb) (1.15.0)\n",
      "Collecting psutil>=5.0.0\n",
      "  Using cached psutil-5.7.2.tar.gz (460 kB)\n",
      "Requirement already satisfied, skipping upgrade: nvidia-ml-py3>=7.352.0 in /home/tigju/miniconda3/envs/unit4-machine-learning/lib/python3.8/site-packages (from wandb) (7.352.0)\n",
      "Requirement already satisfied, skipping upgrade: Click>=7.0 in /home/tigju/miniconda3/envs/unit4-machine-learning/lib/python3.8/site-packages (from wandb) (7.1.2)\n",
      "Requirement already satisfied, skipping upgrade: urllib3>=1.10.0 in /home/tigju/miniconda3/envs/unit4-machine-learning/lib/python3.8/site-packages (from sentry-sdk>=0.4.0->wandb) (1.25.9)\n",
      "Requirement already satisfied, skipping upgrade: certifi in /home/tigju/miniconda3/envs/unit4-machine-learning/lib/python3.8/site-packages (from sentry-sdk>=0.4.0->wandb) (2020.6.20)\n",
      "Requirement already satisfied, skipping upgrade: graphql-core<2,>=0.5.0 in /home/tigju/miniconda3/envs/unit4-machine-learning/lib/python3.8/site-packages (from gql==0.2.0->wandb) (1.1)\n",
      "Requirement already satisfied, skipping upgrade: promise<3,>=2.0 in /home/tigju/miniconda3/envs/unit4-machine-learning/lib/python3.8/site-packages (from gql==0.2.0->wandb) (2.3)\n",
      "Requirement already satisfied, skipping upgrade: chardet<4,>=3.0.2 in /home/tigju/miniconda3/envs/unit4-machine-learning/lib/python3.8/site-packages (from requests>=2.0.0->wandb) (3.0.4)\n",
      "Requirement already satisfied, skipping upgrade: idna<3,>=2.5 in /home/tigju/miniconda3/envs/unit4-machine-learning/lib/python3.8/site-packages (from requests>=2.0.0->wandb) (2.10)\n",
      "Processing /home/tigju/.cache/pip/wheels/4c/8e/7e/72fbc243e1aeecae64a96875432e70d4e92f3d2d18123be004/pathtools-0.1.2-py3-none-any.whl\n",
      "Collecting gitdb<5,>=4.0.1\n",
      "  Using cached gitdb-4.0.5-py3-none-any.whl (63 kB)\n",
      "Collecting smmap<4,>=3.0.1\n",
      "  Using cached smmap-3.0.4-py2.py3-none-any.whl (25 kB)\n",
      "Building wheels for collected packages: psutil\n",
      "  Building wheel for psutil (setup.py) ... \u001b[?25lerror\n",
      "\u001b[31m  ERROR: Command errored out with exit status 1:\n",
      "   command: /home/tigju/miniconda3/envs/unit4-machine-learning/bin/python -u -c 'import sys, setuptools, tokenize; sys.argv[0] = '\"'\"'/tmp/pip-install-jlcqiddg/psutil/setup.py'\"'\"'; __file__='\"'\"'/tmp/pip-install-jlcqiddg/psutil/setup.py'\"'\"';f=getattr(tokenize, '\"'\"'open'\"'\"', open)(__file__);code=f.read().replace('\"'\"'\\r\\n'\"'\"', '\"'\"'\\n'\"'\"');f.close();exec(compile(code, __file__, '\"'\"'exec'\"'\"'))' bdist_wheel -d /tmp/pip-wheel-b0hflr3n\n",
      "       cwd: /tmp/pip-install-jlcqiddg/psutil/\n",
      "  Complete output (44 lines):\n",
      "  running bdist_wheel\n",
      "  running build\n",
      "  running build_py\n",
      "  creating build\n",
      "  creating build/lib.linux-x86_64-3.8\n",
      "  creating build/lib.linux-x86_64-3.8/psutil\n",
      "  copying psutil/__init__.py -> build/lib.linux-x86_64-3.8/psutil\n",
      "  copying psutil/_common.py -> build/lib.linux-x86_64-3.8/psutil\n",
      "  copying psutil/_compat.py -> build/lib.linux-x86_64-3.8/psutil\n",
      "  copying psutil/_psaix.py -> build/lib.linux-x86_64-3.8/psutil\n",
      "  copying psutil/_psbsd.py -> build/lib.linux-x86_64-3.8/psutil\n",
      "  copying psutil/_pslinux.py -> build/lib.linux-x86_64-3.8/psutil\n",
      "  copying psutil/_psosx.py -> build/lib.linux-x86_64-3.8/psutil\n",
      "  copying psutil/_psposix.py -> build/lib.linux-x86_64-3.8/psutil\n",
      "  copying psutil/_pssunos.py -> build/lib.linux-x86_64-3.8/psutil\n",
      "  copying psutil/_pswindows.py -> build/lib.linux-x86_64-3.8/psutil\n",
      "  creating build/lib.linux-x86_64-3.8/psutil/tests\n",
      "  copying psutil/tests/__init__.py -> build/lib.linux-x86_64-3.8/psutil/tests\n",
      "  copying psutil/tests/__main__.py -> build/lib.linux-x86_64-3.8/psutil/tests\n",
      "  copying psutil/tests/runner.py -> build/lib.linux-x86_64-3.8/psutil/tests\n",
      "  copying psutil/tests/test_aix.py -> build/lib.linux-x86_64-3.8/psutil/tests\n",
      "  copying psutil/tests/test_bsd.py -> build/lib.linux-x86_64-3.8/psutil/tests\n",
      "  copying psutil/tests/test_connections.py -> build/lib.linux-x86_64-3.8/psutil/tests\n",
      "  copying psutil/tests/test_contracts.py -> build/lib.linux-x86_64-3.8/psutil/tests\n",
      "  copying psutil/tests/test_linux.py -> build/lib.linux-x86_64-3.8/psutil/tests\n",
      "  copying psutil/tests/test_memleaks.py -> build/lib.linux-x86_64-3.8/psutil/tests\n",
      "  copying psutil/tests/test_misc.py -> build/lib.linux-x86_64-3.8/psutil/tests\n",
      "  copying psutil/tests/test_osx.py -> build/lib.linux-x86_64-3.8/psutil/tests\n",
      "  copying psutil/tests/test_posix.py -> build/lib.linux-x86_64-3.8/psutil/tests\n",
      "  copying psutil/tests/test_process.py -> build/lib.linux-x86_64-3.8/psutil/tests\n",
      "  copying psutil/tests/test_sunos.py -> build/lib.linux-x86_64-3.8/psutil/tests\n",
      "  copying psutil/tests/test_system.py -> build/lib.linux-x86_64-3.8/psutil/tests\n",
      "  copying psutil/tests/test_testutils.py -> build/lib.linux-x86_64-3.8/psutil/tests\n",
      "  copying psutil/tests/test_unicode.py -> build/lib.linux-x86_64-3.8/psutil/tests\n",
      "  copying psutil/tests/test_windows.py -> build/lib.linux-x86_64-3.8/psutil/tests\n",
      "  running build_ext\n",
      "  building 'psutil._psutil_linux' extension\n",
      "  creating build/temp.linux-x86_64-3.8\n",
      "  creating build/temp.linux-x86_64-3.8/psutil\n",
      "  gcc -pthread -B /home/tigju/miniconda3/envs/unit4-machine-learning/compiler_compat -Wl,--sysroot=/ -Wsign-compare -DNDEBUG -g -fwrapv -O3 -Wall -Wstrict-prototypes -fPIC -DPSUTIL_POSIX=1 -DPSUTIL_SIZEOF_PID_T=4 -DPSUTIL_VERSION=572 -DPSUTIL_LINUX=1 -DPSUTIL_ETHTOOL_MISSING_TYPES=1 -I/home/tigju/miniconda3/envs/unit4-machine-learning/include/python3.8 -c psutil/_psutil_common.c -o build/temp.linux-x86_64-3.8/psutil/_psutil_common.o\n",
      "  unable to execute 'gcc': No such file or directory\n",
      "  C compiler or Python headers are not installed on this system. Try to run:\n",
      "  sudo apt-get install gcc python3-dev\n",
      "  error: command 'gcc' failed with exit status 1\n",
      "  ----------------------------------------\u001b[0m\n",
      "\u001b[31m  ERROR: Failed building wheel for psutil\u001b[0m\n",
      "\u001b[?25h  Running setup.py clean for psutil\n",
      "Failed to build psutil\n",
      "Installing collected packages: sentry-sdk, pathtools, watchdog, smmap, gitdb, GitPython, subprocess32, psutil, wandb\n",
      "    Running setup.py install for psutil ... \u001b[?25lerror\n",
      "\u001b[31m    ERROR: Command errored out with exit status 1:\n",
      "     command: /home/tigju/miniconda3/envs/unit4-machine-learning/bin/python -u -c 'import sys, setuptools, tokenize; sys.argv[0] = '\"'\"'/tmp/pip-install-jlcqiddg/psutil/setup.py'\"'\"'; __file__='\"'\"'/tmp/pip-install-jlcqiddg/psutil/setup.py'\"'\"';f=getattr(tokenize, '\"'\"'open'\"'\"', open)(__file__);code=f.read().replace('\"'\"'\\r\\n'\"'\"', '\"'\"'\\n'\"'\"');f.close();exec(compile(code, __file__, '\"'\"'exec'\"'\"'))' install --record /tmp/pip-record-kdllqic_/install-record.txt --single-version-externally-managed --compile --install-headers /home/tigju/miniconda3/envs/unit4-machine-learning/include/python3.8/psutil\n",
      "         cwd: /tmp/pip-install-jlcqiddg/psutil/\n",
      "    Complete output (44 lines):\n",
      "    running install\n",
      "    running build\n",
      "    running build_py\n",
      "    creating build\n",
      "    creating build/lib.linux-x86_64-3.8\n",
      "    creating build/lib.linux-x86_64-3.8/psutil\n",
      "    copying psutil/__init__.py -> build/lib.linux-x86_64-3.8/psutil\n",
      "    copying psutil/_common.py -> build/lib.linux-x86_64-3.8/psutil\n",
      "    copying psutil/_compat.py -> build/lib.linux-x86_64-3.8/psutil\n",
      "    copying psutil/_psaix.py -> build/lib.linux-x86_64-3.8/psutil\n",
      "    copying psutil/_psbsd.py -> build/lib.linux-x86_64-3.8/psutil\n",
      "    copying psutil/_pslinux.py -> build/lib.linux-x86_64-3.8/psutil\n",
      "    copying psutil/_psosx.py -> build/lib.linux-x86_64-3.8/psutil\n",
      "    copying psutil/_psposix.py -> build/lib.linux-x86_64-3.8/psutil\n",
      "    copying psutil/_pssunos.py -> build/lib.linux-x86_64-3.8/psutil\n",
      "    copying psutil/_pswindows.py -> build/lib.linux-x86_64-3.8/psutil\n",
      "    creating build/lib.linux-x86_64-3.8/psutil/tests\n",
      "    copying psutil/tests/__init__.py -> build/lib.linux-x86_64-3.8/psutil/tests\n",
      "    copying psutil/tests/__main__.py -> build/lib.linux-x86_64-3.8/psutil/tests\n",
      "    copying psutil/tests/runner.py -> build/lib.linux-x86_64-3.8/psutil/tests\n",
      "    copying psutil/tests/test_aix.py -> build/lib.linux-x86_64-3.8/psutil/tests\n",
      "    copying psutil/tests/test_bsd.py -> build/lib.linux-x86_64-3.8/psutil/tests\n",
      "    copying psutil/tests/test_connections.py -> build/lib.linux-x86_64-3.8/psutil/tests\n",
      "    copying psutil/tests/test_contracts.py -> build/lib.linux-x86_64-3.8/psutil/tests\n",
      "    copying psutil/tests/test_linux.py -> build/lib.linux-x86_64-3.8/psutil/tests\n",
      "    copying psutil/tests/test_memleaks.py -> build/lib.linux-x86_64-3.8/psutil/tests\n",
      "    copying psutil/tests/test_misc.py -> build/lib.linux-x86_64-3.8/psutil/tests\n",
      "    copying psutil/tests/test_osx.py -> build/lib.linux-x86_64-3.8/psutil/tests\n",
      "    copying psutil/tests/test_posix.py -> build/lib.linux-x86_64-3.8/psutil/tests\n",
      "    copying psutil/tests/test_process.py -> build/lib.linux-x86_64-3.8/psutil/tests\n",
      "    copying psutil/tests/test_sunos.py -> build/lib.linux-x86_64-3.8/psutil/tests\n",
      "    copying psutil/tests/test_system.py -> build/lib.linux-x86_64-3.8/psutil/tests\n",
      "    copying psutil/tests/test_testutils.py -> build/lib.linux-x86_64-3.8/psutil/tests\n",
      "    copying psutil/tests/test_unicode.py -> build/lib.linux-x86_64-3.8/psutil/tests\n",
      "    copying psutil/tests/test_windows.py -> build/lib.linux-x86_64-3.8/psutil/tests\n",
      "    running build_ext\n",
      "    building 'psutil._psutil_linux' extension\n",
      "    creating build/temp.linux-x86_64-3.8\n",
      "    creating build/temp.linux-x86_64-3.8/psutil\n",
      "    gcc -pthread -B /home/tigju/miniconda3/envs/unit4-machine-learning/compiler_compat -Wl,--sysroot=/ -Wsign-compare -DNDEBUG -g -fwrapv -O3 -Wall -Wstrict-prototypes -fPIC -DPSUTIL_POSIX=1 -DPSUTIL_SIZEOF_PID_T=4 -DPSUTIL_VERSION=572 -DPSUTIL_LINUX=1 -DPSUTIL_ETHTOOL_MISSING_TYPES=1 -I/home/tigju/miniconda3/envs/unit4-machine-learning/include/python3.8 -c psutil/_psutil_common.c -o build/temp.linux-x86_64-3.8/psutil/_psutil_common.o\n",
      "    unable to execute 'gcc': No such file or directory\n",
      "    C compiler or Python headers are not installed on this system. Try to run:\n",
      "    sudo apt-get install gcc python3-dev\n",
      "    error: command 'gcc' failed with exit status 1\n",
      "    ----------------------------------------\u001b[0m\n",
      "\u001b[31mERROR: Command errored out with exit status 1: /home/tigju/miniconda3/envs/unit4-machine-learning/bin/python -u -c 'import sys, setuptools, tokenize; sys.argv[0] = '\"'\"'/tmp/pip-install-jlcqiddg/psutil/setup.py'\"'\"'; __file__='\"'\"'/tmp/pip-install-jlcqiddg/psutil/setup.py'\"'\"';f=getattr(tokenize, '\"'\"'open'\"'\"', open)(__file__);code=f.read().replace('\"'\"'\\r\\n'\"'\"', '\"'\"'\\n'\"'\"');f.close();exec(compile(code, __file__, '\"'\"'exec'\"'\"'))' install --record /tmp/pip-record-kdllqic_/install-record.txt --single-version-externally-managed --compile --install-headers /home/tigju/miniconda3/envs/unit4-machine-learning/include/python3.8/psutil Check the logs for full command output.\u001b[0m\n",
      "\u001b[?25h"
     ]
    }
   ],
   "source": [
    "!pip install --upgrade wandb"
   ]
  },
  {
   "cell_type": "code",
   "execution_count": 5,
   "metadata": {},
   "outputs": [
    {
     "name": "stdout",
     "output_type": "stream",
     "text": [
      "/bin/bash: wandb: command not found\n"
     ]
    }
   ],
   "source": [
    "!wandb login f90454e281096078a078e8ba7e9a118427bf5e4e"
   ]
  },
  {
   "cell_type": "markdown",
   "metadata": {},
   "source": [
    "# Hyperparameter Options (Learn)\n",
    "<a id=\"p1\"></a>"
   ]
  },
  {
   "cell_type": "markdown",
   "metadata": {},
   "source": [
    "## Overview\n",
    "\n",
    "Hyperparameter tuning is much more important with neural networks than it has been with any other models that we have considered up to this point. Other supervised learning models might have a couple of parameters, but neural networks can have dozens. These can substantially affect the accuracy of our models and although it can be a time consuming process is a necessary step when working with neural networks.\n",
    "​\n",
    "Hyperparameter tuning comes with a challenge. How can we compare models specified with different hyperparameters if our model's final error metric can vary somewhat erratically? How do we avoid just getting unlucky and selecting the wrong hyperparameter? This is a problem that to a certain degree we just have to live with as we test and test again. However, we can minimize it somewhat by pairing our experiments with Cross Validation to reduce the variance of our final accuracy values."
   ]
  },
  {
   "cell_type": "markdown",
   "metadata": {
    "colab_type": "text",
    "id": "0s0o2pqBs88q"
   },
   "source": [
    "### Load Boston Housing Data"
   ]
  },
  {
   "cell_type": "code",
   "execution_count": 7,
   "metadata": {},
   "outputs": [],
   "source": [
    "from tensorflow.keras.datasets import boston_housing\n",
    "\n",
    "(x_train, y_train), (x_test, y_test) = boston_housing.load_data()"
   ]
  },
  {
   "cell_type": "markdown",
   "metadata": {
    "colab_type": "text",
    "id": "Pm7zow5IvaTt"
   },
   "source": [
    "### Normalizing Input Data\n",
    "\n",
    "It's not 100% necessary to normalize/scale your input data before feeding it to a neural network, the network can learn the appropriate weights to deal with data of as long as it is numerically represented,  but it is recommended as it can help **make training faster** and **reduces the chances that gradient descent might get stuck in a local optimum**.\n",
    "\n",
    "<https://stackoverflow.com/questions/4674623/why-do-we-have-to-normalize-the-input-for-an-artificial-neural-network>"
   ]
  },
  {
   "cell_type": "code",
   "execution_count": 8,
   "metadata": {},
   "outputs": [
    {
     "name": "stdout",
     "output_type": "stream",
     "text": [
      "[[-0.27224633 -0.48361547 -0.43576161 -0.25683275 -0.1652266  -0.1764426\n",
      "   0.81306188  0.1166983  -0.62624905 -0.59517003  1.14850044  0.44807713\n",
      "   0.8252202 ]\n",
      " [-0.40342651  2.99178419 -1.33391162 -0.25683275 -1.21518188  1.89434613\n",
      "  -1.91036058  1.24758524 -0.85646254 -0.34843254 -1.71818909  0.43190599\n",
      "  -1.32920239]\n",
      " [ 0.1249402  -0.48361547  1.0283258  -0.25683275  0.62864202 -1.82968811\n",
      "   1.11048828 -1.18743907  1.67588577  1.5652875   0.78447637  0.22061726\n",
      "  -1.30850006]\n",
      " [-0.40149354 -0.48361547 -0.86940196 -0.25683275 -0.3615597  -0.3245576\n",
      "  -1.23667187  1.10717989 -0.51114231 -1.094663    0.78447637  0.44807713\n",
      "  -0.65292624]\n",
      " [-0.0056343  -0.48361547  1.0283258  -0.25683275  1.32861221  0.15364225\n",
      "   0.69480801 -0.57857203  1.67588577  1.5652875   0.78447637  0.3898823\n",
      "   0.26349695]\n",
      " [-0.37502238 -0.48361547 -0.54747912 -0.25683275 -0.54935658 -0.78865126\n",
      "   0.18954148  0.48371503 -0.51114231 -0.71552978  0.51145832  0.38669063\n",
      "  -0.13812828]\n",
      " [ 0.58963463 -0.48361547  1.0283258  -0.25683275  1.21764133 -1.03127774\n",
      "   1.11048828 -1.06518235  1.67588577  1.5652875   0.78447637  0.44807713\n",
      "   1.49873604]\n",
      " [ 0.0381708  -0.48361547  1.24588095 -0.25683275  2.67733525 -1.12719983\n",
      "   1.11048828 -1.14833073 -0.51114231 -0.01744323 -1.71818909  0.44807713\n",
      "   1.88793986]\n",
      " [-0.17228416 -0.48361547  1.24588095 -0.25683275  2.67733525 -0.90150078\n",
      "   1.11048828 -1.09664657 -0.51114231 -0.01744323 -1.71818909 -1.97365769\n",
      "   0.53952803]\n",
      " [-0.22932104 -0.48361547  1.58544339 -0.25683275  0.56888847 -1.76056777\n",
      "   1.11048828 -1.13471925 -0.62624905  0.18716835  1.23950646  0.44807713\n",
      "   2.99068404]]\n"
     ]
    }
   ],
   "source": [
    "from sklearn.preprocessing import StandardScaler\n",
    "\n",
    "scaler = StandardScaler()\n",
    "\n",
    "x_train = scaler.fit_transform(x_train)\n",
    "x_test = scaler.transform(x_test)\n",
    "print(x_train[:10])"
   ]
  },
  {
   "cell_type": "markdown",
   "metadata": {
    "colab_type": "text",
    "id": "l6hgCWbir90R"
   },
   "source": [
    "### Model Validation using an automatic verification Dataset\n",
    "\n",
    "Instead of doing seperate train test split class, Keras has a really nice feature that you can set the validation.data argument when fitting your model and Keras will take that portion of your test data and use it as a validation dataset. "
   ]
  },
  {
   "cell_type": "code",
   "execution_count": 9,
   "metadata": {
    "colab": {
     "base_uri": "https://localhost:8080/",
     "height": 1750
    },
    "colab_type": "code",
    "id": "GMXVfmzXp1Oo",
    "outputId": "b05e251e-508f-46e6-865b-f869ae2a5dc4"
   },
   "outputs": [
    {
     "name": "stdout",
     "output_type": "stream",
     "text": [
      "Epoch 1/75\n",
      "41/41 [==============================] - 0s 9ms/step - loss: 525.3058 - mse: 525.3058 - mae: 20.9158 - val_loss: 456.3170 - val_mse: 456.3170 - val_mae: 19.4212\n",
      "Epoch 2/75\n",
      "41/41 [==============================] - 0s 3ms/step - loss: 302.4514 - mse: 302.4514 - mae: 15.0242 - val_loss: 163.2260 - val_mse: 163.2260 - val_mae: 10.9962\n",
      "Epoch 3/75\n",
      "41/41 [==============================] - 0s 3ms/step - loss: 90.6866 - mse: 90.6866 - mae: 7.2671 - val_loss: 56.0583 - val_mse: 56.0583 - val_mae: 5.8501\n",
      "Epoch 4/75\n",
      "41/41 [==============================] - 0s 3ms/step - loss: 40.8921 - mse: 40.8921 - mae: 4.5596 - val_loss: 33.0358 - val_mse: 33.0358 - val_mae: 4.5337\n",
      "Epoch 5/75\n",
      "41/41 [==============================] - 0s 3ms/step - loss: 26.7704 - mse: 26.7704 - mae: 3.4860 - val_loss: 27.1861 - val_mse: 27.1861 - val_mae: 4.1382\n",
      "Epoch 6/75\n",
      "41/41 [==============================] - 0s 3ms/step - loss: 21.0268 - mse: 21.0268 - mae: 3.1515 - val_loss: 24.5162 - val_mse: 24.5162 - val_mae: 3.8758\n",
      "Epoch 7/75\n",
      "41/41 [==============================] - 0s 3ms/step - loss: 18.2087 - mse: 18.2087 - mae: 2.9445 - val_loss: 24.2859 - val_mse: 24.2859 - val_mae: 3.7441\n",
      "Epoch 8/75\n",
      "41/41 [==============================] - 0s 2ms/step - loss: 16.3001 - mse: 16.3001 - mae: 2.7772 - val_loss: 23.2091 - val_mse: 23.2091 - val_mae: 3.6156\n",
      "Epoch 9/75\n",
      "41/41 [==============================] - 0s 2ms/step - loss: 14.8512 - mse: 14.8512 - mae: 2.6924 - val_loss: 23.7332 - val_mse: 23.7332 - val_mae: 3.5165\n",
      "Epoch 10/75\n",
      "41/41 [==============================] - 0s 2ms/step - loss: 13.8258 - mse: 13.8258 - mae: 2.5709 - val_loss: 23.5847 - val_mse: 23.5847 - val_mae: 3.5250\n",
      "Epoch 11/75\n",
      "41/41 [==============================] - 0s 3ms/step - loss: 12.9534 - mse: 12.9534 - mae: 2.4970 - val_loss: 24.9042 - val_mse: 24.9042 - val_mae: 3.5292\n",
      "Epoch 12/75\n",
      "41/41 [==============================] - 0s 3ms/step - loss: 12.2441 - mse: 12.2441 - mae: 2.4534 - val_loss: 22.9870 - val_mse: 22.9870 - val_mae: 3.3276\n",
      "Epoch 13/75\n",
      "41/41 [==============================] - 0s 3ms/step - loss: 11.5423 - mse: 11.5423 - mae: 2.3938 - val_loss: 23.1450 - val_mse: 23.1450 - val_mae: 3.2741\n",
      "Epoch 14/75\n",
      "41/41 [==============================] - 0s 4ms/step - loss: 11.0750 - mse: 11.0750 - mae: 2.3599 - val_loss: 23.1255 - val_mse: 23.1255 - val_mae: 3.2306\n",
      "Epoch 15/75\n",
      "41/41 [==============================] - 0s 4ms/step - loss: 10.8495 - mse: 10.8495 - mae: 2.3386 - val_loss: 23.5735 - val_mse: 23.5735 - val_mae: 3.2254\n",
      "Epoch 16/75\n",
      "41/41 [==============================] - 0s 4ms/step - loss: 10.4989 - mse: 10.4989 - mae: 2.2912 - val_loss: 23.9829 - val_mse: 23.9829 - val_mae: 3.2504\n",
      "Epoch 17/75\n",
      "41/41 [==============================] - 0s 3ms/step - loss: 10.1987 - mse: 10.1987 - mae: 2.2857 - val_loss: 23.3008 - val_mse: 23.3008 - val_mae: 3.1759\n",
      "Epoch 18/75\n",
      "41/41 [==============================] - 0s 3ms/step - loss: 10.0697 - mse: 10.0697 - mae: 2.2600 - val_loss: 23.9426 - val_mse: 23.9426 - val_mae: 3.1925\n",
      "Epoch 19/75\n",
      "41/41 [==============================] - 0s 4ms/step - loss: 9.9493 - mse: 9.9493 - mae: 2.2624 - val_loss: 22.8224 - val_mse: 22.8224 - val_mae: 3.1078\n",
      "Epoch 20/75\n",
      "41/41 [==============================] - 0s 3ms/step - loss: 9.4759 - mse: 9.4759 - mae: 2.1930 - val_loss: 23.5197 - val_mse: 23.5197 - val_mae: 3.1770\n",
      "Epoch 21/75\n",
      "41/41 [==============================] - 0s 3ms/step - loss: 9.2546 - mse: 9.2546 - mae: 2.2272 - val_loss: 22.5581 - val_mse: 22.5581 - val_mae: 3.0636\n",
      "Epoch 22/75\n",
      "41/41 [==============================] - 0s 3ms/step - loss: 9.1985 - mse: 9.1985 - mae: 2.1668 - val_loss: 24.1241 - val_mse: 24.1241 - val_mae: 3.2000\n",
      "Epoch 23/75\n",
      "41/41 [==============================] - 0s 3ms/step - loss: 9.0743 - mse: 9.0743 - mae: 2.1537 - val_loss: 22.9921 - val_mse: 22.9921 - val_mae: 3.0980\n",
      "Epoch 24/75\n",
      "41/41 [==============================] - 0s 4ms/step - loss: 9.1400 - mse: 9.1400 - mae: 2.1501 - val_loss: 21.0176 - val_mse: 21.0176 - val_mae: 2.9498\n",
      "Epoch 25/75\n",
      "41/41 [==============================] - 0s 4ms/step - loss: 8.7704 - mse: 8.7704 - mae: 2.1476 - val_loss: 21.5270 - val_mse: 21.5270 - val_mae: 2.9807\n",
      "Epoch 26/75\n",
      "41/41 [==============================] - 0s 3ms/step - loss: 8.9239 - mse: 8.9239 - mae: 2.1343 - val_loss: 21.6026 - val_mse: 21.6026 - val_mae: 2.9751\n",
      "Epoch 27/75\n",
      "41/41 [==============================] - 0s 2ms/step - loss: 8.6883 - mse: 8.6883 - mae: 2.1149 - val_loss: 20.2733 - val_mse: 20.2733 - val_mae: 2.8621\n",
      "Epoch 28/75\n",
      "41/41 [==============================] - 0s 2ms/step - loss: 8.3448 - mse: 8.3448 - mae: 2.0336 - val_loss: 22.8939 - val_mse: 22.8939 - val_mae: 3.0924\n",
      "Epoch 29/75\n",
      "41/41 [==============================] - 0s 3ms/step - loss: 8.1935 - mse: 8.1935 - mae: 2.0547 - val_loss: 20.8776 - val_mse: 20.8776 - val_mae: 2.9179\n",
      "Epoch 30/75\n",
      "41/41 [==============================] - 0s 4ms/step - loss: 8.2056 - mse: 8.2056 - mae: 2.0426 - val_loss: 22.9877 - val_mse: 22.9877 - val_mae: 3.0919\n",
      "Epoch 31/75\n",
      "41/41 [==============================] - 0s 3ms/step - loss: 7.9066 - mse: 7.9066 - mae: 2.0111 - val_loss: 19.8552 - val_mse: 19.8552 - val_mae: 2.8213\n",
      "Epoch 32/75\n",
      "41/41 [==============================] - 0s 3ms/step - loss: 7.9075 - mse: 7.9075 - mae: 2.0146 - val_loss: 20.8611 - val_mse: 20.8611 - val_mae: 2.8440\n",
      "Epoch 33/75\n",
      "41/41 [==============================] - 0s 3ms/step - loss: 7.8199 - mse: 7.8199 - mae: 2.0123 - val_loss: 21.8820 - val_mse: 21.8820 - val_mae: 2.9933\n",
      "Epoch 34/75\n",
      "41/41 [==============================] - 0s 3ms/step - loss: 7.9153 - mse: 7.9153 - mae: 2.0230 - val_loss: 21.2999 - val_mse: 21.2999 - val_mae: 2.9237\n",
      "Epoch 35/75\n",
      "41/41 [==============================] - 0s 3ms/step - loss: 7.4692 - mse: 7.4692 - mae: 1.9481 - val_loss: 20.6444 - val_mse: 20.6444 - val_mae: 2.8242\n",
      "Epoch 36/75\n",
      "41/41 [==============================] - 0s 3ms/step - loss: 7.5691 - mse: 7.5691 - mae: 1.9865 - val_loss: 20.1121 - val_mse: 20.1121 - val_mae: 2.7619\n",
      "Epoch 37/75\n",
      "41/41 [==============================] - 0s 3ms/step - loss: 7.4648 - mse: 7.4648 - mae: 1.9595 - val_loss: 21.2038 - val_mse: 21.2038 - val_mae: 2.8868\n",
      "Epoch 38/75\n",
      "41/41 [==============================] - 0s 3ms/step - loss: 7.2153 - mse: 7.2153 - mae: 1.9377 - val_loss: 20.7821 - val_mse: 20.7821 - val_mae: 2.8940\n",
      "Epoch 39/75\n",
      "41/41 [==============================] - 0s 4ms/step - loss: 7.3493 - mse: 7.3493 - mae: 1.9234 - val_loss: 20.2121 - val_mse: 20.2121 - val_mae: 2.8481\n",
      "Epoch 40/75\n",
      "41/41 [==============================] - 0s 3ms/step - loss: 7.1758 - mse: 7.1758 - mae: 1.9528 - val_loss: 20.0726 - val_mse: 20.0726 - val_mae: 2.9040\n",
      "Epoch 41/75\n",
      "41/41 [==============================] - 0s 3ms/step - loss: 7.6018 - mse: 7.6018 - mae: 1.9793 - val_loss: 18.3376 - val_mse: 18.3376 - val_mae: 2.6536\n",
      "Epoch 42/75\n",
      "41/41 [==============================] - 0s 3ms/step - loss: 7.0311 - mse: 7.0311 - mae: 1.8911 - val_loss: 21.5502 - val_mse: 21.5502 - val_mae: 2.9103\n",
      "Epoch 43/75\n",
      "41/41 [==============================] - 0s 3ms/step - loss: 6.8051 - mse: 6.8051 - mae: 1.8726 - val_loss: 19.7726 - val_mse: 19.7726 - val_mae: 2.7372\n",
      "Epoch 44/75\n",
      "41/41 [==============================] - 0s 4ms/step - loss: 6.9866 - mse: 6.9866 - mae: 1.9111 - val_loss: 19.0513 - val_mse: 19.0513 - val_mae: 2.7180\n",
      "Epoch 45/75\n",
      "41/41 [==============================] - 0s 3ms/step - loss: 6.7735 - mse: 6.7735 - mae: 1.8604 - val_loss: 20.3925 - val_mse: 20.3925 - val_mae: 2.8148\n",
      "Epoch 46/75\n",
      "41/41 [==============================] - 0s 3ms/step - loss: 6.7745 - mse: 6.7745 - mae: 1.8747 - val_loss: 19.7264 - val_mse: 19.7264 - val_mae: 2.8090\n",
      "Epoch 47/75\n",
      "41/41 [==============================] - 0s 4ms/step - loss: 6.6974 - mse: 6.6974 - mae: 1.8682 - val_loss: 19.0145 - val_mse: 19.0145 - val_mae: 2.7048\n",
      "Epoch 48/75\n",
      "41/41 [==============================] - 0s 4ms/step - loss: 6.5475 - mse: 6.5475 - mae: 1.8265 - val_loss: 19.2892 - val_mse: 19.2892 - val_mae: 2.7774\n",
      "Epoch 49/75\n",
      "41/41 [==============================] - 0s 3ms/step - loss: 6.6370 - mse: 6.6370 - mae: 1.8429 - val_loss: 19.4162 - val_mse: 19.4162 - val_mae: 2.6906\n",
      "Epoch 50/75\n",
      "41/41 [==============================] - 0s 4ms/step - loss: 6.4424 - mse: 6.4424 - mae: 1.8306 - val_loss: 18.2337 - val_mse: 18.2337 - val_mae: 2.6100\n",
      "Epoch 51/75\n",
      "41/41 [==============================] - 0s 3ms/step - loss: 6.2685 - mse: 6.2685 - mae: 1.8038 - val_loss: 18.0903 - val_mse: 18.0903 - val_mae: 2.6657\n",
      "Epoch 52/75\n",
      "41/41 [==============================] - 0s 4ms/step - loss: 6.3114 - mse: 6.3114 - mae: 1.7996 - val_loss: 19.8790 - val_mse: 19.8790 - val_mae: 2.7309\n",
      "Epoch 53/75\n",
      "41/41 [==============================] - 0s 4ms/step - loss: 6.1923 - mse: 6.1923 - mae: 1.7835 - val_loss: 19.7629 - val_mse: 19.7629 - val_mae: 2.7233\n",
      "Epoch 54/75\n",
      "41/41 [==============================] - 0s 3ms/step - loss: 6.2041 - mse: 6.2041 - mae: 1.8150 - val_loss: 18.1428 - val_mse: 18.1428 - val_mae: 2.6348\n",
      "Epoch 55/75\n",
      "41/41 [==============================] - 0s 3ms/step - loss: 6.2377 - mse: 6.2377 - mae: 1.8111 - val_loss: 20.0732 - val_mse: 20.0732 - val_mae: 2.8144\n",
      "Epoch 56/75\n",
      "41/41 [==============================] - 0s 3ms/step - loss: 6.0390 - mse: 6.0390 - mae: 1.7864 - val_loss: 18.0164 - val_mse: 18.0164 - val_mae: 2.5997\n",
      "Epoch 57/75\n",
      "41/41 [==============================] - 0s 3ms/step - loss: 6.2146 - mse: 6.2146 - mae: 1.8227 - val_loss: 18.7908 - val_mse: 18.7908 - val_mae: 2.7669\n",
      "Epoch 58/75\n",
      "41/41 [==============================] - 0s 3ms/step - loss: 5.9852 - mse: 5.9852 - mae: 1.7636 - val_loss: 19.6693 - val_mse: 19.6693 - val_mae: 2.8320\n",
      "Epoch 59/75\n",
      "41/41 [==============================] - 0s 3ms/step - loss: 5.9184 - mse: 5.9184 - mae: 1.7508 - val_loss: 19.2951 - val_mse: 19.2951 - val_mae: 2.7460\n",
      "Epoch 60/75\n",
      "41/41 [==============================] - 0s 3ms/step - loss: 5.8349 - mse: 5.8349 - mae: 1.7513 - val_loss: 18.5593 - val_mse: 18.5593 - val_mae: 2.7166\n",
      "Epoch 61/75\n",
      "41/41 [==============================] - 0s 3ms/step - loss: 5.4500 - mse: 5.4500 - mae: 1.6895 - val_loss: 17.7604 - val_mse: 17.7604 - val_mae: 2.5440\n",
      "Epoch 62/75\n",
      "41/41 [==============================] - 0s 3ms/step - loss: 5.4680 - mse: 5.4680 - mae: 1.6872 - val_loss: 18.6937 - val_mse: 18.6937 - val_mae: 2.6893\n",
      "Epoch 63/75\n",
      "41/41 [==============================] - 0s 3ms/step - loss: 5.4823 - mse: 5.4823 - mae: 1.6853 - val_loss: 17.5810 - val_mse: 17.5810 - val_mae: 2.6541\n",
      "Epoch 64/75\n",
      "41/41 [==============================] - 0s 3ms/step - loss: 5.3024 - mse: 5.3024 - mae: 1.6687 - val_loss: 18.1846 - val_mse: 18.1846 - val_mae: 2.6790\n",
      "Epoch 65/75\n",
      "41/41 [==============================] - 0s 3ms/step - loss: 5.5987 - mse: 5.5987 - mae: 1.7068 - val_loss: 17.9904 - val_mse: 17.9904 - val_mae: 2.6444\n",
      "Epoch 66/75\n",
      "41/41 [==============================] - 0s 3ms/step - loss: 5.3934 - mse: 5.3934 - mae: 1.6865 - val_loss: 17.1934 - val_mse: 17.1934 - val_mae: 2.5596\n",
      "Epoch 67/75\n",
      "41/41 [==============================] - 0s 3ms/step - loss: 5.2954 - mse: 5.2954 - mae: 1.6636 - val_loss: 17.4933 - val_mse: 17.4933 - val_mae: 2.6176\n",
      "Epoch 68/75\n",
      "41/41 [==============================] - 0s 3ms/step - loss: 5.3749 - mse: 5.3749 - mae: 1.7011 - val_loss: 17.9881 - val_mse: 17.9881 - val_mae: 2.5541\n",
      "Epoch 69/75\n",
      "41/41 [==============================] - 0s 4ms/step - loss: 5.4381 - mse: 5.4381 - mae: 1.6857 - val_loss: 17.2425 - val_mse: 17.2425 - val_mae: 2.6556\n",
      "Epoch 70/75\n",
      "41/41 [==============================] - 0s 3ms/step - loss: 4.9561 - mse: 4.9561 - mae: 1.5845 - val_loss: 18.2527 - val_mse: 18.2527 - val_mae: 2.7630\n",
      "Epoch 71/75\n",
      "41/41 [==============================] - 0s 3ms/step - loss: 5.2802 - mse: 5.2802 - mae: 1.6581 - val_loss: 19.0774 - val_mse: 19.0774 - val_mae: 2.8017\n",
      "Epoch 72/75\n",
      "41/41 [==============================] - 0s 3ms/step - loss: 5.0948 - mse: 5.0948 - mae: 1.6222 - val_loss: 17.3395 - val_mse: 17.3395 - val_mae: 2.5992\n",
      "Epoch 73/75\n",
      "41/41 [==============================] - 0s 3ms/step - loss: 4.8830 - mse: 4.8830 - mae: 1.6205 - val_loss: 17.7290 - val_mse: 17.7290 - val_mae: 2.6504\n",
      "Epoch 74/75\n",
      "41/41 [==============================] - 0s 4ms/step - loss: 4.8534 - mse: 4.8534 - mae: 1.6022 - val_loss: 17.5553 - val_mse: 17.5553 - val_mae: 2.5708\n",
      "Epoch 75/75\n",
      "41/41 [==============================] - 0s 3ms/step - loss: 4.7276 - mse: 4.7276 - mae: 1.5845 - val_loss: 16.0852 - val_mse: 16.0852 - val_mae: 2.4730\n"
     ]
    },
    {
     "data": {
      "text/plain": [
       "<tensorflow.python.keras.callbacks.History at 0x7f8abb1b8ac0>"
      ]
     },
     "execution_count": 9,
     "metadata": {},
     "output_type": "execute_result"
    }
   ],
   "source": [
    "from tensorflow import keras\n",
    "from tensorflow.keras.models import Sequential\n",
    "from tensorflow.keras.layers import Dense\n",
    "\n",
    "# Important Hyperparameters\n",
    "inputs = x_train.shape[1]\n",
    "epochs = 75\n",
    "batch_size = 10\n",
    "\n",
    "\n",
    "# Create Model\n",
    "model = Sequential()\n",
    "model.add(Dense(64, activation='relu', input_shape=(inputs,)))\n",
    "model.add(Dense(64, activation='relu'))\n",
    "model.add(Dense(1))\n",
    "\n",
    "# Compile Model\n",
    "model.compile(optimizer='adam', loss='mse', metrics=['mse', 'mae'])\n",
    "\n",
    "# Fit Model\n",
    "model.fit(x_train, y_train, \n",
    "          validation_data=(x_test,y_test), \n",
    "          epochs=epochs, \n",
    "          batch_size=batch_size\n",
    "         )"
   ]
  },
  {
   "cell_type": "markdown",
   "metadata": {
    "colab_type": "text",
    "id": "sYJ8t_ezHP4W"
   },
   "source": [
    "### Hyperparameter Tuning Approaches:\n",
    "\n",
    "#### 1) Babysitting AKA \"Grad Student Descent\".\n",
    "\n",
    "If you fiddled with any hyperparameters yesterday, this is basically what you did. This approach is 100% manual and is pretty common among researchers where finding that 1 exact specification that jumps your model to a level of accuracy never seen before is the difference between publishing and not publishing a paper. Of course the professors don't do this themselves, that's grunt work. This is also known as the fiddle with hyperparameters until you run out of time method.\n",
    "\n",
    "#### 2) Grid Search\n",
    "\n",
    "Grid Search is the Grad Student galaxy brain realization of: why don't I just specify all the experiments I want to run and let the computer try every possible combination of them while I go and grab lunch. This has a specific downside in that if I specify 5 hyperparameters with 5 options each then I've just created 5^5 combinations of hyperparameters to check. Which means that I have to train 3125 different versions of my model Then if I use 5-fold Cross Validation on that then my model has to run 15,525 times. This is the brute-force method of hyperparameter tuning, but it can be very profitable if done wisely. \n",
    "\n",
    "When using Grid Search here's what I suggest: don't use it to test combinations of different hyperparameters, only use it to test different specifications of **a single** hyperparameter. It's rare that combinations between different hyperparameters lead to big performance gains. You'll get 90-95% of the way there if you just Grid Search one parameter and take the best result, then retain that best result while you test another, and then retain the best specification from that while you train another. This at least makes the situation much more manageable and leads to pretty good results. \n",
    "\n",
    "#### 3) Random Search\n",
    "\n",
    "Do Grid Search for a couple of hours and you'll say to yourself - \"There's got to be a better way.\" Enter Random Search. For Random search you specify a hyperparameter space and it picks specifications from that randomly, tries them out, gives you the best results and says - That's going to have to be good enough, go home and spend time with your family. \n",
    "\n",
    "Grid Search treats every parameter as if it was equally important, but this just isn't the case, some are known to move the needle a lot more than others (we'll talk about that in a minute). Random Search allows searching to be specified along the most important parameter and experiments less along the dimensions of less important hyperparameters. The downside of Random search is that it won't find the absolute best hyperparameters, but it is much less costly to perform than Grid Search. \n",
    "\n",
    "#### 4) Bayesian Methods\n",
    "\n",
    "One thing that can make more manual methods like babysitting and gridsearch effective is that as the experimenter sees results he can then make updates to his future searches taking into account the results of past specifications. If only we could hyperparameter tune our hyperparameter tuning. Well, we kind of can. Enter Bayesian Optimization. Neural Networks are like an optimization problem within an optimization problem, and Bayesian Optimization is a search strategy that tries to take into account the results of past searches in order to improve future ones. Check out the new library `keras-tuner` for easy implementations of Bayesian methods. \n"
   ]
  },
  {
   "cell_type": "markdown",
   "metadata": {
    "colab_type": "text",
    "id": "HfQ7D043OMMn"
   },
   "source": [
    "## What Hyperparameters are there to test?\n",
    "\n",
    "- batch_size\n",
    "- training epochs\n",
    "- optimization algorithms\n",
    "- learning rate\n",
    "- momentum\n",
    "- activation functions\n",
    "- dropout regularization\n",
    "- number of neurons in the hidden layer\n",
    "\n",
    "There are more, but these are the most important."
   ]
  },
  {
   "cell_type": "markdown",
   "metadata": {},
   "source": [
    "## Follow Along"
   ]
  },
  {
   "cell_type": "markdown",
   "metadata": {
    "colab_type": "text",
    "id": "Mri5-kXzVKAa"
   },
   "source": [
    "## Batch Size\n",
    "\n",
    "Batch size determines how many observations the model is shown before it calculates loss/error and updates the model weights via gradient descent. You're looking for a sweet spot here where you're showing it enough observations that you have enough information to updates the weights, but not such a large batch size that you don't get a lot of weight update iterations performed in a given epoch. Feed-forward Neural Networks aren't as sensitive to bach_size as other networks, but it is still an important hyperparameter to tune. Smaller batch sizes will also take longer to train. \n",
    "\n",
    "Traditionally, batch size is set in powers of 2 starting at 32 up to 512. Keras defaults to a batch size of 32 if you do not specify it. Yann LeCun famously Twitted: \n",
    "\n",
    "> Training with large minibatches is bad for your health.\n",
    "More importantly, it's bad for your test error.\n",
    "Friends dont let friends use minibatches larger than 32.\n",
    "\n",
    "Check out this paper for more reference on his tweet. https://arxiv.org/abs/1804.07612. \n",
    "\n",
    "Check out this SO question on why batch size is typically set in powers of two: https://datascience.stackexchange.com/questions/20179/what-is-the-advantage-of-keeping-batch-size-a-power-of-2\n",
    "\n"
   ]
  },
  {
   "cell_type": "code",
   "execution_count": 10,
   "metadata": {
    "colab": {
     "base_uri": "https://localhost:8080/",
     "height": 13561
    },
    "colab_type": "code",
    "id": "2smXfriNAGn7",
    "outputId": "ae996575-78e2-43fb-9dbe-5d44aaf0b430"
   },
   "outputs": [
    {
     "name": "stdout",
     "output_type": "stream",
     "text": [
      "Best: 0.6445632815361023 using {'batch_size': 10, 'epochs': 20}\n",
      "Means: 0.6445632815361023, Stdev: 0.028862204660958776 with: {'batch_size': 10, 'epochs': 20}\n",
      "Means: 0.6329259037971496, Stdev: 0.06127267070584699 with: {'batch_size': 20, 'epochs': 20}\n",
      "Means: 0.6145233869552612, Stdev: 0.0500702902035316 with: {'batch_size': 40, 'epochs': 20}\n",
      "Means: 0.5613615214824677, Stdev: 0.07997795501827212 with: {'batch_size': 60, 'epochs': 20}\n",
      "Means: 0.5336898386478424, Stdev: 0.06402595671983963 with: {'batch_size': 80, 'epochs': 20}\n",
      "Means: 0.5989899039268494, Stdev: 0.03939261394643632 with: {'batch_size': 100, 'epochs': 20}\n"
     ]
    }
   ],
   "source": [
    "import numpy\n",
    "import pandas as pd\n",
    "from sklearn.model_selection import GridSearchCV\n",
    "from tensorflow.keras.models import Sequential\n",
    "from tensorflow.keras.layers import Dense\n",
    "from tensorflow.keras.wrappers.scikit_learn import KerasClassifier\n",
    "\n",
    "# fix random seed for reproducibility\n",
    "seed = 7\n",
    "numpy.random.seed(seed)\n",
    "\n",
    "# load dataset\n",
    "url =\"https://raw.githubusercontent.com/jbrownlee/Datasets/master/pima-indians-diabetes.data.csv\"\n",
    "\n",
    "dataset = pd.read_csv(url, header=None).values\n",
    "\n",
    "# split into input (X) and output (Y) variables\n",
    "X = dataset[:,0:8]\n",
    "Y = dataset[:,8]\n",
    "\n",
    "# Function to create model, required for KerasClassifier\n",
    "def create_model():\n",
    "    # create model\n",
    "    model = Sequential()\n",
    "    model.add(Dense(12, input_dim=8, activation='relu'))\n",
    "    model.add(Dense(1, activation='sigmoid'))\n",
    "    # Compile model\n",
    "    model.compile(loss='binary_crossentropy', optimizer='adam', metrics=['accuracy'])\n",
    "    return model\n",
    "\n",
    "# create model\n",
    "model = KerasClassifier(build_fn=create_model, verbose=0)\n",
    "\n",
    "# define the grid search parameters\n",
    "# batch_size = [10, 20, 40, 60, 80, 100]\n",
    "# param_grid = dict(batch_size=batch_size, epochs=epochs)\n",
    "\n",
    "# define the grid search parameters\n",
    "param_grid = {'batch_size': [10, 20, 40, 60, 80, 100],\n",
    "              'epochs': [20]}\n",
    "\n",
    "# Create Grid Search\n",
    "grid = GridSearchCV(estimator=model, param_grid=param_grid, n_jobs=1)\n",
    "grid_result = grid.fit(X, Y)\n",
    "\n",
    "# Report Results\n",
    "print(f\"Best: {grid_result.best_score_} using {grid_result.best_params_}\")\n",
    "means = grid_result.cv_results_['mean_test_score']\n",
    "stds = grid_result.cv_results_['std_test_score']\n",
    "params = grid_result.cv_results_['params']\n",
    "for mean, stdev, param in zip(means, stds, params):\n",
    "    print(f\"Means: {mean}, Stdev: {stdev} with: {param}\") "
   ]
  },
  {
   "cell_type": "markdown",
   "metadata": {
    "colab_type": "text",
    "id": "EKcuY6OiaLfz"
   },
   "source": [
    "## Optimizer\n",
    "\n",
    "Remember that there's a different optimizers [optimizers](https://keras.io/optimizers/). At some point, take some time to read up on them a little bit. \"adam\" usually gives the best results. The thing to know about choosing an optimizer is that different optimizers have different hyperparameters like learning rate, momentum, etc. So based on the optimizer you choose you might also have to tune the learning rate and momentum of those optimizers after that. "
   ]
  },
  {
   "cell_type": "markdown",
   "metadata": {
    "colab_type": "text",
    "id": "DG3wq5iOaLig"
   },
   "source": [
    "## Learning Rate\n",
    "\n",
    "Remember that the Learning Rate is a hyperparameter that is specific to your gradient-descent based optimizer selection. A learning rate that is too high will cause divergent behavior, but a Learning Rate that is too low will fail to converge, again, you're looking for the sweet spot. I would start out tuning learning rates by orders of magnitude: [.001, .01, .1, .2, .3, .5] etc. I wouldn't go above .5, but you can try it and see what the behavior is like. \n",
    "\n",
    "Once you have narrowed it down, make the window even smaller and try it again. If after running the above specification your model reports that .1 is the best optimizer, then you should probably try things like [.05, .08, .1, .12, .15] to try and narrow it down. \n",
    "\n",
    "It can also be good to tune the number of epochs in combination with the learning rate since the number of iterations that you allow the learning rate to reach the minimum can determine if you have let it run long enough to converge to the minimum. "
   ]
  },
  {
   "cell_type": "code",
   "execution_count": 12,
   "metadata": {},
   "outputs": [
    {
     "name": "stdout",
     "output_type": "stream",
     "text": [
      "Best: 0.6614803552627564 using {'batch_size': 10, 'epochs': 20, 'lr': 0.5}\n",
      "Means: 0.6327816128730774, Stdev: 0.045381964929251783 with: {'batch_size': 10, 'epochs': 20, 'lr': 0.001}\n",
      "Means: 0.6602240920066833, Stdev: 0.027864219050130305 with: {'batch_size': 10, 'epochs': 20, 'lr': 0.01}\n",
      "Means: 0.6340548396110535, Stdev: 0.039946727249901386 with: {'batch_size': 10, 'epochs': 20, 'lr': 0.1}\n",
      "Means: 0.6380188465118408, Stdev: 0.03499505557349511 with: {'batch_size': 10, 'epochs': 20, 'lr': 0.2}\n",
      "Means: 0.6432391166687011, Stdev: 0.04267421253830926 with: {'batch_size': 10, 'epochs': 20, 'lr': 0.3}\n",
      "Means: 0.6614803552627564, Stdev: 0.02441446402491274 with: {'batch_size': 10, 'epochs': 20, 'lr': 0.5}\n"
     ]
    }
   ],
   "source": [
    "from tensorflow.keras.optimizers import Adam\n",
    "# Function to create model, required for KerasClassifier\n",
    "def create_model(lr):\n",
    "    # create optimizer\n",
    "    adam = Adam(learning_rate=lr)\n",
    "    # create model\n",
    "    model = Sequential()\n",
    "    model.add(Dense(12, input_dim=8, activation='relu'))\n",
    "    model.add(Dense(1, activation='sigmoid'))\n",
    "    # Compile model\n",
    "    model.compile(loss='binary_crossentropy', optimizer='adam', metrics=['accuracy'])\n",
    "    return model\n",
    "\n",
    "# create model\n",
    "model = KerasClassifier(build_fn=create_model, verbose=0)\n",
    "\n",
    "# define the grid search parameters\n",
    "# batch_size = [10, 20, 40, 60, 80, 100]\n",
    "# param_grid = dict(batch_size=batch_size, epochs=epochs)\n",
    "\n",
    "# define the grid search parameters\n",
    "param_grid = {'lr': [.001, .01, .1, .2, .3, .5],\n",
    "              'batch_size': [10],\n",
    "              'epochs': [20]}\n",
    "\n",
    "# Create Grid Search\n",
    "grid = GridSearchCV(estimator=model, param_grid=param_grid, n_jobs=1)\n",
    "grid_result = grid.fit(X, Y)\n",
    "\n",
    "# Report Results\n",
    "print(f\"Best: {grid_result.best_score_} using {grid_result.best_params_}\")\n",
    "means = grid_result.cv_results_['mean_test_score']\n",
    "stds = grid_result.cv_results_['std_test_score']\n",
    "params = grid_result.cv_results_['params']\n",
    "for mean, stdev, param in zip(means, stds, params):\n",
    "    print(f\"Means: {mean}, Stdev: {stdev} with: {param}\") "
   ]
  },
  {
   "cell_type": "markdown",
   "metadata": {
    "colab_type": "text",
    "id": "gNTBUWd1aLlA"
   },
   "source": [
    "## Momentum\n",
    "\n",
    "Momentum is a hyperparameter that is more commonly associated with Stochastic Gradient Descent. SGD is a common optimizer because it's what people understand and know, but I doubt it will get you the best results, you can try hyperparameter tuning its attributes and see if you can beat the performance from adam. Momentum is a property that decides the willingness of an optimizer to overshoot the minimum. Imagine a ball rolling down one side of a bowl and then up the opposite side a little bit before settling back to the bottom. The purpose of momentum is to try and escale local minima."
   ]
  },
  {
   "cell_type": "markdown",
   "metadata": {
    "colab_type": "text",
    "id": "xnEG-bCJaLnZ"
   },
   "source": [
    "## Activation Functions\n",
    "\n",
    "We've talked about this a little bit, typically you'l want to use ReLU for hidden layers and either Sigmoid, or Softmax for output layers of binary and multi-class classification implementations respectively, but try other activation functions and see if you can get any better results with sigmoid or tanh or something. There are a lot of activation functions that we haven't really talked about. Maybe you'll get good results with them. Maybe you won't. :) <https://keras.io/activations/>"
   ]
  },
  {
   "cell_type": "markdown",
   "metadata": {
    "colab_type": "text",
    "id": "oul9sPq-dU-h"
   },
   "source": [
    "## Network Weight Initialization\n",
    "\n",
    "You saw how big of an effect the way that we initialize our network's weights can have on our results. There are **a lot** of what are called initialization modes. I don't understand all of them, but they can have a big affect on your model's initial accuracy. Your model will get further with less epochs if you initialize it with weights that are well suited to the problem you're trying to solve.\n",
    "\n",
    "`init_mode = ['uniform', 'lecun_uniform', 'normal', 'zero', 'glorot_normal', 'glorot_uniform', 'he_normal', 'he_uniform']`"
   ]
  },
  {
   "cell_type": "markdown",
   "metadata": {
    "colab_type": "text",
    "id": "bqtEuxeQaLqE"
   },
   "source": [
    "## Dropout Regularization and the Weight Constraint\n",
    "\n",
    "the Dropout Regularization value is a percentage of neurons that you want to be randomly deactivated during training. The weight constraint is a second regularization parameter that works in tandem with dropout regularization. You should tune these two values at the same time. \n",
    "\n",
    "Using dropout on visible vs hidden layers might have a different effect. Using dropout on hidden layers might not have any effect while using dropout on hidden layers might have a substantial effect. You don't necessarily need to turn use dropout unless you see that your model has overfitting and generalizability problems."
   ]
  },
  {
   "cell_type": "markdown",
   "metadata": {
    "colab_type": "text",
    "id": "P2c5Cv6oaLtO"
   },
   "source": [
    "## Neurons in Hidden Layer \n",
    "\n",
    "Remember that when we only had a single perceptron our model was only able to fit to linearly separable data, but as we have added layers and nodes to those layers our network has become a powerhouse of fitting nonlinearity in data. The larger the network and the more nodes generally the stronger the network's capacity to fit nonlinear patterns in data. The more nodes and layers the longer it will take to train a network, and higher the probability of overfitting. The larger your network gets the more you'll need dropout regularization or other regularization techniques to keep it in check. \n",
    "\n",
    "Typically depth (more layers) is more important than width (more nodes) for neural networks. This is part of why Deep Learning is so highly touted. Certain deep learning architectures have truly been huge breakthroughs for certain machine learning tasks. \n",
    "\n",
    "You might borrow ideas from other network architectures. For example if I was doing image recognition and I wasn't taking cues from state of the art architectures like resnet, alexnet, googlenet, etc. Then I'm probably going to have to do a lot more experimentation on my own before I find something that works.\n",
    "\n",
    "There are some heuristics, but I am highly skeptical of them. I think you're better off experimenting on your own and forming your own intuition for these kinds of problems. \n",
    "\n",
    "- https://machinelearningmastery.com/how-to-configure-the-number-of-layers-and-nodes-in-a-neural-network/"
   ]
  },
  {
   "cell_type": "markdown",
   "metadata": {},
   "source": [
    "## Challenge\n",
    "You will be expected to tune several hyperparameters in today's module project. "
   ]
  },
  {
   "cell_type": "markdown",
   "metadata": {},
   "source": [
    "# Experiment Tracking Framework (Learn)\n",
    "<a id=\"p2\"></a>"
   ]
  },
  {
   "cell_type": "markdown",
   "metadata": {},
   "source": [
    "## Overview\n",
    "\n",
    "You will notice quickly that managing the results of all the experiments you are running becomes challenging. Which set of parameters did the best? Are my results today different than my results yesterday? Although we use Ipython Notebooks to work, the format is not well suited to logging experimental results. Enter experiment tracking frameworks like [Comet.ml](https://comet.ml) and [Weights and Biases](https://wandb.ai/).\n",
    "\n",
    "Those tools will help you track your experiments, store the results, and the code associated with those experiments. Experimental results can also be readily visualized to see changes in performance across any metric you care about. Data is sent to the tool as each epoch is completed, so you can also see if your model is converging. Let's check out Weights & Biases today. "
   ]
  },
  {
   "cell_type": "markdown",
   "metadata": {},
   "source": [
    "## Follow Along\n",
    "\n",
    "Make sure you login into `wandb` in the terminal before running the next cell. "
   ]
  },
  {
   "cell_type": "code",
   "execution_count": null,
   "metadata": {},
   "outputs": [],
   "source": [
    "import wandb\n",
    "from wandb.keras import WandbCallback"
   ]
  },
  {
   "cell_type": "code",
   "execution_count": null,
   "metadata": {
    "colab": {
     "base_uri": "https://localhost:8080/",
     "height": 1750
    },
    "colab_type": "code",
    "id": "GMXVfmzXp1Oo",
    "outputId": "b05e251e-508f-46e6-865b-f869ae2a5dc4"
   },
   "outputs": [],
   "source": [
    "wandb.init(project=wandb_project, entity=wand_group) #Initializes and Experiment\n",
    "\n",
    "# Important Hyperparameters\n",
    "X =  X\n",
    "y =  y\n",
    "\n",
    "inputs = X.shape[1]\n",
    "wandb.config.epochs = 50\n",
    "wandb.config.batch_size = 10\n",
    "\n",
    "# Create Model\n",
    "model = Sequential()\n",
    "model.add(Dense(64, activation='relu', input_shape=(inputs,)))\n",
    "model.add(Dense(64, activation='relu'))\n",
    "model.add(Dense(64, activation='relu'))\n",
    "model.add(Dense(1))\n",
    "# Compile Model\n",
    "model.compile(optimizer='adam', loss='mse', metrics=['mse', 'mae'])\n",
    "\n",
    "# Fit Model\n",
    "model.fit(X, y, \n",
    "          validation_split=0.33, \n",
    "          epochs=wandb.config.epochs, \n",
    "          batch_size=wandb.config.batch_size, \n",
    "          callbacks=[WandbCallback()]\n",
    "         )"
   ]
  },
  {
   "cell_type": "markdown",
   "metadata": {},
   "source": [
    "### Your Turn\n",
    "\n",
    "Pick a few hyparameters that we *have not* tuned. Using the same code above, try changing a few parameters you're interested in and submitting the results to weights & biases. :) "
   ]
  },
  {
   "cell_type": "code",
   "execution_count": null,
   "metadata": {},
   "outputs": [],
   "source": [
    "wandb.init(project=wandb_project, entity=wand_group) #Initializes and Experiment\n",
    "\n",
    "wandb.config.epochs = 50\n",
    "wandb.config.batch_size = 10\n",
    "\n",
    "\n",
    "# Fit Model\n",
    "model.fit(\n",
    "          callbacks=[WandbCallback()]\n",
    "         )"
   ]
  },
  {
   "cell_type": "markdown",
   "metadata": {},
   "source": [
    "## Challenge\n",
    "\n",
    "You will be expected to use Weights & Biases to try to tune your model during your module assignment today. "
   ]
  },
  {
   "cell_type": "markdown",
   "metadata": {},
   "source": [
    "# Hyperparameters with RandomSearchCV (Learn)"
   ]
  },
  {
   "cell_type": "markdown",
   "metadata": {},
   "source": [
    "## Overview\n",
    "\n",
    "Basically `GridSearchCV` takes forever. You'll want to adopt a slightly more sophiscated strategy.\n",
    "\n",
    "Let's also take a look at an alternative with Keras-Tuner."
   ]
  },
  {
   "cell_type": "code",
   "execution_count": null,
   "metadata": {},
   "outputs": [],
   "source": [
    "!pip install keras-tuner"
   ]
  },
  {
   "cell_type": "markdown",
   "metadata": {},
   "source": [
    "## Follow Along"
   ]
  },
  {
   "cell_type": "code",
   "execution_count": null,
   "metadata": {},
   "outputs": [],
   "source": [
    "from tensorflow import keras\n",
    "from tensorflow.keras import layers\n",
    "from kerastuner.tuners import RandomSearch\n",
    "\n",
    "\"\"\"\n",
    "This model Tunes:\n",
    "- Number of Neurons in the Hidden Layer\n",
    "- Learning Rate in Adam\n",
    "\n",
    "\"\"\"\n",
    "\n",
    "def build_model(hp):\n",
    "    model = keras.Sequential()\n",
    "    model.add(layers.Dense(units=hp.Int('units',\n",
    "                                        min_value=32,\n",
    "                                        max_value=512,\n",
    "                                        step=32),\n",
    "                           activation='relu'))\n",
    "    model.add(layers.Dense(10, activation='softmax'))\n",
    "    model.compile(\n",
    "        optimizer=keras.optimizers.Adam(\n",
    "            hp.Choice('learning_rate',\n",
    "                      values=[1e-2, 1e-3, 1e-4])),\n",
    "        loss='sparse_categorical_crossentropy',\n",
    "        metrics=['accuracy'])\n",
    "    \n",
    "    return model"
   ]
  },
  {
   "cell_type": "code",
   "execution_count": null,
   "metadata": {},
   "outputs": [],
   "source": [
    "tuner = RandomSearch(\n",
    "    build_model,\n",
    "    objective='val_accuracy',\n",
    "    max_trials=5,\n",
    "    executions_per_trial=3,\n",
    "    directory='./keras-tuner-trial',\n",
    "    project_name='helloworld')"
   ]
  },
  {
   "cell_type": "code",
   "execution_count": null,
   "metadata": {},
   "outputs": [],
   "source": [
    "tuner.search_space_summary()"
   ]
  },
  {
   "cell_type": "code",
   "execution_count": null,
   "metadata": {},
   "outputs": [],
   "source": [
    "tuner.search(x, y,\n",
    "             epochs=5,\n",
    "             validation_data=(val_x, val_y))"
   ]
  },
  {
   "cell_type": "code",
   "execution_count": null,
   "metadata": {},
   "outputs": [],
   "source": [
    "tuner.results_summary()"
   ]
  },
  {
   "cell_type": "markdown",
   "metadata": {},
   "source": [
    "## Challenge\n",
    "\n",
    "Try to apply RandomSearchCV to your module project today. "
   ]
  },
  {
   "cell_type": "markdown",
   "metadata": {},
   "source": [
    "# Review\n",
    "* <a href=\"#p1\">Part 1</a>: Describe the major hyperparemeters to tune\n",
    "    - Activation Functions\n",
    "    - Optimizer\n",
    "    - Number of Layers\n",
    "    - Number of Neurons\n",
    "    - Batch Size\n",
    "    - Dropout Regulaization\n",
    "    - Learning Rate\n",
    "    - Number of Epochs\n",
    "    - and many more\n",
    "* <a href=\"#p2\">Part 2</a>: Implement an experiment tracking framework\n",
    "    - Weights & Biases\n",
    "    - Comet.ml\n",
    "    - By Hand / GridSearch\n",
    "* <a href=\"#p3\">Part 3</a>: Search the hyperparameter space using RandomSearch\n",
    "    - Sklearn still useful (haha)\n",
    "    - Integration with Wieghts & Biases\n",
    "* <a href=\"#p4\">Part 4</a>: Discuss emerging hyperparameter tuning strategies\n",
    "    - Bayesian Optimization\n",
    "    - Hyperopt\n",
    "    - Genetic Evolution"
   ]
  },
  {
   "cell_type": "markdown",
   "metadata": {},
   "source": [
    "# Sources"
   ]
  },
  {
   "cell_type": "markdown",
   "metadata": {},
   "source": [
    "## Additional Reading\n",
    "- https://machinelearningmastery.com/grid-search-hyperparameters-deep-learning-models-python-keras/\n",
    "- https://blog.floydhub.com/guide-to-hyperparameters-search-for-deep-learning-models/\n",
    "- https://machinelearningmastery.com/dropout-regularization-deep-learning-models-keras/\n",
    "- https://machinelearningmastery.com/introduction-to-weight-constraints-to-reduce-generalization-error-in-deep-learning/\n",
    "- https://machinelearningmastery.com/how-to-configure-the-number-of-layers-and-nodes-in-a-neural-network/"
   ]
  }
 ],
 "metadata": {
  "kernelspec": {
   "display_name": "Python 3",
   "language": "python",
   "name": "python3"
  },
  "language_info": {
   "codemirror_mode": {
    "name": "ipython",
    "version": 3
   },
   "file_extension": ".py",
   "mimetype": "text/x-python",
   "name": "python",
   "nbconvert_exporter": "python",
   "pygments_lexer": "ipython3",
   "version": "3.8.3"
  }
 },
 "nbformat": 4,
 "nbformat_minor": 4
}
