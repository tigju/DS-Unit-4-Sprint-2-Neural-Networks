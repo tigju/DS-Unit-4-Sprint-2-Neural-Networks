{
 "cells": [
  {
   "cell_type": "markdown",
   "metadata": {
    "colab_type": "text",
    "id": "9Ryp-TVm4njD"
   },
   "source": [
    "<img align=\"left\" src=\"https://lever-client-logos.s3.amazonaws.com/864372b1-534c-480e-acd5-9711f850815c-1524247202159.png\" width=200>\n",
    "<br></br>\n",
    "\n",
    "# Hyperparameter Tuning\n",
    "\n",
    "## *Data Science Unit 4 Sprint 2 Assignment 4*\n",
    "\n",
    "## Your Mission, should you choose to accept it...\n",
    "\n",
    "To hyperparameter tune and extract every ounce of accuracy out of this telecom customer churn dataset: [Available Here](https://lambdaschool-data-science.s3.amazonaws.com/telco-churn/WA_Fn-UseC_-Telco-Customer-Churn+(1).csv)\n",
    "\n",
    "## Requirements\n",
    "\n",
    "- Load the data\n",
    "- Clean the data if necessary (it will be)\n",
    "- Create and fit a baseline Keras MLP model to the data.\n",
    "- Hyperparameter tune (at least) the following parameters:\n",
    " - batch_size\n",
    " - training epochs\n",
    " - optimizer\n",
    " - learning rate (if applicable to optimizer)\n",
    " - momentum (if applicable to optimizer)\n",
    " - activation functions\n",
    " - network weight initialization\n",
    " - dropout regularization\n",
    " - number of neurons in the hidden layer\n",
    " \n",
    " You must use Grid Search and Cross Validation for your initial pass of the above hyperparameters\n",
    " \n",
    " Try and get the maximum accuracy possible out of this data! You'll save big telecoms millions! Doesn't that sound great?\n"
   ]
  },
  {
   "cell_type": "code",
   "execution_count": 105,
   "metadata": {
    "colab": {},
    "colab_type": "code",
    "id": "NNJ-tOBs4jM1"
   },
   "outputs": [],
   "source": [
    "import pandas as pd\n",
    "import numpy as np\n",
    "\n",
    "from sklearn.model_selection import train_test_split\n",
    "import category_encoders as ce\n",
    "from sklearn.preprocessing import StandardScaler\n",
    "\n",
    "from tensorflow import keras\n",
    "from tensorflow.keras.models import Sequential\n",
    "from tensorflow.keras.layers import Dense\n",
    "from tensorflow.keras.wrappers.scikit_learn import KerasClassifier\n",
    "\n",
    "from sklearn.model_selection import GridSearchCV\n",
    "from tensorflow.keras.callbacks import TensorBoard\n",
    "from tensorflow.keras.callbacks import EarlyStopping\n",
    "from tensorflow.keras.layers import Dropout\n",
    "from tensorflow.keras import regularizers\n",
    "from tensorflow.keras.optimizers import Adam, Ftrl, Adamax, SGD\n",
    "from kerastuner.tuners import RandomSearch"
   ]
  },
  {
   "cell_type": "code",
   "execution_count": 4,
   "metadata": {},
   "outputs": [],
   "source": [
    "# load data\n",
    "telecom = pd.read_csv('telecom-customer-churn.csv')"
   ]
  },
  {
   "cell_type": "code",
   "execution_count": 5,
   "metadata": {},
   "outputs": [
    {
     "name": "stdout",
     "output_type": "stream",
     "text": [
      "(7043, 21)\n"
     ]
    },
    {
     "data": {
      "text/html": [
       "<div>\n",
       "<style scoped>\n",
       "    .dataframe tbody tr th:only-of-type {\n",
       "        vertical-align: middle;\n",
       "    }\n",
       "\n",
       "    .dataframe tbody tr th {\n",
       "        vertical-align: top;\n",
       "    }\n",
       "\n",
       "    .dataframe thead th {\n",
       "        text-align: right;\n",
       "    }\n",
       "</style>\n",
       "<table border=\"1\" class=\"dataframe\">\n",
       "  <thead>\n",
       "    <tr style=\"text-align: right;\">\n",
       "      <th></th>\n",
       "      <th>customerID</th>\n",
       "      <th>gender</th>\n",
       "      <th>SeniorCitizen</th>\n",
       "      <th>Partner</th>\n",
       "      <th>Dependents</th>\n",
       "      <th>tenure</th>\n",
       "      <th>PhoneService</th>\n",
       "      <th>MultipleLines</th>\n",
       "      <th>InternetService</th>\n",
       "      <th>OnlineSecurity</th>\n",
       "      <th>...</th>\n",
       "      <th>DeviceProtection</th>\n",
       "      <th>TechSupport</th>\n",
       "      <th>StreamingTV</th>\n",
       "      <th>StreamingMovies</th>\n",
       "      <th>Contract</th>\n",
       "      <th>PaperlessBilling</th>\n",
       "      <th>PaymentMethod</th>\n",
       "      <th>MonthlyCharges</th>\n",
       "      <th>TotalCharges</th>\n",
       "      <th>Churn</th>\n",
       "    </tr>\n",
       "  </thead>\n",
       "  <tbody>\n",
       "    <tr>\n",
       "      <th>0</th>\n",
       "      <td>7590-VHVEG</td>\n",
       "      <td>Female</td>\n",
       "      <td>0</td>\n",
       "      <td>Yes</td>\n",
       "      <td>No</td>\n",
       "      <td>1</td>\n",
       "      <td>No</td>\n",
       "      <td>No phone service</td>\n",
       "      <td>DSL</td>\n",
       "      <td>No</td>\n",
       "      <td>...</td>\n",
       "      <td>No</td>\n",
       "      <td>No</td>\n",
       "      <td>No</td>\n",
       "      <td>No</td>\n",
       "      <td>Month-to-month</td>\n",
       "      <td>Yes</td>\n",
       "      <td>Electronic check</td>\n",
       "      <td>29.85</td>\n",
       "      <td>29.85</td>\n",
       "      <td>No</td>\n",
       "    </tr>\n",
       "    <tr>\n",
       "      <th>1</th>\n",
       "      <td>5575-GNVDE</td>\n",
       "      <td>Male</td>\n",
       "      <td>0</td>\n",
       "      <td>No</td>\n",
       "      <td>No</td>\n",
       "      <td>34</td>\n",
       "      <td>Yes</td>\n",
       "      <td>No</td>\n",
       "      <td>DSL</td>\n",
       "      <td>Yes</td>\n",
       "      <td>...</td>\n",
       "      <td>Yes</td>\n",
       "      <td>No</td>\n",
       "      <td>No</td>\n",
       "      <td>No</td>\n",
       "      <td>One year</td>\n",
       "      <td>No</td>\n",
       "      <td>Mailed check</td>\n",
       "      <td>56.95</td>\n",
       "      <td>1889.5</td>\n",
       "      <td>No</td>\n",
       "    </tr>\n",
       "    <tr>\n",
       "      <th>2</th>\n",
       "      <td>3668-QPYBK</td>\n",
       "      <td>Male</td>\n",
       "      <td>0</td>\n",
       "      <td>No</td>\n",
       "      <td>No</td>\n",
       "      <td>2</td>\n",
       "      <td>Yes</td>\n",
       "      <td>No</td>\n",
       "      <td>DSL</td>\n",
       "      <td>Yes</td>\n",
       "      <td>...</td>\n",
       "      <td>No</td>\n",
       "      <td>No</td>\n",
       "      <td>No</td>\n",
       "      <td>No</td>\n",
       "      <td>Month-to-month</td>\n",
       "      <td>Yes</td>\n",
       "      <td>Mailed check</td>\n",
       "      <td>53.85</td>\n",
       "      <td>108.15</td>\n",
       "      <td>Yes</td>\n",
       "    </tr>\n",
       "  </tbody>\n",
       "</table>\n",
       "<p>3 rows × 21 columns</p>\n",
       "</div>"
      ],
      "text/plain": [
       "   customerID  gender  SeniorCitizen Partner Dependents  tenure PhoneService  \\\n",
       "0  7590-VHVEG  Female              0     Yes         No       1           No   \n",
       "1  5575-GNVDE    Male              0      No         No      34          Yes   \n",
       "2  3668-QPYBK    Male              0      No         No       2          Yes   \n",
       "\n",
       "      MultipleLines InternetService OnlineSecurity  ... DeviceProtection  \\\n",
       "0  No phone service             DSL             No  ...               No   \n",
       "1                No             DSL            Yes  ...              Yes   \n",
       "2                No             DSL            Yes  ...               No   \n",
       "\n",
       "  TechSupport StreamingTV StreamingMovies        Contract PaperlessBilling  \\\n",
       "0          No          No              No  Month-to-month              Yes   \n",
       "1          No          No              No        One year               No   \n",
       "2          No          No              No  Month-to-month              Yes   \n",
       "\n",
       "      PaymentMethod MonthlyCharges  TotalCharges Churn  \n",
       "0  Electronic check          29.85         29.85    No  \n",
       "1      Mailed check          56.95        1889.5    No  \n",
       "2      Mailed check          53.85        108.15   Yes  \n",
       "\n",
       "[3 rows x 21 columns]"
      ]
     },
     "execution_count": 5,
     "metadata": {},
     "output_type": "execute_result"
    }
   ],
   "source": [
    "print(telecom.shape)\n",
    "telecom.head(3)"
   ]
  },
  {
   "cell_type": "code",
   "execution_count": 32,
   "metadata": {},
   "outputs": [],
   "source": [
    "telecom['Churn'] = [1 if c == 'Yes' else 0 for c in telecom['Churn']]"
   ]
  },
  {
   "cell_type": "code",
   "execution_count": 34,
   "metadata": {},
   "outputs": [
    {
     "data": {
      "text/plain": [
       "0       0\n",
       "1       0\n",
       "2       1\n",
       "3       0\n",
       "4       1\n",
       "       ..\n",
       "7038    0\n",
       "7039    0\n",
       "7040    0\n",
       "7041    1\n",
       "7042    0\n",
       "Name: Churn, Length: 7043, dtype: int64"
      ]
     },
     "execution_count": 34,
     "metadata": {},
     "output_type": "execute_result"
    }
   ],
   "source": [
    "telecom['Churn']"
   ]
  },
  {
   "cell_type": "code",
   "execution_count": 33,
   "metadata": {},
   "outputs": [
    {
     "data": {
      "text/plain": [
       "gender               object\n",
       "SeniorCitizen         int64\n",
       "Partner              object\n",
       "Dependents           object\n",
       "tenure                int64\n",
       "PhoneService         object\n",
       "MultipleLines        object\n",
       "InternetService      object\n",
       "OnlineSecurity       object\n",
       "OnlineBackup         object\n",
       "DeviceProtection     object\n",
       "TechSupport          object\n",
       "StreamingTV          object\n",
       "StreamingMovies      object\n",
       "Contract             object\n",
       "PaperlessBilling     object\n",
       "PaymentMethod        object\n",
       "MonthlyCharges      float64\n",
       "TotalCharges        float64\n",
       "Churn                 int64\n",
       "dtype: object"
      ]
     },
     "execution_count": 33,
     "metadata": {},
     "output_type": "execute_result"
    }
   ],
   "source": [
    "telecom.dtypes"
   ]
  },
  {
   "cell_type": "code",
   "execution_count": 7,
   "metadata": {},
   "outputs": [
    {
     "data": {
      "text/plain": [
       "customerID          0\n",
       "gender              0\n",
       "SeniorCitizen       0\n",
       "Partner             0\n",
       "Dependents          0\n",
       "tenure              0\n",
       "PhoneService        0\n",
       "MultipleLines       0\n",
       "InternetService     0\n",
       "OnlineSecurity      0\n",
       "OnlineBackup        0\n",
       "DeviceProtection    0\n",
       "TechSupport         0\n",
       "StreamingTV         0\n",
       "StreamingMovies     0\n",
       "Contract            0\n",
       "PaperlessBilling    0\n",
       "PaymentMethod       0\n",
       "MonthlyCharges      0\n",
       "TotalCharges        0\n",
       "Churn               0\n",
       "dtype: int64"
      ]
     },
     "execution_count": 7,
     "metadata": {},
     "output_type": "execute_result"
    }
   ],
   "source": [
    "telecom = telecom.replace('^\\s*$', -2, regex=True)\n",
    "telecom.isnull().sum()"
   ]
  },
  {
   "cell_type": "code",
   "execution_count": 8,
   "metadata": {},
   "outputs": [],
   "source": [
    "telecom['TotalCharges'] = pd.to_numeric(telecom['TotalCharges'])"
   ]
  },
  {
   "cell_type": "code",
   "execution_count": 9,
   "metadata": {},
   "outputs": [],
   "source": [
    "telecom = telecom.drop(columns=['customerID'], axis=1)"
   ]
  },
  {
   "cell_type": "code",
   "execution_count": 10,
   "metadata": {},
   "outputs": [
    {
     "data": {
      "text/plain": [
       "gender              0\n",
       "SeniorCitizen       0\n",
       "Partner             0\n",
       "Dependents          0\n",
       "tenure              0\n",
       "PhoneService        0\n",
       "MultipleLines       0\n",
       "InternetService     0\n",
       "OnlineSecurity      0\n",
       "OnlineBackup        0\n",
       "DeviceProtection    0\n",
       "TechSupport         0\n",
       "StreamingTV         0\n",
       "StreamingMovies     0\n",
       "Contract            0\n",
       "PaperlessBilling    0\n",
       "PaymentMethod       0\n",
       "MonthlyCharges      0\n",
       "TotalCharges        0\n",
       "Churn               0\n",
       "dtype: int64"
      ]
     },
     "execution_count": 10,
     "metadata": {},
     "output_type": "execute_result"
    }
   ],
   "source": [
    "telecom.isnull().sum()"
   ]
  },
  {
   "cell_type": "code",
   "execution_count": 11,
   "metadata": {},
   "outputs": [
    {
     "data": {
      "text/plain": [
       "Index(['gender', 'SeniorCitizen', 'Partner', 'Dependents', 'tenure',\n",
       "       'PhoneService', 'MultipleLines', 'InternetService', 'OnlineSecurity',\n",
       "       'OnlineBackup', 'DeviceProtection', 'TechSupport', 'StreamingTV',\n",
       "       'StreamingMovies', 'Contract', 'PaperlessBilling', 'PaymentMethod',\n",
       "       'MonthlyCharges', 'TotalCharges', 'Churn'],\n",
       "      dtype='object')"
      ]
     },
     "execution_count": 11,
     "metadata": {},
     "output_type": "execute_result"
    }
   ],
   "source": [
    "telecom.columns"
   ]
  },
  {
   "cell_type": "code",
   "execution_count": 35,
   "metadata": {},
   "outputs": [
    {
     "data": {
      "text/plain": [
       "(Index(['gender', 'SeniorCitizen', 'Partner', 'Dependents', 'tenure',\n",
       "        'PhoneService', 'MultipleLines', 'InternetService', 'OnlineSecurity',\n",
       "        'OnlineBackup', 'DeviceProtection', 'TechSupport', 'StreamingTV',\n",
       "        'StreamingMovies', 'Contract', 'PaperlessBilling', 'PaymentMethod',\n",
       "        'MonthlyCharges', 'TotalCharges'],\n",
       "       dtype='object'),\n",
       " 'Churn')"
      ]
     },
     "execution_count": 35,
     "metadata": {},
     "output_type": "execute_result"
    }
   ],
   "source": [
    "features = telecom.columns[:-1]\n",
    "target = telecom.columns[-1]\n",
    "features, target"
   ]
  },
  {
   "cell_type": "code",
   "execution_count": 36,
   "metadata": {},
   "outputs": [
    {
     "data": {
      "text/plain": [
       "((7043, 19), (7043,))"
      ]
     },
     "execution_count": 36,
     "metadata": {},
     "output_type": "execute_result"
    }
   ],
   "source": [
    "X = telecom[features]\n",
    "y = telecom[target]\n",
    "X.shape, y.shape"
   ]
  },
  {
   "cell_type": "code",
   "execution_count": 37,
   "metadata": {},
   "outputs": [],
   "source": [
    "X_train, X_test, y_train, y_test = train_test_split(X, y, test_size=0.25, random_state=42, shuffle=True)"
   ]
  },
  {
   "cell_type": "code",
   "execution_count": 38,
   "metadata": {},
   "outputs": [
    {
     "data": {
      "text/plain": [
       "(((5282, 19), (5282,)), ((1761, 19), (1761,)))"
      ]
     },
     "execution_count": 38,
     "metadata": {},
     "output_type": "execute_result"
    }
   ],
   "source": [
    "(X_train.shape, y_train.shape), (X_test.shape, y_test.shape)"
   ]
  },
  {
   "cell_type": "code",
   "execution_count": 39,
   "metadata": {},
   "outputs": [
    {
     "data": {
      "text/plain": [
       "Index(['gender', 'Partner', 'Dependents', 'PhoneService', 'MultipleLines',\n",
       "       'InternetService', 'OnlineSecurity', 'OnlineBackup', 'DeviceProtection',\n",
       "       'TechSupport', 'StreamingTV', 'StreamingMovies', 'Contract',\n",
       "       'PaperlessBilling', 'PaymentMethod'],\n",
       "      dtype='object')"
      ]
     },
     "execution_count": 39,
     "metadata": {},
     "output_type": "execute_result"
    }
   ],
   "source": [
    "categories = telecom[features].select_dtypes(include=['object']).columns\n",
    "categories"
   ]
  },
  {
   "cell_type": "code",
   "execution_count": 40,
   "metadata": {},
   "outputs": [],
   "source": [
    "enc = ce.OrdinalEncoder()\n",
    "\n",
    "\n",
    "X_train_enc = enc.fit_transform(X_train, y_train)\n",
    "X_test_enc = enc.transform(X_test)\n"
   ]
  },
  {
   "cell_type": "code",
   "execution_count": 41,
   "metadata": {},
   "outputs": [
    {
     "data": {
      "text/plain": [
       "(5282, 19)"
      ]
     },
     "execution_count": 41,
     "metadata": {},
     "output_type": "execute_result"
    }
   ],
   "source": [
    "X_train_enc.shape"
   ]
  },
  {
   "cell_type": "code",
   "execution_count": 42,
   "metadata": {},
   "outputs": [
    {
     "data": {
      "text/html": [
       "<div>\n",
       "<style scoped>\n",
       "    .dataframe tbody tr th:only-of-type {\n",
       "        vertical-align: middle;\n",
       "    }\n",
       "\n",
       "    .dataframe tbody tr th {\n",
       "        vertical-align: top;\n",
       "    }\n",
       "\n",
       "    .dataframe thead th {\n",
       "        text-align: right;\n",
       "    }\n",
       "</style>\n",
       "<table border=\"1\" class=\"dataframe\">\n",
       "  <thead>\n",
       "    <tr style=\"text-align: right;\">\n",
       "      <th></th>\n",
       "      <th>gender</th>\n",
       "      <th>SeniorCitizen</th>\n",
       "      <th>Partner</th>\n",
       "      <th>Dependents</th>\n",
       "      <th>tenure</th>\n",
       "      <th>PhoneService</th>\n",
       "      <th>MultipleLines</th>\n",
       "      <th>InternetService</th>\n",
       "      <th>OnlineSecurity</th>\n",
       "      <th>OnlineBackup</th>\n",
       "      <th>DeviceProtection</th>\n",
       "      <th>TechSupport</th>\n",
       "      <th>StreamingTV</th>\n",
       "      <th>StreamingMovies</th>\n",
       "      <th>Contract</th>\n",
       "      <th>PaperlessBilling</th>\n",
       "      <th>PaymentMethod</th>\n",
       "      <th>MonthlyCharges</th>\n",
       "      <th>TotalCharges</th>\n",
       "    </tr>\n",
       "  </thead>\n",
       "  <tbody>\n",
       "    <tr>\n",
       "      <th>6607</th>\n",
       "      <td>1</td>\n",
       "      <td>0</td>\n",
       "      <td>1</td>\n",
       "      <td>1</td>\n",
       "      <td>1</td>\n",
       "      <td>1</td>\n",
       "      <td>1</td>\n",
       "      <td>1</td>\n",
       "      <td>1</td>\n",
       "      <td>1</td>\n",
       "      <td>1</td>\n",
       "      <td>1</td>\n",
       "      <td>1</td>\n",
       "      <td>1</td>\n",
       "      <td>1</td>\n",
       "      <td>1</td>\n",
       "      <td>1</td>\n",
       "      <td>25.30</td>\n",
       "      <td>25.30</td>\n",
       "    </tr>\n",
       "    <tr>\n",
       "      <th>2598</th>\n",
       "      <td>2</td>\n",
       "      <td>0</td>\n",
       "      <td>1</td>\n",
       "      <td>2</td>\n",
       "      <td>7</td>\n",
       "      <td>2</td>\n",
       "      <td>2</td>\n",
       "      <td>2</td>\n",
       "      <td>1</td>\n",
       "      <td>1</td>\n",
       "      <td>2</td>\n",
       "      <td>1</td>\n",
       "      <td>1</td>\n",
       "      <td>1</td>\n",
       "      <td>1</td>\n",
       "      <td>1</td>\n",
       "      <td>1</td>\n",
       "      <td>75.15</td>\n",
       "      <td>525.00</td>\n",
       "    </tr>\n",
       "    <tr>\n",
       "      <th>2345</th>\n",
       "      <td>2</td>\n",
       "      <td>0</td>\n",
       "      <td>1</td>\n",
       "      <td>1</td>\n",
       "      <td>4</td>\n",
       "      <td>2</td>\n",
       "      <td>2</td>\n",
       "      <td>3</td>\n",
       "      <td>2</td>\n",
       "      <td>2</td>\n",
       "      <td>3</td>\n",
       "      <td>2</td>\n",
       "      <td>2</td>\n",
       "      <td>2</td>\n",
       "      <td>1</td>\n",
       "      <td>1</td>\n",
       "      <td>2</td>\n",
       "      <td>20.05</td>\n",
       "      <td>85.50</td>\n",
       "    </tr>\n",
       "    <tr>\n",
       "      <th>4093</th>\n",
       "      <td>2</td>\n",
       "      <td>0</td>\n",
       "      <td>1</td>\n",
       "      <td>2</td>\n",
       "      <td>29</td>\n",
       "      <td>2</td>\n",
       "      <td>3</td>\n",
       "      <td>2</td>\n",
       "      <td>1</td>\n",
       "      <td>1</td>\n",
       "      <td>1</td>\n",
       "      <td>1</td>\n",
       "      <td>1</td>\n",
       "      <td>1</td>\n",
       "      <td>1</td>\n",
       "      <td>1</td>\n",
       "      <td>3</td>\n",
       "      <td>76.00</td>\n",
       "      <td>2215.25</td>\n",
       "    </tr>\n",
       "    <tr>\n",
       "      <th>693</th>\n",
       "      <td>2</td>\n",
       "      <td>0</td>\n",
       "      <td>1</td>\n",
       "      <td>2</td>\n",
       "      <td>3</td>\n",
       "      <td>2</td>\n",
       "      <td>3</td>\n",
       "      <td>2</td>\n",
       "      <td>1</td>\n",
       "      <td>1</td>\n",
       "      <td>1</td>\n",
       "      <td>1</td>\n",
       "      <td>1</td>\n",
       "      <td>1</td>\n",
       "      <td>1</td>\n",
       "      <td>1</td>\n",
       "      <td>3</td>\n",
       "      <td>75.10</td>\n",
       "      <td>270.70</td>\n",
       "    </tr>\n",
       "    <tr>\n",
       "      <th>...</th>\n",
       "      <td>...</td>\n",
       "      <td>...</td>\n",
       "      <td>...</td>\n",
       "      <td>...</td>\n",
       "      <td>...</td>\n",
       "      <td>...</td>\n",
       "      <td>...</td>\n",
       "      <td>...</td>\n",
       "      <td>...</td>\n",
       "      <td>...</td>\n",
       "      <td>...</td>\n",
       "      <td>...</td>\n",
       "      <td>...</td>\n",
       "      <td>...</td>\n",
       "      <td>...</td>\n",
       "      <td>...</td>\n",
       "      <td>...</td>\n",
       "      <td>...</td>\n",
       "      <td>...</td>\n",
       "    </tr>\n",
       "    <tr>\n",
       "      <th>3772</th>\n",
       "      <td>1</td>\n",
       "      <td>0</td>\n",
       "      <td>2</td>\n",
       "      <td>2</td>\n",
       "      <td>1</td>\n",
       "      <td>2</td>\n",
       "      <td>2</td>\n",
       "      <td>2</td>\n",
       "      <td>3</td>\n",
       "      <td>1</td>\n",
       "      <td>1</td>\n",
       "      <td>1</td>\n",
       "      <td>3</td>\n",
       "      <td>3</td>\n",
       "      <td>1</td>\n",
       "      <td>1</td>\n",
       "      <td>1</td>\n",
       "      <td>95.00</td>\n",
       "      <td>95.00</td>\n",
       "    </tr>\n",
       "    <tr>\n",
       "      <th>5191</th>\n",
       "      <td>2</td>\n",
       "      <td>0</td>\n",
       "      <td>2</td>\n",
       "      <td>1</td>\n",
       "      <td>23</td>\n",
       "      <td>2</td>\n",
       "      <td>3</td>\n",
       "      <td>1</td>\n",
       "      <td>3</td>\n",
       "      <td>3</td>\n",
       "      <td>2</td>\n",
       "      <td>3</td>\n",
       "      <td>3</td>\n",
       "      <td>3</td>\n",
       "      <td>3</td>\n",
       "      <td>1</td>\n",
       "      <td>3</td>\n",
       "      <td>91.10</td>\n",
       "      <td>2198.30</td>\n",
       "    </tr>\n",
       "    <tr>\n",
       "      <th>5226</th>\n",
       "      <td>1</td>\n",
       "      <td>0</td>\n",
       "      <td>2</td>\n",
       "      <td>1</td>\n",
       "      <td>12</td>\n",
       "      <td>2</td>\n",
       "      <td>2</td>\n",
       "      <td>3</td>\n",
       "      <td>2</td>\n",
       "      <td>2</td>\n",
       "      <td>3</td>\n",
       "      <td>2</td>\n",
       "      <td>2</td>\n",
       "      <td>2</td>\n",
       "      <td>1</td>\n",
       "      <td>1</td>\n",
       "      <td>1</td>\n",
       "      <td>21.15</td>\n",
       "      <td>306.05</td>\n",
       "    </tr>\n",
       "    <tr>\n",
       "      <th>5390</th>\n",
       "      <td>1</td>\n",
       "      <td>1</td>\n",
       "      <td>1</td>\n",
       "      <td>2</td>\n",
       "      <td>12</td>\n",
       "      <td>2</td>\n",
       "      <td>3</td>\n",
       "      <td>2</td>\n",
       "      <td>1</td>\n",
       "      <td>1</td>\n",
       "      <td>2</td>\n",
       "      <td>1</td>\n",
       "      <td>3</td>\n",
       "      <td>3</td>\n",
       "      <td>1</td>\n",
       "      <td>1</td>\n",
       "      <td>1</td>\n",
       "      <td>99.45</td>\n",
       "      <td>1200.15</td>\n",
       "    </tr>\n",
       "    <tr>\n",
       "      <th>860</th>\n",
       "      <td>1</td>\n",
       "      <td>0</td>\n",
       "      <td>1</td>\n",
       "      <td>2</td>\n",
       "      <td>26</td>\n",
       "      <td>2</td>\n",
       "      <td>2</td>\n",
       "      <td>3</td>\n",
       "      <td>2</td>\n",
       "      <td>2</td>\n",
       "      <td>3</td>\n",
       "      <td>2</td>\n",
       "      <td>2</td>\n",
       "      <td>2</td>\n",
       "      <td>2</td>\n",
       "      <td>2</td>\n",
       "      <td>3</td>\n",
       "      <td>19.80</td>\n",
       "      <td>457.30</td>\n",
       "    </tr>\n",
       "  </tbody>\n",
       "</table>\n",
       "<p>5282 rows × 19 columns</p>\n",
       "</div>"
      ],
      "text/plain": [
       "      gender  SeniorCitizen  Partner  Dependents  tenure  PhoneService  \\\n",
       "6607       1              0        1           1       1             1   \n",
       "2598       2              0        1           2       7             2   \n",
       "2345       2              0        1           1       4             2   \n",
       "4093       2              0        1           2      29             2   \n",
       "693        2              0        1           2       3             2   \n",
       "...      ...            ...      ...         ...     ...           ...   \n",
       "3772       1              0        2           2       1             2   \n",
       "5191       2              0        2           1      23             2   \n",
       "5226       1              0        2           1      12             2   \n",
       "5390       1              1        1           2      12             2   \n",
       "860        1              0        1           2      26             2   \n",
       "\n",
       "      MultipleLines  InternetService  OnlineSecurity  OnlineBackup  \\\n",
       "6607              1                1               1             1   \n",
       "2598              2                2               1             1   \n",
       "2345              2                3               2             2   \n",
       "4093              3                2               1             1   \n",
       "693               3                2               1             1   \n",
       "...             ...              ...             ...           ...   \n",
       "3772              2                2               3             1   \n",
       "5191              3                1               3             3   \n",
       "5226              2                3               2             2   \n",
       "5390              3                2               1             1   \n",
       "860               2                3               2             2   \n",
       "\n",
       "      DeviceProtection  TechSupport  StreamingTV  StreamingMovies  Contract  \\\n",
       "6607                 1            1            1                1         1   \n",
       "2598                 2            1            1                1         1   \n",
       "2345                 3            2            2                2         1   \n",
       "4093                 1            1            1                1         1   \n",
       "693                  1            1            1                1         1   \n",
       "...                ...          ...          ...              ...       ...   \n",
       "3772                 1            1            3                3         1   \n",
       "5191                 2            3            3                3         3   \n",
       "5226                 3            2            2                2         1   \n",
       "5390                 2            1            3                3         1   \n",
       "860                  3            2            2                2         2   \n",
       "\n",
       "      PaperlessBilling  PaymentMethod  MonthlyCharges  TotalCharges  \n",
       "6607                 1              1           25.30         25.30  \n",
       "2598                 1              1           75.15        525.00  \n",
       "2345                 1              2           20.05         85.50  \n",
       "4093                 1              3           76.00       2215.25  \n",
       "693                  1              3           75.10        270.70  \n",
       "...                ...            ...             ...           ...  \n",
       "3772                 1              1           95.00         95.00  \n",
       "5191                 1              3           91.10       2198.30  \n",
       "5226                 1              1           21.15        306.05  \n",
       "5390                 1              1           99.45       1200.15  \n",
       "860                  2              3           19.80        457.30  \n",
       "\n",
       "[5282 rows x 19 columns]"
      ]
     },
     "execution_count": 42,
     "metadata": {},
     "output_type": "execute_result"
    }
   ],
   "source": [
    "X_train_enc"
   ]
  },
  {
   "cell_type": "code",
   "execution_count": 43,
   "metadata": {},
   "outputs": [
    {
     "name": "stdout",
     "output_type": "stream",
     "text": [
      "[[-0.97309929 -0.43609145 -0.96941854 -1.5265618  -1.28288214 -3.06222308\n",
      "  -2.06867715 -1.18104467 -0.91809493 -1.03965454 -0.99221753 -0.92219807\n",
      "  -1.11971672 -1.12523148 -0.83139487 -0.83766059 -1.14934396 -1.31004561\n",
      "  -0.99706287]\n",
      " [ 1.02764436 -0.43609145 -0.96941854  0.65506683 -1.03785653  0.32656014\n",
      "  -0.51525766  0.17245456 -0.91809493 -1.03965454  0.28886118 -0.92219807\n",
      "  -1.11971672 -1.12523148 -0.83139487 -0.83766059 -1.14934396  0.34483164\n",
      "  -0.77679203]\n",
      " [ 1.02764436 -0.43609145 -0.96941854 -1.5265618  -1.16036933  0.32656014\n",
      "  -0.51525766  1.52595379  0.2459419   0.09588212  1.56993989  0.24034374\n",
      "   0.01070066  0.00513609 -0.83139487 -0.83766059 -0.28945235 -1.48433058\n",
      "  -0.97052633]\n",
      " [ 1.02764436 -0.43609145 -0.96941854  0.65506683 -0.13942926  0.32656014\n",
      "   1.03816184  0.17245456 -0.91809493 -1.03965454 -0.99221753 -0.92219807\n",
      "  -1.11971672 -1.12523148 -0.83139487 -0.83766059  0.57043927  0.37304921\n",
      "  -0.03171942]\n",
      " [ 1.02764436 -0.43609145 -0.96941854  0.65506683 -1.20120694  0.32656014\n",
      "   1.03816184  0.17245456 -0.91809493 -1.03965454 -0.99221753 -0.92219807\n",
      "  -1.11971672 -1.12523148 -0.83139487 -0.83766059  0.57043927  0.34317178\n",
      "  -0.88888903]\n",
      " [ 1.02764436  2.293097   -0.96941854  0.65506683 -1.28288214 -3.06222308\n",
      "  -2.06867715 -1.18104467 -0.91809493 -1.03965454 -0.99221753 -0.92219807\n",
      "  -1.11971672 -1.12523148 -0.83139487 -0.83766059  1.43033088 -1.29344704\n",
      "  -0.99684246]\n",
      " [-0.97309929 -0.43609145 -0.96941854  0.65506683 -1.03785653 -3.06222308\n",
      "  -2.06867715 -1.18104467  1.40997873 -1.03965454  0.28886118 -0.92219807\n",
      "  -1.11971672 -1.12523148  0.37107712  1.19380095  1.43033088 -0.97807425\n",
      "  -0.89148979]\n",
      " [ 1.02764436 -0.43609145 -0.96941854  0.65506683  0.79983561  0.32656014\n",
      "   1.03816184  0.17245456  1.40997873  1.23141878 -0.99221753  1.40288556\n",
      "   1.14111803  1.13550366  0.37107712 -0.83766059  0.57043927  1.54324827\n",
      "   1.59979233]\n",
      " [-0.97309929 -0.43609145  1.03154619 -1.5265618   1.61658768  0.32656014\n",
      "   1.03816184 -1.18104467  1.40997873  1.23141878  0.28886118  1.40288556\n",
      "   1.14111803  1.13550366  1.57354911 -0.83766059  0.57043927  0.90254353\n",
      "   1.90767339]\n",
      " [-0.97309929 -0.43609145  1.03154619  0.65506683  0.92234842  0.32656014\n",
      "   1.03816184  0.17245456  1.40997873  1.23141878 -0.99221753 -0.92219807\n",
      "   1.14111803 -1.12523148 -0.83139487 -0.83766059 -1.14934396  1.06188979\n",
      "   1.30112412]]\n"
     ]
    }
   ],
   "source": [
    "scaler = StandardScaler()\n",
    "\n",
    "X_train_scaled = scaler.fit_transform(X_train_enc)\n",
    "X_test_scaled = scaler.transform(X_test_enc)\n",
    "print(X_train_scaled[:10])"
   ]
  },
  {
   "cell_type": "code",
   "execution_count": 44,
   "metadata": {},
   "outputs": [
    {
     "data": {
      "text/plain": [
       "(5282, 19)"
      ]
     },
     "execution_count": 44,
     "metadata": {},
     "output_type": "execute_result"
    }
   ],
   "source": [
    "X_train_scaled.shape"
   ]
  },
  {
   "cell_type": "code",
   "execution_count": 55,
   "metadata": {},
   "outputs": [
    {
     "data": {
      "text/plain": [
       "185     1\n",
       "2715    0\n",
       "3825    0\n",
       "1807    1\n",
       "132     0\n",
       "       ..\n",
       "5845    1\n",
       "2301    0\n",
       "5121    0\n",
       "677     1\n",
       "6062    0\n",
       "Name: Churn, Length: 1761, dtype: int64"
      ]
     },
     "execution_count": 55,
     "metadata": {},
     "output_type": "execute_result"
    }
   ],
   "source": [
    "y_test"
   ]
  },
  {
   "cell_type": "code",
   "execution_count": 57,
   "metadata": {},
   "outputs": [],
   "source": [
    "model = Sequential([\n",
    "    Dense(6, input_dim=19),\n",
    "    Dense(2)\n",
    "])\n",
    "\n",
    "model.compile(loss='binary_crossentropy', metrics=['accuracy'])"
   ]
  },
  {
   "cell_type": "code",
   "execution_count": 58,
   "metadata": {},
   "outputs": [
    {
     "name": "stdout",
     "output_type": "stream",
     "text": [
      "Epoch 1/10\n",
      "166/166 [==============================] - 1s 4ms/step - loss: 4.6622 - accuracy: 0.4250 - val_loss: 4.1593 - val_accuracy: 0.4157\n",
      "Epoch 2/10\n",
      "166/166 [==============================] - 0s 3ms/step - loss: 3.7452 - accuracy: 0.4339 - val_loss: 3.2267 - val_accuracy: 0.4287\n",
      "Epoch 3/10\n",
      "166/166 [==============================] - 0s 3ms/step - loss: 3.1162 - accuracy: 0.4428 - val_loss: 2.8138 - val_accuracy: 0.4526\n",
      "Epoch 4/10\n",
      "166/166 [==============================] - 0s 3ms/step - loss: 2.6643 - accuracy: 0.4587 - val_loss: 2.4912 - val_accuracy: 0.4622\n",
      "Epoch 5/10\n",
      "166/166 [==============================] - 0s 3ms/step - loss: 2.4236 - accuracy: 0.4744 - val_loss: 2.3474 - val_accuracy: 0.4747\n",
      "Epoch 6/10\n",
      "166/166 [==============================] - 0s 3ms/step - loss: 2.3234 - accuracy: 0.4769 - val_loss: 2.1687 - val_accuracy: 0.4713\n",
      "Epoch 7/10\n",
      "166/166 [==============================] - 0s 3ms/step - loss: 2.0939 - accuracy: 0.4786 - val_loss: 1.9158 - val_accuracy: 0.4804\n",
      "Epoch 8/10\n",
      "166/166 [==============================] - 0s 3ms/step - loss: 1.8481 - accuracy: 0.4945 - val_loss: 1.6293 - val_accuracy: 0.4861\n",
      "Epoch 9/10\n",
      "166/166 [==============================] - 0s 2ms/step - loss: 1.5420 - accuracy: 0.5051 - val_loss: 1.3565 - val_accuracy: 0.5116\n",
      "Epoch 10/10\n",
      "166/166 [==============================] - 0s 3ms/step - loss: 1.2990 - accuracy: 0.5178 - val_loss: 1.1458 - val_accuracy: 0.5173\n"
     ]
    }
   ],
   "source": [
    "model_object = model.fit(x=X_train_scaled, \n",
    "          y=y_train, \n",
    "          epochs=10, \n",
    "          validation_data=(X_test_scaled, y_test))"
   ]
  },
  {
   "cell_type": "markdown",
   "metadata": {},
   "source": [
    "### baseline is 51%"
   ]
  },
  {
   "cell_type": "code",
   "execution_count": 125,
   "metadata": {},
   "outputs": [],
   "source": [
    "# Function to create model, required for KerasClassifier\n",
    "def create_model(lr, activation='relu'):\n",
    "    # create optimizer\n",
    "    adam = Adam(learning_rate=lr)\n",
    "    # create model\n",
    "    act = activation\n",
    "    model = Sequential()\n",
    "    model.add(Dense(64, input_dim=19, activation=act))\n",
    "    model.add(Dense(32, activation=act))\n",
    "    model.add(Dense(16, activation=act))\n",
    "    model.add(Dense(8, activation=act))\n",
    "    model.add(Dense(2, activation=act))\n",
    "    # Compile model\n",
    "    model.compile(loss='binary_crossentropy', optimizer=adam, metrics=['accuracy'])\n",
    "    return model"
   ]
  },
  {
   "cell_type": "code",
   "execution_count": 126,
   "metadata": {},
   "outputs": [],
   "source": [
    "# create model\n",
    "model2 = KerasClassifier(build_fn=create_model, verbose=0)"
   ]
  },
  {
   "cell_type": "code",
   "execution_count": 92,
   "metadata": {},
   "outputs": [
    {
     "name": "stdout",
     "output_type": "stream",
     "text": [
      "Best: 0.7351362347602844 using {'batch_size': 10, 'epochs': 20, 'lr': 0.2}\n"
     ]
    }
   ],
   "source": [
    "# define the grid search parameters\n",
    "param_grid = {'lr': [.001, .01, .1, .2, .3, .5],\n",
    "              'batch_size': [10],\n",
    "              'epochs': [20]}\n",
    "\n",
    "# Create Grid Search\n",
    "grid = GridSearchCV(estimator=model2, param_grid=param_grid, n_jobs=12)\n",
    "grid_result = grid.fit(X_train_scaled, y_train)\n",
    "\n",
    "# Report Results\n",
    "print(f\"Best: {grid_result.best_score_} using {grid_result.best_params_}\")"
   ]
  },
  {
   "cell_type": "code",
   "execution_count": 93,
   "metadata": {},
   "outputs": [
    {
     "name": "stdout",
     "output_type": "stream",
     "text": [
      "Best: 0.6512347280979156 using {'batch_size': 30, 'epochs': 20, 'lr': 0.2}\n"
     ]
    }
   ],
   "source": [
    "# define the grid search parameters\n",
    "param_grid = {'lr': [.2],\n",
    "              'batch_size': [10, 20, 30, 40, 50],\n",
    "              'epochs': [20]}\n",
    "\n",
    "# Create Grid Search\n",
    "grid = GridSearchCV(estimator=model2, param_grid=param_grid, n_jobs=12)\n",
    "grid_result = grid.fit(X_train_scaled, y_train)\n",
    "\n",
    "# Report Results\n",
    "print(f\"Best: {grid_result.best_score_} using {grid_result.best_params_}\")\n"
   ]
  },
  {
   "cell_type": "code",
   "execution_count": 94,
   "metadata": {},
   "outputs": [
    {
     "name": "stdout",
     "output_type": "stream",
     "text": [
      "Best: 0.7368407845497131 using {'batch_size': 10, 'epochs': 50, 'lr': 0.2}\n"
     ]
    }
   ],
   "source": [
    "param_grid = {'lr': [.2],\n",
    "              'batch_size': [10, 20, 30, 40, 50],\n",
    "              'epochs': [20, 50, 100]}\n",
    "\n",
    "# Create Grid Search\n",
    "grid = GridSearchCV(estimator=model2, param_grid=param_grid, n_jobs=12)\n",
    "grid_result = grid.fit(X_train_scaled, y_train)\n",
    "\n",
    "# Report Results\n",
    "print(f\"Best: {grid_result.best_score_} using {grid_result.best_params_}\")"
   ]
  },
  {
   "cell_type": "code",
   "execution_count": 103,
   "metadata": {},
   "outputs": [
    {
     "name": "stdout",
     "output_type": "stream",
     "text": [
      "Best: 0.7368407845497131 using {'activation': 'relu', 'batch_size': 10, 'epochs': 50, 'lr': 0.2}\n"
     ]
    }
   ],
   "source": [
    "# define the grid search parameters\n",
    "param_grid = {'lr': [.2],\n",
    "              'batch_size': [10],\n",
    "              'epochs': [50],\n",
    "              'activation': ['relu', 'softmax', 'softplus']}\n",
    "\n",
    "# Create Grid Search\n",
    "grid = GridSearchCV(estimator=model2, param_grid=param_grid, n_jobs=12)\n",
    "grid_result = grid.fit(X_train_scaled, y_train)\n",
    "\n",
    "# Report Results\n",
    "print(f\"Best: {grid_result.best_score_} using {grid_result.best_params_}\")"
   ]
  },
  {
   "cell_type": "code",
   "execution_count": 95,
   "metadata": {},
   "outputs": [
    {
     "name": "stdout",
     "output_type": "stream",
     "text": [
      "Means: 0.5504771530628204, Stdev: 0.2317484118798782 with: {'batch_size': 10, 'epochs': 20, 'lr': 0.2}\n",
      "Means: 0.7368407845497131, Stdev: 0.012716509457793904 with: {'batch_size': 10, 'epochs': 50, 'lr': 0.2}\n",
      "Means: 0.5016507804393768, Stdev: 0.21311348698165491 with: {'batch_size': 10, 'epochs': 100, 'lr': 0.2}\n",
      "Means: 0.6390167593955993, Stdev: 0.1921707767743572 with: {'batch_size': 20, 'epochs': 20, 'lr': 0.2}\n",
      "Means: 0.5504771530628204, Stdev: 0.2317484118798782 with: {'batch_size': 20, 'epochs': 50, 'lr': 0.2}\n",
      "Means: 0.642422616481781, Stdev: 0.1896603942666927 with: {'batch_size': 20, 'epochs': 100, 'lr': 0.2}\n",
      "Means: 0.556158971786499, Stdev: 0.23043750153031653 with: {'batch_size': 30, 'epochs': 20, 'lr': 0.2}\n",
      "Means: 0.5439410030841827, Stdev: 0.23307607753767434 with: {'batch_size': 30, 'epochs': 50, 'lr': 0.2}\n",
      "Means: 0.5410074532032013, Stdev: 0.23361005640635293 with: {'batch_size': 30, 'epochs': 100, 'lr': 0.2}\n",
      "Means: 0.7368407845497131, Stdev: 0.012716509457793904 with: {'batch_size': 40, 'epochs': 20, 'lr': 0.2}\n",
      "Means: 0.4583349466323853, Stdev: 0.23349367347216338 with: {'batch_size': 40, 'epochs': 50, 'lr': 0.2}\n",
      "Means: 0.35861374735832213, Stdev: 0.19000995188329783 with: {'batch_size': 40, 'epochs': 100, 'lr': 0.2}\n",
      "Means: 0.7368407845497131, Stdev: 0.012716509457793904 with: {'batch_size': 50, 'epochs': 20, 'lr': 0.2}\n",
      "Means: 0.6417650282382965, Stdev: 0.19015242949009917 with: {'batch_size': 50, 'epochs': 50, 'lr': 0.2}\n",
      "Means: 0.443841016292572, Stdev: 0.23043748694138858 with: {'batch_size': 50, 'epochs': 100, 'lr': 0.2}\n"
     ]
    }
   ],
   "source": [
    "means = grid_result.cv_results_['mean_test_score']\n",
    "stds = grid_result.cv_results_['std_test_score']\n",
    "params = grid_result.cv_results_['params']\n",
    "for mean, stdev, param in zip(means, stds, params):\n",
    "    print(f\"Means: {mean}, Stdev: {stdev} with: {param}\") "
   ]
  },
  {
   "cell_type": "code",
   "execution_count": 128,
   "metadata": {},
   "outputs": [],
   "source": [
    "# best params\n",
    "param_grid = {'lr': [.2],\n",
    "              'batch_size': [10],\n",
    "              'epochs': [50]}\n",
    "\n",
    "# early stopping\n",
    "stopping = EarlyStopping(monitor='val_accuracy', min_delta=0.001, patience=10)\n",
    "\n",
    "model_2 = Sequential([\n",
    "    Dense(64, activation='relu', input_dim=19),\n",
    "    Dense(32, activation='relu'),\n",
    "    Dense(16, activation='relu'),\n",
    "    Dense(8, activation='relu'),\n",
    "    Dense(2, activation='relu')\n",
    "])\n",
    "\n",
    "model_2.compile(loss='binary_crossentropy', optimizer=Adam(learning_rate=0.2), metrics=['accuracy'])"
   ]
  },
  {
   "cell_type": "code",
   "execution_count": 129,
   "metadata": {},
   "outputs": [
    {
     "name": "stdout",
     "output_type": "stream",
     "text": [
      "Epoch 1/100\n",
      "529/529 [==============================] - ETA: 0s - loss: 3.0972 - accuracy: 0.60 - ETA: 0s - loss: 4.2892 - accuracy: 0.71 - ETA: 0s - loss: 4.4046 - accuracy: 0.71 - ETA: 0s - loss: 4.2114 - accuracy: 0.72 - ETA: 0s - loss: 4.1501 - accuracy: 0.72 - ETA: 0s - loss: 4.0746 - accuracy: 0.73 - ETA: 0s - loss: 4.0213 - accuracy: 0.73 - ETA: 0s - loss: 4.0587 - accuracy: 0.73 - ETA: 0s - loss: 4.0407 - accuracy: 0.73 - ETA: 0s - loss: 4.0755 - accuracy: 0.73 - ETA: 0s - loss: 4.0971 - accuracy: 0.73 - ETA: 0s - loss: 4.0403 - accuracy: 0.73 - 1s 2ms/step - loss: 4.0592 - accuracy: 0.7365 - val_loss: 4.1957 - val_accuracy: 0.7280\n",
      "Epoch 2/100\n",
      "529/529 [==============================] - ETA: 0s - loss: 4.6275 - accuracy: 0.70 - ETA: 0s - loss: 4.2251 - accuracy: 0.72 - ETA: 0s - loss: 4.3646 - accuracy: 0.71 - ETA: 0s - loss: 4.2507 - accuracy: 0.72 - ETA: 0s - loss: 4.1691 - accuracy: 0.72 - ETA: 0s - loss: 4.1016 - accuracy: 0.73 - ETA: 0s - loss: 3.9639 - accuracy: 0.74 - ETA: 0s - loss: 3.9657 - accuracy: 0.74 - ETA: 0s - loss: 3.9957 - accuracy: 0.74 - ETA: 0s - loss: 4.0012 - accuracy: 0.74 - ETA: 0s - loss: 4.0132 - accuracy: 0.73 - ETA: 0s - loss: 4.0289 - accuracy: 0.73 - ETA: 0s - loss: 4.0527 - accuracy: 0.73 - 1s 1ms/step - loss: 4.0592 - accuracy: 0.7368 - val_loss: 4.1957 - val_accuracy: 0.7280\n",
      "Epoch 3/100\n",
      "529/529 [==============================] - ETA: 0s - loss: 4.6275 - accuracy: 0.70 - ETA: 0s - loss: 4.7009 - accuracy: 0.69 - ETA: 0s - loss: 4.1066 - accuracy: 0.73 - ETA: 0s - loss: 4.0331 - accuracy: 0.73 - ETA: 0s - loss: 4.1026 - accuracy: 0.73 - ETA: 0s - loss: 4.0565 - accuracy: 0.73 - ETA: 0s - loss: 4.0873 - accuracy: 0.73 - ETA: 0s - loss: 4.0310 - accuracy: 0.73 - ETA: 0s - loss: 4.0595 - accuracy: 0.73 - ETA: 0s - loss: 4.0381 - accuracy: 0.73 - ETA: 0s - loss: 4.0733 - accuracy: 0.73 - ETA: 0s - loss: 4.0859 - accuracy: 0.73 - ETA: 0s - loss: 4.1020 - accuracy: 0.73 - ETA: 0s - loss: 4.0541 - accuracy: 0.73 - 1s 2ms/step - loss: 4.0592 - accuracy: 0.7368 - val_loss: 4.1957 - val_accuracy: 0.7280\n",
      "Epoch 4/100\n",
      "529/529 [==============================] - ETA: 0s - loss: 4.6275 - accuracy: 0.70 - ETA: 0s - loss: 4.1367 - accuracy: 0.73 - ETA: 0s - loss: 4.0356 - accuracy: 0.73 - ETA: 0s - loss: 4.0845 - accuracy: 0.73 - ETA: 0s - loss: 4.1324 - accuracy: 0.73 - ETA: 0s - loss: 4.1540 - accuracy: 0.73 - ETA: 0s - loss: 4.1028 - accuracy: 0.73 - ETA: 0s - loss: 4.0225 - accuracy: 0.73 - ETA: 0s - loss: 3.9984 - accuracy: 0.74 - ETA: 0s - loss: 4.0371 - accuracy: 0.73 - ETA: 0s - loss: 4.0247 - accuracy: 0.73 - ETA: 0s - loss: 4.0139 - accuracy: 0.73 - ETA: 0s - loss: 4.0463 - accuracy: 0.73 - 1s 1ms/step - loss: 4.0592 - accuracy: 0.7368 - val_loss: 4.1957 - val_accuracy: 0.7280\n",
      "Epoch 5/100\n",
      "529/529 [==============================] - ETA: 0s - loss: 1.5425 - accuracy: 0.90 - ETA: 0s - loss: 4.1611 - accuracy: 0.73 - ETA: 0s - loss: 3.9923 - accuracy: 0.74 - ETA: 0s - loss: 4.1990 - accuracy: 0.72 - ETA: 0s - loss: 4.1815 - accuracy: 0.72 - ETA: 0s - loss: 4.1878 - accuracy: 0.72 - ETA: 0s - loss: 4.1543 - accuracy: 0.73 - ETA: 0s - loss: 4.1010 - accuracy: 0.73 - ETA: 0s - loss: 4.0490 - accuracy: 0.73 - ETA: 0s - loss: 4.0807 - accuracy: 0.73 - ETA: 0s - loss: 4.0536 - accuracy: 0.73 - ETA: 0s - loss: 4.0632 - accuracy: 0.73 - ETA: 0s - loss: 4.0705 - accuracy: 0.73 - 1s 1ms/step - loss: 4.0592 - accuracy: 0.7368 - val_loss: 4.1957 - val_accuracy: 0.7280\n",
      "Epoch 6/100\n",
      "529/529 [==============================] - ETA: 0s - loss: 0.0000e+00 - accuracy: 1.00 - ETA: 0s - loss: 3.8383 - accuracy: 0.7512   - ETA: 0s - loss: 3.7746 - accuracy: 0.75 - ETA: 0s - loss: 3.8440 - accuracy: 0.75 - ETA: 0s - loss: 3.9306 - accuracy: 0.74 - ETA: 0s - loss: 4.0388 - accuracy: 0.73 - ETA: 0s - loss: 4.0452 - accuracy: 0.73 - ETA: 0s - loss: 4.0671 - accuracy: 0.73 - ETA: 0s - loss: 4.0339 - accuracy: 0.73 - ETA: 0s - loss: 4.0138 - accuracy: 0.73 - ETA: 0s - loss: 4.0276 - accuracy: 0.73 - ETA: 0s - loss: 4.0805 - accuracy: 0.73 - ETA: 0s - loss: 4.0759 - accuracy: 0.73 - 1s 1ms/step - loss: 4.0592 - accuracy: 0.7368 - val_loss: 4.1957 - val_accuracy: 0.7280\n",
      "Epoch 7/100\n",
      "529/529 [==============================] - ETA: 0s - loss: 7.7125 - accuracy: 0.50 - ETA: 0s - loss: 3.9965 - accuracy: 0.74 - ETA: 0s - loss: 4.0514 - accuracy: 0.73 - ETA: 0s - loss: 3.8438 - accuracy: 0.75 - ETA: 0s - loss: 4.0692 - accuracy: 0.73 - ETA: 0s - loss: 4.0319 - accuracy: 0.73 - ETA: 0s - loss: 4.0347 - accuracy: 0.73 - ETA: 0s - loss: 4.0950 - accuracy: 0.73 - ETA: 0s - loss: 4.0635 - accuracy: 0.73 - ETA: 0s - loss: 4.0474 - accuracy: 0.73 - ETA: 0s - loss: 4.0183 - accuracy: 0.73 - ETA: 0s - loss: 4.0162 - accuracy: 0.73 - ETA: 0s - loss: 4.0457 - accuracy: 0.73 - ETA: 0s - loss: 4.0444 - accuracy: 0.73 - 1s 2ms/step - loss: 4.0592 - accuracy: 0.7368 - val_loss: 4.1957 - val_accuracy: 0.7280\n",
      "Epoch 8/100\n",
      "529/529 [==============================] - ETA: 0s - loss: 3.0850 - accuracy: 0.80 - ETA: 0s - loss: 3.8156 - accuracy: 0.75 - ETA: 0s - loss: 4.2314 - accuracy: 0.72 - ETA: 0s - loss: 3.9883 - accuracy: 0.74 - ETA: 0s - loss: 4.0581 - accuracy: 0.73 - ETA: 0s - loss: 3.9723 - accuracy: 0.74 - ETA: 0s - loss: 3.9899 - accuracy: 0.74 - ETA: 0s - loss: 3.9400 - accuracy: 0.74 - ETA: 0s - loss: 3.9358 - accuracy: 0.74 - ETA: 0s - loss: 3.9992 - accuracy: 0.74 - ETA: 0s - loss: 4.0378 - accuracy: 0.73 - ETA: 0s - loss: 4.0588 - accuracy: 0.73 - ETA: 0s - loss: 4.0796 - accuracy: 0.73 - ETA: 0s - loss: 4.0389 - accuracy: 0.73 - 1s 2ms/step - loss: 4.0592 - accuracy: 0.7368 - val_loss: 4.1957 - val_accuracy: 0.7280\n",
      "Epoch 9/100\n",
      "529/529 [==============================] - ETA: 0s - loss: 1.5425 - accuracy: 0.90 - ETA: 0s - loss: 3.9100 - accuracy: 0.74 - ETA: 0s - loss: 3.8562 - accuracy: 0.75 - ETA: 0s - loss: 3.8754 - accuracy: 0.74 - ETA: 0s - loss: 4.0431 - accuracy: 0.73 - ETA: 0s - loss: 3.9923 - accuracy: 0.74 - ETA: 0s - loss: 3.9700 - accuracy: 0.74 - ETA: 0s - loss: 4.0705 - accuracy: 0.73 - ETA: 0s - loss: 4.0414 - accuracy: 0.73 - ETA: 0s - loss: 3.9940 - accuracy: 0.74 - ETA: 0s - loss: 3.9817 - accuracy: 0.74 - ETA: 0s - loss: 4.0198 - accuracy: 0.73 - ETA: 0s - loss: 4.0330 - accuracy: 0.73 - 1s 1ms/step - loss: 4.0592 - accuracy: 0.7368 - val_loss: 4.1957 - val_accuracy: 0.7280\n",
      "Epoch 10/100\n",
      "529/529 [==============================] - ETA: 0s - loss: 4.6275 - accuracy: 0.70 - ETA: 0s - loss: 3.4706 - accuracy: 0.77 - ETA: 0s - loss: 3.7548 - accuracy: 0.75 - ETA: 0s - loss: 3.9947 - accuracy: 0.74 - ETA: 0s - loss: 4.0566 - accuracy: 0.73 - ETA: 0s - loss: 4.0089 - accuracy: 0.74 - ETA: 0s - loss: 4.0977 - accuracy: 0.73 - ETA: 0s - loss: 4.1095 - accuracy: 0.73 - ETA: 0s - loss: 4.1333 - accuracy: 0.73 - ETA: 0s - loss: 4.1353 - accuracy: 0.73 - ETA: 0s - loss: 4.1028 - accuracy: 0.73 - ETA: 0s - loss: 4.0991 - accuracy: 0.73 - ETA: 0s - loss: 4.0478 - accuracy: 0.73 - ETA: 0s - loss: 4.0542 - accuracy: 0.73 - 1s 2ms/step - loss: 4.0592 - accuracy: 0.7368 - val_loss: 4.1957 - val_accuracy: 0.7280\n",
      "Epoch 11/100\n",
      "529/529 [==============================] - ETA: 0s - loss: 6.1700 - accuracy: 0.60 - ETA: 0s - loss: 3.6686 - accuracy: 0.76 - ETA: 0s - loss: 3.9264 - accuracy: 0.74 - ETA: 0s - loss: 3.8693 - accuracy: 0.74 - ETA: 0s - loss: 4.0394 - accuracy: 0.73 - ETA: 0s - loss: 4.0044 - accuracy: 0.74 - ETA: 0s - loss: 4.0381 - accuracy: 0.73 - ETA: 0s - loss: 4.0083 - accuracy: 0.74 - ETA: 0s - loss: 3.9461 - accuracy: 0.74 - ETA: 0s - loss: 3.9899 - accuracy: 0.74 - ETA: 0s - loss: 3.9915 - accuracy: 0.74 - ETA: 0s - loss: 4.0111 - accuracy: 0.74 - ETA: 0s - loss: 4.0468 - accuracy: 0.73 - 1s 1ms/step - loss: 4.0592 - accuracy: 0.7368 - val_loss: 4.1957 - val_accuracy: 0.7280\n"
     ]
    }
   ],
   "source": [
    "model_object2 = model_2.fit(x=X_train_scaled, \n",
    "          y=y_train, \n",
    "          epochs=100, \n",
    "          batch_size=10,                  \n",
    "          validation_data=(X_test_scaled, y_test),\n",
    "          callbacks=[stopping])"
   ]
  },
  {
   "cell_type": "code",
   "execution_count": null,
   "metadata": {},
   "outputs": [],
   "source": []
  },
  {
   "cell_type": "code",
   "execution_count": null,
   "metadata": {},
   "outputs": [],
   "source": []
  },
  {
   "cell_type": "code",
   "execution_count": null,
   "metadata": {},
   "outputs": [],
   "source": []
  },
  {
   "cell_type": "code",
   "execution_count": null,
   "metadata": {},
   "outputs": [],
   "source": []
  },
  {
   "cell_type": "code",
   "execution_count": null,
   "metadata": {},
   "outputs": [],
   "source": []
  },
  {
   "cell_type": "code",
   "execution_count": null,
   "metadata": {},
   "outputs": [],
   "source": []
  },
  {
   "cell_type": "code",
   "execution_count": null,
   "metadata": {},
   "outputs": [],
   "source": []
  },
  {
   "cell_type": "code",
   "execution_count": null,
   "metadata": {},
   "outputs": [],
   "source": []
  },
  {
   "cell_type": "code",
   "execution_count": null,
   "metadata": {},
   "outputs": [],
   "source": []
  },
  {
   "cell_type": "code",
   "execution_count": null,
   "metadata": {},
   "outputs": [],
   "source": []
  },
  {
   "cell_type": "code",
   "execution_count": null,
   "metadata": {},
   "outputs": [],
   "source": []
  },
  {
   "cell_type": "code",
   "execution_count": null,
   "metadata": {},
   "outputs": [],
   "source": []
  },
  {
   "cell_type": "code",
   "execution_count": null,
   "metadata": {},
   "outputs": [],
   "source": []
  },
  {
   "cell_type": "code",
   "execution_count": null,
   "metadata": {},
   "outputs": [],
   "source": []
  },
  {
   "cell_type": "markdown",
   "metadata": {
    "colab_type": "text",
    "id": "FfZRtJ7MCN3x"
   },
   "source": [
    "## Stretch Goals:\n",
    "\n",
    "- Try to implement Random Search Hyperparameter Tuning on this dataset\n",
    "- Try to implement Bayesian Optimiation tuning on this dataset using hyperas or hyperopt (if you're brave)\n",
    "- Practice hyperparameter tuning other datasets that we have looked at. How high can you get MNIST? Above 99%?\n",
    "- Study for the Sprint Challenge\n",
    " - Can you implement both perceptron and MLP models from scratch with forward and backpropagation?\n",
    " - Can you implement both perceptron and MLP models in keras and tune their hyperparameters with cross validation?"
   ]
  }
 ],
 "metadata": {
  "colab": {
   "name": "LS_DS_434_Hyperparameter_Tuning_Assignment.ipynb",
   "provenance": [],
   "version": "0.3.2"
  },
  "kernelspec": {
   "display_name": "Python 3",
   "language": "python",
   "name": "python3"
  },
  "language_info": {
   "codemirror_mode": {
    "name": "ipython",
    "version": 3
   },
   "file_extension": ".py",
   "mimetype": "text/x-python",
   "name": "python",
   "nbconvert_exporter": "python",
   "pygments_lexer": "ipython3",
   "version": "3.8.3"
  }
 },
 "nbformat": 4,
 "nbformat_minor": 4
}
